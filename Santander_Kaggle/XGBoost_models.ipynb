{
 "cells": [
  {
   "cell_type": "code",
   "execution_count": 55,
   "metadata": {
    "collapsed": true
   },
   "outputs": [],
   "source": [
    "import os\n",
    "mingw_path = 'C:\\\\Program Files\\\\mingw-w64\\\\x86_64-5.3.0-posix-seh-rt_v4-rev0\\\\mingw64\\\\bin'\n",
    "os.environ['PATH'] = mingw_path + ';' + os.environ['PATH']"
   ]
  },
  {
   "cell_type": "code",
   "execution_count": 56,
   "metadata": {
    "collapsed": false
   },
   "outputs": [],
   "source": [
    "import pandas as pd\n",
    "import numpy as np\n",
    "import matplotlib.pyplot as plt\n",
    "\n",
    "%matplotlib inline\n",
    "\n",
    "from sklearn.cross_validation import train_test_split\n",
    "from sklearn.metrics import roc_auc_score\n",
    "from sklearn.ensemble import ExtraTreesClassifier\n",
    "from sklearn.feature_selection import SelectFromModel\n",
    "\n",
    "import xgboost as xgb"
   ]
  },
  {
   "cell_type": "code",
   "execution_count": 57,
   "metadata": {
    "collapsed": false
   },
   "outputs": [
    {
     "data": {
      "text/plain": [
       "((76020, 371), (75818, 370))"
      ]
     },
     "execution_count": 57,
     "metadata": {},
     "output_type": "execute_result"
    }
   ],
   "source": [
    "#load data\n",
    "train = pd.read_csv('train.csv')\n",
    "test = pd.read_csv('test.csv')\n",
    "\n",
    "train.shape, test.shape"
   ]
  },
  {
   "cell_type": "code",
   "execution_count": 58,
   "metadata": {
    "collapsed": true
   },
   "outputs": [],
   "source": [
    "# Add feature with sum of zero values per rows\n",
    "\n",
    "# train set\n",
    "X = train.iloc[:,:-1]\n",
    "y = train.TARGET\n",
    "\n",
    "X['no0'] = (X==0).sum(axis=1)\n",
    "train['no0'] = X['no0']\n",
    "\n",
    "# test set\n",
    "X = test.iloc[:,:]\n",
    "X['no0'] = (X==0).sum(axis=1)\n",
    "test['no0'] = X['no0']"
   ]
  },
  {
   "cell_type": "code",
   "execution_count": 59,
   "metadata": {
    "collapsed": false
   },
   "outputs": [
    {
     "data": {
      "text/plain": [
       "34"
      ]
     },
     "execution_count": 59,
     "metadata": {},
     "output_type": "execute_result"
    }
   ],
   "source": [
    "# remove columns with 0 variance\n",
    "remove = []\n",
    "for col in train.columns:\n",
    "    if train[col].std() == 0:\n",
    "        remove.append(col)\n",
    "\n",
    "len(remove)"
   ]
  },
  {
   "cell_type": "code",
   "execution_count": 60,
   "metadata": {
    "collapsed": false
   },
   "outputs": [],
   "source": [
    "train.drop(remove, axis = 1, inplace=True)\n",
    "test.drop(remove, axis = 1, inplace=True)"
   ]
  },
  {
   "cell_type": "code",
   "execution_count": 61,
   "metadata": {
    "collapsed": false
   },
   "outputs": [
    {
     "data": {
      "text/plain": [
       "29"
      ]
     },
     "execution_count": 61,
     "metadata": {},
     "output_type": "execute_result"
    }
   ],
   "source": [
    "# remove duplicated columns\n",
    "dup_cols = []\n",
    "cols = train.columns\n",
    "for i in range(len(cols)-1):\n",
    "    v = train[cols[i]].values\n",
    "    for j in range(i+1, len(cols)):\n",
    "        if np.array_equal(v, train[cols[j]].values):\n",
    "            dup_cols.append(cols[j])\n",
    "            \n",
    "len(dup_cols)"
   ]
  },
  {
   "cell_type": "code",
   "execution_count": 62,
   "metadata": {
    "collapsed": true
   },
   "outputs": [],
   "source": [
    "train.drop(dup_cols, axis=1, inplace = True)\n",
    "test.drop(dup_cols, axis=1, inplace=True)"
   ]
  },
  {
   "cell_type": "code",
   "execution_count": 63,
   "metadata": {
    "collapsed": false
   },
   "outputs": [
    {
     "data": {
      "text/plain": [
       "((76020, 309), (75818, 308))"
      ]
     },
     "execution_count": 63,
     "metadata": {},
     "output_type": "execute_result"
    }
   ],
   "source": [
    "train.shape, test.shape"
   ]
  },
  {
   "cell_type": "code",
   "execution_count": 64,
   "metadata": {
    "collapsed": true
   },
   "outputs": [],
   "source": [
    "# split data into training and testing set\n",
    "test_id = test.ID\n",
    "test.drop(['ID'], axis= 1, inplace=True)\n",
    "\n",
    "X = train.drop(['TARGET', 'ID'], axis=1)\n",
    "y = train.TARGET.values\n",
    "\n",
    "X_train, X_test, y_train, y_test = train_test_split(X, y, test_size=0.2,\n",
    "                                                    random_state=1729 )"
   ]
  },
  {
   "cell_type": "code",
   "execution_count": 65,
   "metadata": {
    "collapsed": false
   },
   "outputs": [
    {
     "data": {
      "text/plain": [
       "((76020, 307), (75818, 307))"
      ]
     },
     "execution_count": 65,
     "metadata": {},
     "output_type": "execute_result"
    }
   ],
   "source": [
    "X.shape, test.shape"
   ]
  },
  {
   "cell_type": "code",
   "execution_count": 66,
   "metadata": {
    "collapsed": true
   },
   "outputs": [],
   "source": [
    "## Feature selection\n",
    "clf = ExtraTreesClassifier(random_state=1729)\n",
    "selector = clf.fit(X_train, y_train)"
   ]
  },
  {
   "cell_type": "code",
   "execution_count": 67,
   "metadata": {
    "collapsed": false
   },
   "outputs": [
    {
     "data": {
      "image/png": "[encoded data removed]",
      "text/plain": [
       "<matplotlib.figure.Figure at 0x62a4550b70>"
      ]
     },
     "metadata": {},
     "output_type": "display_data"
    }
   ],
   "source": [
    "# plot most important features\n",
    "feat_imp = pd.Series(clf.feature_importances_, index = X_train.columns.values)\n",
    "feat_imp = feat_imp.sort_values(ascending=False)\n",
    "feat_imp[:40].plot(kind='bar', title = 'Feature Importance according to XGBoost')\n",
    "plt.ylabel('Feature Importance Score')\n",
    "plt.subplots_adjust(bottom = 0.3)\n",
    "\n",
    "fig = plt.gcf()\n",
    "fig.set_size_inches(18, 6)"
   ]
  },
  {
   "cell_type": "code",
   "execution_count": 68,
   "metadata": {
    "collapsed": false
   },
   "outputs": [
    {
     "data": {
      "text/plain": [
       "var38                     0.393154\n",
       "var15                     0.169927\n",
       "saldo_medio_var5_ult3     0.025693\n",
       "saldo_medio_var5_hace3    0.025365\n",
       "num_var45_ult3            0.018504\n",
       "dtype: float64"
      ]
     },
     "execution_count": 68,
     "metadata": {},
     "output_type": "execute_result"
    }
   ],
   "source": [
    "feat_imp.head()"
   ]
  },
  {
   "cell_type": "code",
   "execution_count": 69,
   "metadata": {
    "collapsed": false
   },
   "outputs": [],
   "source": [
    "# clf.feature_importances_ \n",
    "fs = SelectFromModel(selector, prefit=True)\n",
    "\n",
    "X_train = fs.transform(X_train)\n",
    "X_test = fs.transform(X_test)"
   ]
  },
  {
   "cell_type": "code",
   "execution_count": 70,
   "metadata": {
    "collapsed": false
   },
   "outputs": [
    {
     "data": {
      "text/plain": [
       "((60816, 32), (15204, 32), (75818, 307))"
      ]
     },
     "execution_count": 70,
     "metadata": {},
     "output_type": "execute_result"
    }
   ],
   "source": [
    "X_train.shape, X_test.shape, test.shape"
   ]
  },
  {
   "cell_type": "code",
   "execution_count": 71,
   "metadata": {
    "collapsed": false
   },
   "outputs": [
    {
     "name": "stdout",
     "output_type": "stream",
     "text": [
      "Roc AUC test:  0.830484959049\n",
      "Roc AUC train:  0.872230973963\n"
     ]
    }
   ],
   "source": [
    "## Model 1: Train Model\n",
    "\n",
    "# classifier from xgboost\n",
    "m2_xgb = xgb.XGBClassifier(n_estimators=110, nthread=-1, max_depth = 4, seed=1729)\n",
    "m2_xgb.fit(X_train, y_train, eval_metric=\"auc\", verbose = False,\n",
    "           eval_set=[(X_test, y_test)])\n",
    "\n",
    "print(\"Roc AUC test: \", roc_auc_score(y_test, m2_xgb.predict_proba(X_test)[:,1],\n",
    "              average='macro'))\n",
    "\n",
    "print(\"Roc AUC train: \", roc_auc_score(y_train, m2_xgb.predict_proba(X_train)[:,1],\n",
    "              average='macro'))"
   ]
  },
  {
   "cell_type": "code",
   "execution_count": 72,
   "metadata": {
    "collapsed": false
   },
   "outputs": [
    {
     "name": "stdout",
     "output_type": "stream",
     "text": [
      "Roc AUC test:  0.829305525603\n",
      "Roc AUC train:  0.872912575629\n"
     ]
    }
   ],
   "source": [
    "## Second Model, with 40 features selected from ExtraTrees Classifier\n",
    "train = pd.read_csv('train_clean.csv')\n",
    "test = pd.read_csv('test_clean.csv')\n",
    "\n",
    "vars_to_keep = feat_imp.index.values[0:40]\n",
    "vars_to_keep = list(vars_to_keep)\n",
    "\n",
    "X_train, X_test, y_train, y_test = train_test_split(train[vars_to_keep], y, test_size=0.2,\n",
    "                                                    random_state=1729 )\n",
    "\n",
    "# classifier from xgboost\n",
    "m2_xgb = xgb.XGBClassifier(n_estimators=110, nthread=-1, max_depth = 4, seed=1729)\n",
    "m2_xgb.fit(X_train, y_train, eval_metric=\"auc\", verbose = False,\n",
    "           eval_set=[(X_test, y_test)])\n",
    "\n",
    "print(\"Roc AUC test: \", roc_auc_score(y_test, m2_xgb.predict_proba(X_test)[:,1],\n",
    "              average='macro'))\n",
    "\n",
    "print(\"Roc AUC train: \", roc_auc_score(y_train, m2_xgb.predict_proba(X_train)[:,1],\n",
    "              average='macro'))"
   ]
  },
  {
   "cell_type": "code",
   "execution_count": 73,
   "metadata": {
    "collapsed": false
   },
   "outputs": [
    {
     "name": "stdout",
     "output_type": "stream",
     "text": [
      "Roc AUC test:  0.82170993446\n",
      "Roc AUC train:  0.859168066531\n"
     ]
    }
   ],
   "source": [
    "## Third Model, with features selected from small Boruta Classifier\n",
    "boruta_vars = ['var15', 'num_var37_med_ult2', 'num_var37_0', 'saldo_var5', 'saldo_var30', 'saldo_var37', 'saldo_var42',\n",
    "               'num_var22_hace3', 'num_var22_ult3', 'num_med_var45_ult3', 'num_meses_var5_ult3', 'num_var45_hace2',\n",
    "               'num_var45_hace3', 'num_var45_ult3', 'saldo_medio_var5_hace2', 'saldo_medio_var5_ult1', 'saldo_medio_var5_ult3',\n",
    "               'no0']\n",
    "\n",
    "X_train, X_test, y_train, y_test = train_test_split(train[boruta_vars], y, test_size=0.2,\n",
    "                                                    random_state=1729 )\n",
    "\n",
    "# classifier from xgboost\n",
    "m2_xgb = xgb.XGBClassifier(n_estimators=110, nthread=-1, max_depth = 4, seed=1729)\n",
    "m2_xgb.fit(X_train, y_train, eval_metric=\"auc\", verbose = False,\n",
    "           eval_set=[(X_test, y_test)])\n",
    "\n",
    "print(\"Roc AUC test: \", roc_auc_score(y_test, m2_xgb.predict_proba(X_test)[:,1],\n",
    "              average='macro'))\n",
    "\n",
    "print(\"Roc AUC train: \", roc_auc_score(y_train, m2_xgb.predict_proba(X_train)[:,1],\n",
    "              average='macro'))"
   ]
  },
  {
   "cell_type": "code",
   "execution_count": 74,
   "metadata": {
    "collapsed": false
   },
   "outputs": [
    {
     "data": {
      "text/plain": [
       "['num_var37_med_ult2', 'num_var37_0', 'saldo_var37']"
      ]
     },
     "execution_count": 74,
     "metadata": {},
     "output_type": "execute_result"
    }
   ],
   "source": [
    "## Fourth Model, with features selected from small Boruta + ExtraTrees Classifier\n",
    "vars_to_keep = feat_imp.index.values[0:32]\n",
    "vars_to_keep = list(vars_to_keep)\n",
    "\n",
    "diff_vars =[]\n",
    "for var in boruta_vars:\n",
    "    if var not in vars_to_keep:\n",
    "        diff_vars.append(var)\n",
    "        \n",
    "diff_vars"
   ]
  },
  {
   "cell_type": "code",
   "execution_count": 75,
   "metadata": {
    "collapsed": false
   },
   "outputs": [
    {
     "data": {
      "text/plain": [
       "35"
      ]
     },
     "execution_count": 75,
     "metadata": {},
     "output_type": "execute_result"
    }
   ],
   "source": [
    "for var in diff_vars:\n",
    "    vars_to_keep.append(var)\n",
    "\n",
    "len(vars_to_keep)"
   ]
  },
  {
   "cell_type": "code",
   "execution_count": 76,
   "metadata": {
    "collapsed": false
   },
   "outputs": [
    {
     "name": "stdout",
     "output_type": "stream",
     "text": [
      "Roc AUC test:  0.830456083303\n",
      "Roc AUC train:  0.873007348683\n"
     ]
    }
   ],
   "source": [
    "X_train, X_test, y_train, y_test = train_test_split(train[vars_to_keep], y, test_size=0.2,\n",
    "                                                    random_state=1729 )\n",
    "\n",
    "# classifier from xgboost\n",
    "m2_xgb = xgb.XGBClassifier(n_estimators=110, nthread=-1, max_depth = 4, seed=1729)\n",
    "m2_xgb.fit(X_train, y_train, eval_metric=\"auc\", verbose = False,\n",
    "           eval_set=[(X_test, y_test)])\n",
    "\n",
    "print(\"Roc AUC test: \", roc_auc_score(y_test, m2_xgb.predict_proba(X_test)[:,1],\n",
    "              average='macro'))\n",
    "\n",
    "print(\"Roc AUC train: \", roc_auc_score(y_train, m2_xgb.predict_proba(X_train)[:,1],\n",
    "              average='macro'))"
   ]
  },
  {
   "cell_type": "code",
   "execution_count": 78,
   "metadata": {
    "collapsed": false
   },
   "outputs": [
    {
     "name": "stdout",
     "output_type": "stream",
     "text": [
      "Roc AUC test:  0.829386576455\n",
      "Roc AUC train:  0.872121075796\n"
     ]
    }
   ],
   "source": [
    "## Fifth Model, with features selected from big Boruta Classifier\n",
    "boruta_big_vars = vars_to_keep = ['var38','var15','imp_op_var39_comer_ult3','imp_op_var41_comer_ult3',\n",
    "                'imp_op_var41_efect_ult1','imp_op_var41_efect_ult3','imp_op_var41_ult1',\n",
    "                'imp_op_var39_efect_ult1','imp_op_var39_efect_ult3','imp_op_var39_ult1',\n",
    "                'ind_var37_cte','ind_var37_0', 'num_op_var41_hace2','num_op_var41_ult1',\n",
    "                'num_op_var41_ult3','num_op_var39_ult1','num_op_var39_ult3','num_var37_med_ult2',\n",
    "                'num_var37_0', 'saldo_var5', 'saldo_var30', 'saldo_var37', 'saldo_var42', 'num_var22_hace2',\n",
    "                'num_var22_hace3', 'num_var22_ult3', 'num_med_var22_ult3', 'num_med_var45_ult3', 'num_meses_var5_ult3',\n",
    "                'num_op_var39_comer_ult1','num_op_var39_comer_ult3', 'num_op_var41_comer_ult1', 'num_op_var41_comer_ult3',\n",
    "                'num_var45_hace2', 'num_var45_hace3', 'num_var45_ult1', 'num_var45_ult3', 'saldo_medio_var5_hace2',\n",
    "                'saldo_medio_var5_ult1','saldo_medio_var5_ult3', 'no0']\n",
    "\n",
    "X_train, X_test, y_train, y_test = train_test_split(train[boruta_big_vars], y, test_size=0.2,\n",
    "                                                    random_state=1729 )\n",
    "\n",
    "# classifier from xgboost\n",
    "m2_xgb = xgb.XGBClassifier(n_estimators=110, nthread=-1, max_depth = 4, seed=1729)\n",
    "m2_xgb.fit(X_train, y_train, eval_metric=\"auc\", verbose = False,\n",
    "           eval_set=[(X_test, y_test)])\n",
    "\n",
    "print(\"Roc AUC test: \", roc_auc_score(y_test, m2_xgb.predict_proba(X_test)[:,1],\n",
    "              average='macro'))\n",
    "\n",
    "print(\"Roc AUC train: \", roc_auc_score(y_train, m2_xgb.predict_proba(X_train)[:,1],\n",
    "              average='macro'))"
   ]
  },
  {
   "cell_type": "code",
   "execution_count": null,
   "metadata": {
    "collapsed": true
   },
   "outputs": [],
   "source": [
    "## # Submission\n",
    "probs = m2_xgb.predict_proba(test[boruta_big_vars])\n",
    "\n",
    "submission = pd.DataFrame({\"ID\":test_id, \"TARGET\": probs[:,1]})\n",
    "submission.to_csv(\"submission_1.csv\", index=False)"
   ]
  },
  {
   "cell_type": "markdown",
   "metadata": {},
   "source": [
    "### For each selected:\n",
    "\n",
    "1) Generate 4 binary variables segregated by quartiles.\n",
    "\n",
    "2) Generate the log transformation.\n",
    "\n",
    "3) Select the best of the 6 against the target variable, and drop the rest."
   ]
  },
  {
   "cell_type": "code",
   "execution_count": null,
   "metadata": {
    "collapsed": true
   },
   "outputs": [],
   "source": [
    "# categorisation by quantiles + add log transformation\n",
    "def feat_eng(col, data):\n",
    "    a = False\n",
    "    try:\n",
    "        temp = pd.qcut(data[col], [0, .25, .5, .75, 1], labels = ['FirstQ','SecondQ','ThirdQ','FourthQ'])\n",
    "        temp_dummies = pd.get_dummies(temp)\n",
    "        a = True\n",
    "    except:\n",
    "        pass\n",
    "    \n",
    "    if a:\n",
    "        temp_dummies['log'] = np.log(data[col]+1)\n",
    "        temp_dummies['asis'] = data[col]\n",
    "    else:\n",
    "        temp_dummies = pd.DataFrame(index=data.index, columns= ['asis', 'log'])\n",
    "        temp_dummies['log'] = np.log(data[col]+1)\n",
    "        temp_dummies['asis'] = data[col]\n",
    "        \n",
    "    return temp_dummies"
   ]
  },
  {
   "cell_type": "code",
   "execution_count": null,
   "metadata": {
    "collapsed": true
   },
   "outputs": [],
   "source": [
    "# feature selection function\n",
    "def check_features(Y,features):\n",
    "    X_train, X_test, Y_train, Y_test = train_test_split(features, Y, test_size=0.2, random_state=42)\n",
    "    clf = ExtraTreesClassifier(random_state=1729)\n",
    "    selector = clf.fit(X_train, y_train)\n",
    "    \n",
    "    feat_imp = pd.Series(clf.feature_importances_, index = features.columns.values)\n",
    "    feat_imp = feat_imp.sort_values(ascending=False)\n",
    "    #selector = SelectKBest(f_regression, k = 1)\n",
    "    #selector.fit(X_train, Y_train)\n",
    "    \n",
    "    return feat_imp.index[0]"
   ]
  },
  {
   "cell_type": "code",
   "execution_count": null,
   "metadata": {
    "collapsed": true
   },
   "outputs": [],
   "source": [
    "import warnings\n",
    "warnings.filterwarnings('ignore')\n",
    "\n",
    "train_sm = train[boruta_big_vars]\n",
    "test_sm = test[boruta_big_vars]\n",
    "\n",
    "for col in boruta_big_vars:\n",
    "    var = feat_eng(col, train_sm)\n",
    "    var.log.fillna(var.log.mean(), inplace = True)\n",
    "\n",
    "    temp = check_features(y,var)\n",
    "    col_name = col + '_' + temp\n",
    "    train_sm[col_name] = var[temp]\n",
    "    train_sm.drop(col, axis = 1, inplace = True)\n",
    "    \n",
    "    # for the test set\n",
    "    var = feat_eng(col, test_sm)\n",
    "    var.log.fillna(var.log.mean(), inplace = True)\n",
    "    test_sm[col_name] = var[temp]\n",
    "    test_sm.drop(col, axis = 1, inplace = True)"
   ]
  },
  {
   "cell_type": "code",
   "execution_count": null,
   "metadata": {
    "collapsed": false
   },
   "outputs": [],
   "source": [
    "# Sixth Model\n",
    "\n",
    "# split data into training and testing set\n",
    "X_train, X_test, y_train, y_test = train_test_split(train_sm, y, test_size=0.2,\n",
    "                                                    random_state=1729 )\n",
    "\n",
    "## # Train Model\n",
    "# classifier from xgboost\n",
    "m2_xgb = xgb.XGBClassifier(n_estimators=110, nthread=-1, max_depth = 4, seed=1729)\n",
    "m2_xgb.fit(X_train, y_train, eval_metric=\"auc\", verbose = False,\n",
    "           eval_set=[(X_test, y_test)])\n",
    "\n",
    "print(\"Roc AUC test: \", roc_auc_score(y_test, m2_xgb.predict_proba(X_test)[:,1],\n",
    "              average='macro'))\n",
    "\n",
    "print(\"Roc AUC train: \", roc_auc_score(y_train, m2_xgb.predict_proba(X_train)[:,1],\n",
    "              average='macro'))"
   ]
  },
  {
   "cell_type": "code",
   "execution_count": null,
   "metadata": {
    "collapsed": false
   },
   "outputs": [],
   "source": [
    "## Model Optimisation\n",
    "from xgboost.sklearn import XGBClassifier\n",
    "from sklearn.grid_search import RandomizedSearchCV\n",
    "\n",
    "xgbparams = {'learning_rate' : 0.1, \n",
    "                     'n_estimators': 50,\n",
    "                     'max_depth': 5,\n",
    "                     'min_child_weight': 1,\n",
    "                     'gamma': 0,\n",
    "                     'subsample': 0.8,\n",
    "                     'colsample_bytree': 0.8,\n",
    "                     'objective' : 'binary:logistic',\n",
    "                     'nthread': 4,\n",
    "                     'scale_pos_weight': 1,\n",
    "                     'seed' : 27}\n",
    "\n",
    "# split data into training and testing set (smaller train set so it doesn't take forever)\n",
    "X_train, X_test, y_train, y_test = train_test_split(train[boruta_big_vars], y, test_size=0.8,\n",
    "                                                    random_state=1729 )\n",
    "\n",
    "xgb_model = XGBClassifier(xgbparams, nthread=-1)\n",
    "\n",
    "clf = RandomizedSearchCV(\n",
    "    xgb_model,\n",
    "    {\n",
    "        'max_depth': [1,3,5,7,9],\n",
    "        'min_child_weight':[1,3,5,7],\n",
    "        'subsample':[i/10 for i in range(6,10)],\n",
    "        'colsample_bytree':[i/10 for i in range(6,10)],\n",
    "        'reg_alpha':[1e-5, 1e-2, 0.1, 1, 100],\n",
    "        'learning_rate':[0.01, 0.03, 0.1, 0.3, 1],\n",
    "        'n_estimators':[10, 100, 500, 1000],\n",
    "        'gamma':[0.01,0.1,1,10]\n",
    "    },\n",
    "    cv=5,\n",
    "    verbose=0,\n",
    "    n_jobs=1,\n",
    "    scoring = 'roc_auc'\n",
    ")\n",
    "\n",
    "clf.fit(X_train, y_train)\n",
    "clf.best_params_"
   ]
  },
  {
   "cell_type": "code",
   "execution_count": null,
   "metadata": {
    "collapsed": false
   },
   "outputs": [],
   "source": [
    "#final model with the optimised parameters (copy from the above solution)\n",
    "X_train, X_test, y_train, y_test = train_test_split(train[boruta_big_vars], y, test_size=0.2,\n",
    "                                                    random_state=1729)\n",
    "\n",
    "m2_xgb = xgb.XGBClassifier(n_estimators=100, learning_rate=0.03, max_depth = 7, min_child_weight =5,\n",
    "                           subsample = 0.6, colsample_bytree=0.9, reg_alpha= 0.01, gamma=0.1,\n",
    "                           nthread=4, seed=1729)\n",
    "\n",
    "m2_xgb.fit(X_train, y_train, eval_metric=\"auc\", verbose = False,\n",
    "           eval_set=[(X_test, y_test)])\n",
    "\n",
    "\n",
    "print(\"Roc AUC test: \", roc_auc_score(y_test, m2_xgb.predict_proba(X_test)[:,1],\n",
    "              average='macro'))\n",
    "\n",
    "print(\"Roc AUC train: \", roc_auc_score(y_train, m2_xgb.predict_proba(X_train)[:,1],\n",
    "              average='macro'))"
   ]
  },
  {
   "cell_type": "code",
   "execution_count": null,
   "metadata": {
    "collapsed": true
   },
   "outputs": [],
   "source": []
  }
 ],
 "metadata": {
  "kernelspec": {
   "display_name": "Python 3",
   "language": "python",
   "name": "python3"
  },
  "language_info": {
   "codemirror_mode": {
    "name": "ipython",
    "version": 3
   },
   "file_extension": ".py",
   "mimetype": "text/x-python",
   "name": "python",
   "nbconvert_exporter": "python",
   "pygments_lexer": "ipython3",
   "version": "3.5.1"
  }
 },
 "nbformat": 4,
 "nbformat_minor": 0
}
