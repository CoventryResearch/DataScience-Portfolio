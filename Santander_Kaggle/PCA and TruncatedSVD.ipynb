{
 "cells": [
  {
   "cell_type": "code",
   "execution_count": 1,
   "metadata": {
    "collapsed": true
   },
   "outputs": [],
   "source": [
    "import os\n",
    "mingw_path = 'C:\\\\Program Files\\\\mingw-w64\\\\x86_64-5.3.0-posix-seh-rt_v4-rev0\\\\mingw64\\\\bin'\n",
    "os.environ['PATH'] = mingw_path + ';' + os.environ['PATH']"
   ]
  },
  {
   "cell_type": "code",
   "execution_count": 2,
   "metadata": {
    "collapsed": true
   },
   "outputs": [],
   "source": [
    "import pandas as pd\n",
    "import numpy as np\n",
    "from math import ceil\n",
    "\n",
    "import matplotlib.pyplot as plt\n",
    "%matplotlib inline\n",
    "\n",
    "from sklearn.cross_validation import train_test_split\n",
    "from sklearn.metrics import roc_auc_score\n",
    "from sklearn.decomposition import PCA, KernelPCA, TruncatedSVD\n",
    "from sklearn.preprocessing import StandardScaler\n",
    "\n",
    "from sklearn.ensemble import ExtraTreesClassifier\n",
    "from sklearn.feature_selection import SelectFromModel, SelectKBest, f_classif\n",
    "\n",
    "import xgboost as xgb"
   ]
  },
  {
   "cell_type": "code",
   "execution_count": 3,
   "metadata": {
    "collapsed": true
   },
   "outputs": [],
   "source": [
    "#load data\n",
    "train = pd.read_csv('train_clean.csv')\n",
    "test = pd.read_csv('test_clean.csv')\n",
    "\n",
    "y_target = pd.read_csv('train.csv')['TARGET']\n",
    "test_id = pd.read_csv('test.csv')['ID']"
   ]
  },
  {
   "cell_type": "code",
   "execution_count": 4,
   "metadata": {
    "collapsed": true
   },
   "outputs": [],
   "source": [
    "# split data into train and test set (train set 50%)\n",
    "X_train, X_test, y_train, y_test = train_test_split(train, y_target, test_size=0.5,random_state=290977)"
   ]
  },
  {
   "cell_type": "code",
   "execution_count": 5,
   "metadata": {
    "collapsed": true
   },
   "outputs": [],
   "source": [
    "# to select Principal components it is necessary to standarise the features\n",
    "std_model = StandardScaler()\n",
    "X_train = std_model.fit_transform(X_train)\n",
    "X_test = std_model.transform(X_test)\n",
    "\n",
    "test = std_model.transform(test)"
   ]
  },
  {
   "cell_type": "code",
   "execution_count": 6,
   "metadata": {
    "collapsed": false
   },
   "outputs": [
    {
     "data": {
      "text/plain": [
       "PCA(copy=True, n_components=8, whiten=False)"
      ]
     },
     "execution_count": 6,
     "metadata": {},
     "output_type": "execute_result"
    }
   ],
   "source": [
    "# Principal component analysis\n",
    "pca_mod = PCA(n_components = 8)\n",
    "pca_mod.fit(X_train)"
   ]
  },
  {
   "cell_type": "code",
   "execution_count": 7,
   "metadata": {
    "collapsed": false
   },
   "outputs": [
    {
     "data": {
      "text/plain": [
       "array([ 0.08721071,  0.05937304,  0.04304532,  0.03885253,  0.03249657,\n",
       "        0.03159644,  0.03070391,  0.02816655])"
      ]
     },
     "execution_count": 7,
     "metadata": {},
     "output_type": "execute_result"
    }
   ],
   "source": [
    "pca_mod.explained_variance_ratio_"
   ]
  },
  {
   "cell_type": "code",
   "execution_count": 8,
   "metadata": {
    "collapsed": false
   },
   "outputs": [
    {
     "data": {
      "text/plain": [
       "((38010, 8), (38010, 8))"
      ]
     },
     "execution_count": 8,
     "metadata": {},
     "output_type": "execute_result"
    }
   ],
   "source": [
    "X_train_pca = pca_mod.transform(X_train)\n",
    "X_test_pca = pca_mod.transform(X_test)\n",
    "\n",
    "X_train_pca.shape, X_test_pca.shape"
   ]
  },
  {
   "cell_type": "code",
   "execution_count": 9,
   "metadata": {
    "collapsed": false
   },
   "outputs": [
    {
     "name": "stdout",
     "output_type": "stream",
     "text": [
      "running cross validation\n",
      "   test-auc-mean  test-auc-std  train-auc-mean  train-auc-std\n",
      "0       0.747377      0.014812        0.767501       0.004081\n",
      "1       0.771801      0.010288        0.794503       0.004627\n",
      "2       0.779852      0.011254        0.804728       0.002806\n",
      "3       0.782828      0.010473        0.814308       0.002713\n",
      "4       0.782498      0.011473        0.822538       0.003407\n",
      "5       0.780539      0.013045        0.827215       0.003172\n",
      "6       0.778380      0.015297        0.831498       0.003136\n",
      "7       0.776859      0.014850        0.836088       0.003893\n",
      "8       0.779498      0.012895        0.839943       0.004661\n",
      "9       0.778201      0.012507        0.844654       0.004594\n",
      "Best Interaction:  3\n",
      "=======================\n",
      "building model and testing on test set\n",
      "[0]\teval-error:0.039358\ttrain-error:0.039779\n",
      "[1]\teval-error:0.039358\ttrain-error:0.039779\n",
      "[2]\teval-error:0.039411\ttrain-error:0.039805\n",
      "[3]\teval-error:0.039411\ttrain-error:0.039805\n",
      "[4]\teval-error:0.039411\ttrain-error:0.039805\n",
      "Best Inter:  4\n",
      "Roc AUC test:  0.784516062845\n"
     ]
    }
   ],
   "source": [
    "## Model 1: Train Model\n",
    "\n",
    "# generate sparse matrices\n",
    "dtrain = xgb.DMatrix(X_train_pca, label = y_train)\n",
    "dtest = xgb.DMatrix(X_test_pca, label = y_test)\n",
    "\n",
    "#dtest_sub = xgb.DMatrix(test)\n",
    "\n",
    "# do crossvalidation\n",
    "print ('running cross validation')\n",
    "param = {'max_depth':4, 'eta':1, 'silent':0, 'objective':'binary:logistic'}\n",
    "num_round = 10\n",
    "\n",
    "model_cv = xgb.cv(param, dtrain, num_round, nfold = 5,  metrics={'auc'}, seed = 0)\n",
    "print(model_cv.T.T)\n",
    "bestIter = model_cv.T.loc['test-auc-mean'].idxmax()\n",
    "print(\"Best Interaction: \", bestIter)\n",
    "print('=======================')\n",
    "print ('building model and testing on test set')\n",
    "watchlist  = [(dtest,'eval'), (dtrain,'train')]\n",
    "num_round = ceil(int(bestIter) * 1.5)\n",
    "\n",
    "xgb_model = xgb.train(param, dtrain, num_round, watchlist)\n",
    "prediction = xgb_model.predict(dtest)\n",
    "print('Best Inter: ', xgb_model.best_iteration)\n",
    "print(\"Roc AUC test: \", roc_auc_score(y_test, prediction, average='macro'))"
   ]
  },
  {
   "cell_type": "code",
   "execution_count": 10,
   "metadata": {
    "collapsed": false
   },
   "outputs": [
    {
     "data": {
      "text/plain": [
       "TruncatedSVD(algorithm='randomized', n_components=10, n_iter=5,\n",
       "       random_state=None, tol=0.0)"
      ]
     },
     "execution_count": 10,
     "metadata": {},
     "output_type": "execute_result"
    }
   ],
   "source": [
    "# Truncated single value decomposition for dimensionality reduction\n",
    "svd_mod = TruncatedSVD(n_components =10)\n",
    "svd_mod.fit(X_train)"
   ]
  },
  {
   "cell_type": "code",
   "execution_count": 11,
   "metadata": {
    "collapsed": false
   },
   "outputs": [
    {
     "data": {
      "text/plain": [
       "array([ 0.08721071,  0.05937302,  0.04304514,  0.03885128,  0.03249106,\n",
       "        0.03159044,  0.03069211,  0.02816362,  0.02506688,  0.02292882])"
      ]
     },
     "execution_count": 11,
     "metadata": {},
     "output_type": "execute_result"
    }
   ],
   "source": [
    "svd_mod.explained_variance_ratio_"
   ]
  },
  {
   "cell_type": "code",
   "execution_count": 12,
   "metadata": {
    "collapsed": true
   },
   "outputs": [],
   "source": [
    "X_train_svd = svd_mod.transform(X_train)\n",
    "X_test_svd = svd_mod.transform(X_test)\n",
    "\n",
    "test_svd = svd_mod.transform(test)"
   ]
  },
  {
   "cell_type": "code",
   "execution_count": 13,
   "metadata": {
    "collapsed": false
   },
   "outputs": [
    {
     "name": "stdout",
     "output_type": "stream",
     "text": [
      "running cross validation\n",
      "   test-auc-mean  test-auc-std  train-auc-mean  train-auc-std\n",
      "0       0.747882      0.013762        0.766662       0.004329\n",
      "1       0.767692      0.011574        0.790811       0.006006\n",
      "2       0.780323      0.012822        0.807599       0.003461\n",
      "3       0.778694      0.011714        0.816967       0.004401\n",
      "4       0.784280      0.009520        0.823267       0.004024\n",
      "5       0.782257      0.010463        0.830404       0.003309\n",
      "6       0.783902      0.010277        0.835638       0.002592\n",
      "7       0.783510      0.010866        0.839936       0.002060\n",
      "8       0.780411      0.008867        0.845243       0.001993\n",
      "9       0.777490      0.009596        0.849053       0.001800\n",
      "Best Interaction:  4\n",
      "=======================\n",
      "building model and testing on test set\n",
      "[0]\teval-error:0.039358\ttrain-error:0.039779\n",
      "[1]\teval-error:0.039358\ttrain-error:0.039779\n",
      "[2]\teval-error:0.039358\ttrain-error:0.039779\n",
      "[3]\teval-error:0.039411\ttrain-error:0.039884\n",
      "[4]\teval-error:0.039358\ttrain-error:0.039779\n",
      "[5]\teval-error:0.039411\ttrain-error:0.039884\n",
      "Best Inter:  5\n",
      "Roc AUC test:  0.784980978653\n"
     ]
    }
   ],
   "source": [
    "# generate sparse matrices\n",
    "dtrain = xgb.DMatrix(X_train_svd, label = y_train)\n",
    "dtest = xgb.DMatrix(X_test_svd, label = y_test)\n",
    "\n",
    "dtest_sub = xgb.DMatrix(test_svd)\n",
    "\n",
    "# do crossvalidation\n",
    "print ('running cross validation')\n",
    "param = {'max_depth':4, 'eta':1, 'silent':0, 'objective':'binary:logistic'}\n",
    "num_round = 10\n",
    "\n",
    "model_cv = xgb.cv(param, dtrain, num_round, nfold = 5,  metrics={'auc'}, seed = 0)\n",
    "print(model_cv.T.T)\n",
    "bestIter = model_cv.T.loc['test-auc-mean'].idxmax()\n",
    "print(\"Best Interaction: \", bestIter)\n",
    "print('=======================')\n",
    "print ('building model and testing on test set')\n",
    "watchlist  = [(dtest,'eval'), (dtrain,'train')]\n",
    "num_round = ceil(int(bestIter) * 1.5)\n",
    "\n",
    "xgb_model = xgb.train(param, dtrain, num_round, watchlist)\n",
    "prediction = xgb_model.predict(dtest)\n",
    "print('Best Inter: ', xgb_model.best_iteration)\n",
    "print(\"Roc AUC test: \", roc_auc_score(y_test, prediction, average='macro'))"
   ]
  },
  {
   "cell_type": "code",
   "execution_count": 14,
   "metadata": {
    "collapsed": true
   },
   "outputs": [],
   "source": [
    "# save prediction for model stacking\n",
    "prediction = xgb_model.predict(dtest)\n",
    "submission = pd.DataFrame({\"TARGET\": prediction})\n",
    "submission.to_csv(\"test_xgb_SDV.csv\", index=False)"
   ]
  },
  {
   "cell_type": "code",
   "execution_count": 15,
   "metadata": {
    "collapsed": true
   },
   "outputs": [],
   "source": [
    "# submission\n",
    "prediction = xgb_model.predict(dtest_sub)\n",
    "submission = pd.DataFrame({\"ID\":test_id, \"TARGET\": prediction})\n",
    "submission.to_csv(\"submission_xgb_svd.csv\", index=False)"
   ]
  },
  {
   "cell_type": "code",
   "execution_count": null,
   "metadata": {
    "collapsed": false
   },
   "outputs": [
    {
     "name": "stdout",
     "output_type": "stream",
     "text": [
      "running cross validation\n",
      "    test-auc-mean  test-auc-std  train-auc-mean  train-auc-std\n",
      "0        0.744949      0.024065        0.745082       0.004998\n",
      "1        0.747328      0.023331        0.747275       0.006187\n",
      "2        0.750062      0.023265        0.750510       0.005432\n",
      "3        0.752460      0.023043        0.753355       0.004885\n",
      "4        0.753547      0.023186        0.755064       0.005101\n",
      "5        0.754174      0.022992        0.755648       0.005216\n",
      "6        0.754509      0.022799        0.756160       0.005344\n",
      "7        0.754945      0.022396        0.756557       0.005344\n",
      "8        0.755624      0.022143        0.757176       0.005392\n",
      "9        0.755697      0.021908        0.757353       0.005585\n",
      "10       0.756030      0.021821        0.757727       0.005525\n",
      "11       0.756284      0.021343        0.757995       0.005571\n",
      "12       0.756302      0.020941        0.758258       0.005479\n",
      "13       0.756361      0.020835        0.758464       0.005459\n",
      "14       0.756465      0.020940        0.758732       0.005316\n",
      "15       0.756830      0.020842        0.758886       0.005380\n",
      "16       0.756995      0.020852        0.759020       0.005392\n",
      "17       0.757165      0.020719        0.759235       0.005335\n",
      "18       0.757394      0.020902        0.759314       0.005258\n",
      "19       0.757423      0.020803        0.759288       0.005294\n",
      "Best Interaction:  19\n",
      "=======================\n",
      "building model and testing on test set\n",
      "[0]\teval-error:0.039490\ttrain-error:0.039779\n",
      "[1]\teval-error:0.039595\ttrain-error:0.039884\n",
      "[2]\teval-error:0.039542\ttrain-error:0.039911\n",
      "[3]\teval-error:0.039621\ttrain-error:0.039911\n",
      "[4]\teval-error:0.039647\ttrain-error:0.039911\n",
      "[5]\teval-error:0.039647\ttrain-error:0.039911\n",
      "[6]\teval-error:0.039647\ttrain-error:0.039911\n",
      "[7]\teval-error:0.039595\ttrain-error:0.039911\n",
      "[8]\teval-error:0.039569\ttrain-error:0.039911\n",
      "[9]\teval-error:0.039595\ttrain-error:0.039911\n",
      "[10]\teval-error:0.039569\ttrain-error:0.039911\n",
      "[11]\teval-error:0.039569\ttrain-error:0.039911\n",
      "[12]\teval-error:0.039569\ttrain-error:0.039911\n",
      "[13]\teval-error:0.039569\ttrain-error:0.039911\n",
      "[14]\teval-error:0.039569\ttrain-error:0.039911\n",
      "[15]\teval-error:0.039569\ttrain-error:0.039911\n",
      "[16]\teval-error:0.039569\ttrain-error:0.039911\n",
      "[17]\teval-error:0.039542\ttrain-error:0.039911\n",
      "[18]\teval-error:0.039569\ttrain-error:0.039911\n",
      "[19]\teval-error:0.039542\ttrain-error:0.039911\n",
      "[20]\teval-error:0.039542\ttrain-error:0.039911\n",
      "[21]\teval-error:0.039542\ttrain-error:0.039911\n",
      "[22]\teval-error:0.039542\ttrain-error:0.039911\n",
      "[23]\teval-error:0.039542\ttrain-error:0.039911\n",
      "[24]\teval-error:0.039542\ttrain-error:0.039911\n",
      "[25]\teval-error:0.039542\ttrain-error:0.039911\n",
      "[26]\teval-error:0.039542\ttrain-error:0.039911\n",
      "[27]\teval-error:0.039542\ttrain-error:0.039911\n",
      "[28]\teval-error:0.039542\ttrain-error:0.039884\n",
      "Best Inter:  28\n",
      "Roc AUC test:  0.744727848142\n"
     ]
    }
   ],
   "source": [
    "# Try boosting on a linear model instead of trees\n",
    "# Truncated single value decomposition for dimensionality reduction\n",
    "svd_mod = TruncatedSVD(n_components =30)\n",
    "svd_mod.fit(X_train)\n",
    "\n",
    "X_train_svd = svd_mod.transform(X_train)\n",
    "X_test_svd = svd_mod.transform(X_test)\n",
    "\n",
    "test_svd = svd_mod.transform(test)\n",
    "\n",
    "dtrain = xgb.DMatrix(X_train_svd, label = y_train)\n",
    "dtest = xgb.DMatrix(X_test_svd, label = y_test)\n",
    "\n",
    "dtest_sub = xgb.DMatrix(test_svd)\n",
    "# do crossvalidation\n",
    "print ('running cross validation')\n",
    "param = {'max_depth':4, 'eta':1, 'silent':0, 'objective':'binary:logistic', 'booster':'gblinear'}\n",
    "num_round = 20\n",
    "\n",
    "model_cv = xgb.cv(param, dtrain, num_round, nfold = 5,  metrics={'auc'}, seed = 0)\n",
    "print(model_cv.T.T)\n",
    "bestIter = model_cv.T.loc['test-auc-mean'].idxmax()\n",
    "print(\"Best Interaction: \", bestIter)\n",
    "print('=======================')\n",
    "print ('building model and testing on test set')\n",
    "watchlist  = [(dtest,'eval'), (dtrain,'train')]\n",
    "num_round = ceil(int(bestIter) * 1.5)\n",
    "\n",
    "xgb_model = xgb.train(param, dtrain, num_round, watchlist)\n",
    "prediction = xgb_model.predict(dtest)\n",
    "print('Best Inter: ', xgb_model.best_iteration)\n",
    "print(\"Roc AUC test: \", roc_auc_score(y_test, prediction, average='macro'))"
   ]
  },
  {
   "cell_type": "code",
   "execution_count": null,
   "metadata": {
    "collapsed": false
   },
   "outputs": [],
   "source": [
    "# kernel pca for dimensionality reduction\n",
    "kpca = KernelPCA(kernel=\"rbf\")\n",
    "kpca.fit(X_train)"
   ]
  },
  {
   "cell_type": "code",
   "execution_count": null,
   "metadata": {
    "collapsed": false
   },
   "outputs": [],
   "source": [
    "X_train_kpca = kpca.transform(X_train)\n",
    "X_test_kpca = kpca.transform(X_test)\n",
    "\n",
    "X_train_kpca.shape"
   ]
  },
  {
   "cell_type": "code",
   "execution_count": null,
   "metadata": {
    "collapsed": false
   },
   "outputs": [],
   "source": [
    "## Feature selection\n",
    "clf = ExtraTreesClassifier(random_state=1729)\n",
    "selector = clf.fit(X_train_kpca, y_train)\n",
    "\n",
    "## recursive feature elimination from ExtraTrees Classifier\n",
    "fs = SelectFromModel(selector, prefit=True)\n",
    "\n",
    "# transform data for model validatio\n",
    "X_train_sm = fs.transform(X_train_kpca)\n",
    "X_test_sm = fs.transform(X_test_kpca)\n",
    "\n",
    "# also transform data for submission\n",
    "#test_sm = fs.transform(test)"
   ]
  },
  {
   "cell_type": "code",
   "execution_count": null,
   "metadata": {
    "collapsed": false
   },
   "outputs": [],
   "source": [
    "X_train_sm.shape"
   ]
  },
  {
   "cell_type": "code",
   "execution_count": null,
   "metadata": {
    "collapsed": false
   },
   "outputs": [],
   "source": [
    "# generate sparse matrices\n",
    "dtrain = xgb.DMatrix(X_train_sm, label = y_train)\n",
    "dtest = xgb.DMatrix(X_test_sm, label = y_test)\n",
    "\n",
    "#dtest_sub = xgb.DMatrix(test)\n",
    "\n",
    "# do crossvalidation\n",
    "print ('running cross validation')\n",
    "param = {'max_depth':4, 'eta':1, 'silent':0, 'objective':'binary:logistic'}\n",
    "num_round = 10\n",
    "\n",
    "model_cv = xgb.cv(param, dtrain, num_round, nfold = 5,  metrics={'auc'}, seed = 0)\n",
    "print(model_cv.T.T)\n",
    "bestIter = model_cv.T.loc['test-auc-mean'].idxmax()\n",
    "print(\"Best Interaction: \", bestIter)\n",
    "print('=======================')\n",
    "print ('building model and testing on test set')\n",
    "watchlist  = [(dtest,'eval'), (dtrain,'train')]\n",
    "num_round = ceil(int(bestIter) * 1.5)\n",
    "\n",
    "xgb_model = xgb.train(param, dtrain, num_round, watchlist)\n",
    "prediction = xgb_model.predict(dtest)\n",
    "print('Best Inter: ', xgb_model.best_iteration)\n",
    "print(\"Roc AUC test: \", roc_auc_score(y_test, prediction, average='macro'))"
   ]
  },
  {
   "cell_type": "code",
   "execution_count": null,
   "metadata": {
    "collapsed": false
   },
   "outputs": [],
   "source": [
    "fs2 = SelectKBest(f_classif, k=45)\n",
    "fs2.fit(X_train_kpca, y_train)\n",
    "\n",
    "# transform data for model validatio\n",
    "X_train_sm2 = fs2.transform(X_train_kpca)\n",
    "X_test_sm2 = fs2.transform(X_test_kpca)\n",
    "\n",
    "# also transform data for submission\n",
    "#test_sm = fs.transform(test)\n",
    "dtrain = xgb.DMatrix(X_train_sm2, label = y_train)\n",
    "dtest = xgb.DMatrix(X_test_sm2, label = y_test)\n",
    "\n",
    "print ('running cross validation')\n",
    "param = {'max_depth':4, 'eta':1, 'silent':0, 'objective':'binary:logistic'}\n",
    "num_round = 10\n",
    "\n",
    "model_cv = xgb.cv(param, dtrain, num_round, nfold = 5,  metrics={'auc'}, seed = 0)\n",
    "print(model_cv.T.T)\n",
    "bestIter = model_cv.T.loc['test-auc-mean'].idxmax()\n",
    "print(\"Best Interaction: \", bestIter)\n",
    "print('=======================')\n",
    "print ('building model and testing on test set')\n",
    "watchlist  = [(dtest,'eval'), (dtrain,'train')]\n",
    "num_round = ceil(int(bestIter) * 1.5)\n",
    "\n",
    "xgb_model = xgb.train(param, dtrain, num_round, watchlist)\n",
    "prediction = xgb_model.predict(dtest)\n",
    "print('Best Inter: ', xgb_model.best_iteration)\n",
    "print(\"Roc AUC test: \", roc_auc_score(y_test, prediction, average='macro'))"
   ]
  },
  {
   "cell_type": "code",
   "execution_count": null,
   "metadata": {
    "collapsed": false
   },
   "outputs": [],
   "source": [
    "dtrain = xgb.DMatrix(X_train_sm2, label = y_train)\n",
    "dtest = xgb.DMatrix(X_test_sm2, label = y_test)\n",
    "\n",
    "dtest_sub = xgb.DMatrix(test_svd)\n",
    "# do crossvalidation\n",
    "print ('running cross validation')\n",
    "param = {'max_depth':4, 'eta':1, 'silent':0, 'objective':'binary:logistic', 'booster':'gblinear'}\n",
    "num_round = 20\n",
    "\n",
    "model_cv = xgb.cv(param, dtrain, num_round, nfold = 5,  metrics={'auc'}, seed = 0)\n",
    "print(model_cv.T.T)\n",
    "bestIter = model_cv.T.loc['test-auc-mean'].idxmax()\n",
    "print(\"Best Interaction: \", bestIter)\n",
    "print('=======================')\n",
    "print ('building model and testing on test set')\n",
    "watchlist  = [(dtest,'eval'), (dtrain,'train')]\n",
    "num_round = ceil(int(bestIter) * 1.5)\n",
    "\n",
    "xgb_model = xgb.train(param, dtrain, num_round, watchlist)\n",
    "prediction = xgb_model.predict(dtest)\n",
    "print('Best Inter: ', xgb_model.best_iteration)\n",
    "print(\"Roc AUC test: \", roc_auc_score(y_test, prediction, average='macro'))"
   ]
  }
 ],
 "metadata": {
  "kernelspec": {
   "display_name": "Python 3",
   "language": "python",
   "name": "python3"
  },
  "language_info": {
   "codemirror_mode": {
    "name": "ipython",
    "version": 3
   },
   "file_extension": ".py",
   "mimetype": "text/x-python",
   "name": "python",
   "nbconvert_exporter": "python",
   "pygments_lexer": "ipython3",
   "version": "3.5.1"
  }
 },
 "nbformat": 4,
 "nbformat_minor": 0
}
