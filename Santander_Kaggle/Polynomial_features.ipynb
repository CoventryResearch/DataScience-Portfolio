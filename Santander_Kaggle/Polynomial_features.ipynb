{
 "cells": [
  {
   "cell_type": "code",
   "execution_count": 1,
   "metadata": {
    "collapsed": true
   },
   "outputs": [],
   "source": [
    "import os\n",
    "mingw_path = 'C:\\\\Program Files\\\\mingw-w64\\\\x86_64-5.3.0-posix-seh-rt_v4-rev0\\\\mingw64\\\\bin'\n",
    "os.environ['PATH'] = mingw_path + ';' + os.environ['PATH']"
   ]
  },
  {
   "cell_type": "code",
   "execution_count": 2,
   "metadata": {
    "collapsed": true
   },
   "outputs": [],
   "source": [
    "import pandas as pd\n",
    "import numpy as np\n",
    "from math import ceil\n",
    "\n",
    "import matplotlib.pyplot as plt\n",
    "%matplotlib inline\n",
    "\n",
    "from sklearn.cross_validation import train_test_split\n",
    "from sklearn.metrics import roc_auc_score\n",
    "from sklearn.preprocessing import PolynomialFeatures\n",
    "from sklearn.ensemble import ExtraTreesClassifier\n",
    "from sklearn.feature_selection import SelectFromModel, SelectKBest, f_classif\n",
    "from sklearn.linear_model import LogisticRegression\n",
    "from sklearn.preprocessing import StandardScaler\n",
    "\n",
    "import xgboost as xgb"
   ]
  },
  {
   "cell_type": "code",
   "execution_count": 3,
   "metadata": {
    "collapsed": false
   },
   "outputs": [
    {
     "data": {
      "text/plain": [
       "((76020, 12), (75818, 12))"
      ]
     },
     "execution_count": 3,
     "metadata": {},
     "output_type": "execute_result"
    }
   ],
   "source": [
    "#load data\n",
    "train = pd.read_csv('train_nonCorr.csv')\n",
    "test = pd.read_csv('test_nonCorr.csv')\n",
    "\n",
    "y = pd.read_csv('train.csv')['TARGET']\n",
    "test_id = pd.read_csv('test.csv')['ID']\n",
    "\n",
    "train.shape, test.shape"
   ]
  },
  {
   "cell_type": "code",
   "execution_count": 4,
   "metadata": {
    "collapsed": true
   },
   "outputs": [],
   "source": [
    "# separate train and test set, train 50%\n",
    "X_train, X_test, y_train, y_test = train_test_split(train, y, test_size=0.5,random_state=290977)"
   ]
  },
  {
   "cell_type": "code",
   "execution_count": 5,
   "metadata": {
    "collapsed": true
   },
   "outputs": [],
   "source": [
    "# Normalise features\n",
    "std_model = StandardScaler()\n",
    "X_train = std_model.fit_transform(X_train)\n",
    "X_test = std_model.transform(X_test)\n",
    "\n",
    "test = std_model.transform(test)"
   ]
  },
  {
   "cell_type": "code",
   "execution_count": 6,
   "metadata": {
    "collapsed": false
   },
   "outputs": [
    {
     "data": {
      "text/plain": [
       "PolynomialFeatures(degree=3, include_bias=False, interaction_only=False)"
      ]
     },
     "execution_count": 6,
     "metadata": {},
     "output_type": "execute_result"
    }
   ],
   "source": [
    "# Make polynomial features\n",
    "poly = PolynomialFeatures(degree = 3, include_bias=False)\n",
    "poly.fit(X_train)"
   ]
  },
  {
   "cell_type": "code",
   "execution_count": 7,
   "metadata": {
    "collapsed": false
   },
   "outputs": [
    {
     "data": {
      "text/plain": [
       "((38010, 454), (38010, 454))"
      ]
     },
     "execution_count": 7,
     "metadata": {},
     "output_type": "execute_result"
    }
   ],
   "source": [
    "X_train_poly = poly.transform(X_train)\n",
    "X_test_poly = poly.transform(X_test)\n",
    "\n",
    "test_poly = poly.transform(test)\n",
    "\n",
    "X_train_poly.shape, X_test_poly.shape"
   ]
  },
  {
   "cell_type": "code",
   "execution_count": 8,
   "metadata": {
    "collapsed": false
   },
   "outputs": [
    {
     "data": {
      "text/plain": [
       "((38010, 158), (38010, 158))"
      ]
     },
     "execution_count": 8,
     "metadata": {},
     "output_type": "execute_result"
    }
   ],
   "source": [
    "## Feature selection\n",
    "clf = ExtraTreesClassifier(random_state=1729)\n",
    "selector = clf.fit(X_train_poly, y_train)\n",
    "\n",
    "# clf.feature_importances_ \n",
    "fs = SelectFromModel(selector, prefit=True)\n",
    "\n",
    "X_train_poly_sm = fs.transform(X_train_poly)\n",
    "X_test_poly_sm = fs.transform(X_test_poly)\n",
    "\n",
    "test_poly_sm = fs.transform(test_poly)\n",
    "\n",
    "X_train_poly_sm.shape, X_test_poly_sm.shape"
   ]
  },
  {
   "cell_type": "code",
   "execution_count": 9,
   "metadata": {
    "collapsed": false
   },
   "outputs": [
    {
     "name": "stdout",
     "output_type": "stream",
     "text": [
      "running cross validation\n",
      "   test-auc-mean  test-auc-std  train-auc-mean  train-auc-std\n",
      "0       0.784845      0.014412        0.793491       0.004886\n",
      "1       0.797112      0.013032        0.818932       0.003563\n",
      "2       0.800776      0.011269        0.830045       0.003786\n",
      "3       0.805375      0.009634        0.839997       0.002118\n",
      "4       0.802310      0.010891        0.847614       0.002061\n",
      "5       0.798261      0.008634        0.854278       0.002105\n",
      "6       0.794799      0.011496        0.859929       0.002294\n",
      "7       0.791985      0.013527        0.865184       0.001881\n",
      "8       0.788798      0.013258        0.869741       0.002291\n",
      "9       0.786763      0.014562        0.874341       0.003238\n",
      "Best Interaction:  3\n",
      "=======================\n",
      "building model and testing on test set\n",
      "[0]\teval-error:0.039621\ttrain-error:0.039674\n",
      "[1]\teval-error:0.039358\ttrain-error:0.039700\n",
      "[2]\teval-error:0.039384\ttrain-error:0.039437\n",
      "[3]\teval-error:0.039437\ttrain-error:0.039437\n",
      "[4]\teval-error:0.039621\ttrain-error:0.039411\n",
      "Best Inter:  4\n",
      "Roc AUC test:  0.806078849252\n"
     ]
    }
   ],
   "source": [
    "# classifier from xgboost\n",
    "\n",
    "# generate sparse matrices\n",
    "dtrain = xgb.DMatrix(X_train_poly_sm, label = y_train)\n",
    "dtest = xgb.DMatrix(X_test_poly_sm, label = y_test)\n",
    "\n",
    "dtest_sub = xgb.DMatrix(test_poly_sm)\n",
    "\n",
    "# do crossvalidation\n",
    "print ('running cross validation')\n",
    "param = {'max_depth':4, 'eta':1, 'silent':0, 'objective':'binary:logistic'}\n",
    "num_round = 10\n",
    "\n",
    "model_cv = xgb.cv(param, dtrain, num_round, nfold = 5,  metrics={'auc'}, seed = 0)\n",
    "print(model_cv.T.T)\n",
    "bestIter = model_cv.T.loc['test-auc-mean'].idxmax()\n",
    "print(\"Best Interaction: \", bestIter)\n",
    "print('=======================')\n",
    "print ('building model and testing on test set')\n",
    "watchlist  = [(dtest,'eval'), (dtrain,'train')]\n",
    "num_round = ceil(int(bestIter) * 1.5)\n",
    "\n",
    "xgb_model = xgb.train(param, dtrain, num_round, watchlist)\n",
    "prediction = xgb_model.predict(dtest)\n",
    "print('Best Inter: ', xgb_model.best_iteration)\n",
    "print(\"Roc AUC test: \", roc_auc_score(y_test, prediction, average='macro'))"
   ]
  },
  {
   "cell_type": "code",
   "execution_count": 10,
   "metadata": {
    "collapsed": false
   },
   "outputs": [
    {
     "data": {
      "text/plain": [
       "((38010, 40), (38010, 40))"
      ]
     },
     "execution_count": 10,
     "metadata": {},
     "output_type": "execute_result"
    }
   ],
   "source": [
    "# Select K best features\n",
    "fs = SelectKBest(f_classif, k = 40).fit(X_train_poly, y_train)\n",
    "\n",
    "X_train_poly_sm = fs.transform(X_train_poly)\n",
    "X_test_poly_sm = fs.transform(X_test_poly)\n",
    "\n",
    "test_poly_sm = fs.transform(test_poly)\n",
    "\n",
    "X_train_poly_sm.shape, X_test_poly_sm.shape"
   ]
  },
  {
   "cell_type": "code",
   "execution_count": 11,
   "metadata": {
    "collapsed": false
   },
   "outputs": [
    {
     "name": "stdout",
     "output_type": "stream",
     "text": [
      "running cross validation\n",
      "   test-auc-mean  test-auc-std  train-auc-mean  train-auc-std\n",
      "0       0.796389      0.013274        0.803325       0.004273\n",
      "1       0.802455      0.011711        0.818759       0.005482\n",
      "2       0.805381      0.011407        0.830278       0.003689\n",
      "3       0.808906      0.007471        0.838884       0.003542\n",
      "4       0.806351      0.009997        0.845838       0.003046\n",
      "5       0.806891      0.012146        0.852174       0.003545\n",
      "6       0.806784      0.011806        0.857144       0.002704\n",
      "7       0.805296      0.011760        0.861432       0.001735\n",
      "8       0.803195      0.010570        0.864589       0.001307\n",
      "9       0.802498      0.010263        0.867349       0.002370\n",
      "Best Interaction:  3\n",
      "=======================\n",
      "building model and testing on test set\n",
      "[0]\teval-error:0.039516\ttrain-error:0.039516\n",
      "[1]\teval-error:0.039516\ttrain-error:0.039569\n",
      "[2]\teval-error:0.039516\ttrain-error:0.039542\n",
      "[3]\teval-error:0.039569\ttrain-error:0.039542\n",
      "[4]\teval-error:0.039595\ttrain-error:0.039358\n",
      "Best Inter:  4\n",
      "Roc AUC test:  0.814209356443\n"
     ]
    }
   ],
   "source": [
    "# classifier from xgboost\n",
    "\n",
    "# generate sparse matrices\n",
    "dtrain = xgb.DMatrix(X_train_poly_sm, label = y_train)\n",
    "dtest = xgb.DMatrix(X_test_poly_sm, label = y_test)\n",
    "\n",
    "dtest_sub = xgb.DMatrix(test_poly_sm)\n",
    "\n",
    "# do crossvalidation\n",
    "print ('running cross validation')\n",
    "param = {'max_depth':4, 'eta':1, 'silent':0, 'objective':'binary:logistic'}\n",
    "num_round = 10\n",
    "\n",
    "model_cv = xgb.cv(param, dtrain, num_round, nfold = 5,  metrics={'auc'}, seed = 0)\n",
    "print(model_cv.T.T)\n",
    "bestIter = model_cv.T.loc['test-auc-mean'].idxmax()\n",
    "print(\"Best Interaction: \", bestIter)\n",
    "print('=======================')\n",
    "print ('building model and testing on test set')\n",
    "watchlist  = [(dtest,'eval'), (dtrain,'train')]\n",
    "num_round = ceil(int(bestIter) * 1.5)\n",
    "\n",
    "xgb_model = xgb.train(param, dtrain, num_round, watchlist)\n",
    "prediction = xgb_model.predict(dtest)\n",
    "print('Best Inter: ', xgb_model.best_iteration)\n",
    "print(\"Roc AUC test: \", roc_auc_score(y_test, prediction, average='macro'))"
   ]
  },
  {
   "cell_type": "code",
   "execution_count": 12,
   "metadata": {
    "collapsed": true
   },
   "outputs": [],
   "source": [
    "## Save predictions for model stacking\n",
    "prediction = xgb_model.predict(dtest)\n",
    "submission = pd.DataFrame({\"TARGET\": prediction})\n",
    "submission.to_csv(\"test_xgb_polynomial.csv\", index=False)"
   ]
  },
  {
   "cell_type": "code",
   "execution_count": 13,
   "metadata": {
    "collapsed": true
   },
   "outputs": [],
   "source": [
    "## Submission\n",
    "prediction = xgb_model.predict(dtest_sub)\n",
    "submission = pd.DataFrame({\"ID\":test_id, \"TARGET\": prediction})\n",
    "submission.to_csv(\"submission_xgb_polynomial.csv\", index=False)"
   ]
  },
  {
   "cell_type": "code",
   "execution_count": 14,
   "metadata": {
    "collapsed": false
   },
   "outputs": [
    {
     "name": "stdout",
     "output_type": "stream",
     "text": [
      "running cross validation\n",
      "   test-auc-mean  test-auc-std  train-auc-mean  train-auc-std\n",
      "0       0.770650      0.020034        0.771281       0.006621\n",
      "1       0.772637      0.019822        0.776092       0.006030\n",
      "2       0.772934      0.019834        0.778971       0.004638\n",
      "3       0.773545      0.020544        0.781734       0.003400\n",
      "4       0.778826      0.017183        0.785304       0.003420\n",
      "5       0.779889      0.016951        0.786826       0.003541\n",
      "6       0.780436      0.017135        0.787575       0.003256\n",
      "7       0.780526      0.016490        0.787846       0.003422\n",
      "8       0.781256      0.016656        0.788221       0.003374\n",
      "9       0.781381      0.016798        0.788489       0.003400\n",
      "Best Interaction:  9\n",
      "=======================\n",
      "building model and testing on test set\n",
      "[0]\teval-error:0.039358\ttrain-error:0.039779\n",
      "[1]\teval-error:0.039384\ttrain-error:0.039779\n",
      "[2]\teval-error:0.039358\ttrain-error:0.039805\n",
      "[3]\teval-error:0.039358\ttrain-error:0.039805\n",
      "[4]\teval-error:0.039358\ttrain-error:0.039858\n",
      "[5]\teval-error:0.039384\ttrain-error:0.039832\n",
      "[6]\teval-error:0.039411\ttrain-error:0.039911\n",
      "[7]\teval-error:0.039411\ttrain-error:0.039937\n",
      "[8]\teval-error:0.039411\ttrain-error:0.039911\n",
      "[9]\teval-error:0.039358\ttrain-error:0.039911\n",
      "[10]\teval-error:0.039358\ttrain-error:0.039832\n",
      "[11]\teval-error:0.039358\ttrain-error:0.039832\n",
      "[12]\teval-error:0.039358\ttrain-error:0.039832\n",
      "[13]\teval-error:0.039358\ttrain-error:0.039858\n",
      "Best Inter:  13\n",
      "Roc AUC test:  0.781726760214\n"
     ]
    }
   ],
   "source": [
    "# classifier from xgboost: LINEAR\n",
    "\n",
    "# do crossvalidation\n",
    "print ('running cross validation')\n",
    "param = {'max_depth':4, 'eta':1, 'silent':0, 'objective':'binary:logistic', 'booster':'gblinear'}\n",
    "num_round = 10\n",
    "\n",
    "model_cv = xgb.cv(param, dtrain, num_round, nfold = 5,  metrics={'auc'}, seed = 0)\n",
    "print(model_cv.T.T)\n",
    "bestIter = model_cv.T.loc['test-auc-mean'].idxmax()\n",
    "print(\"Best Interaction: \", bestIter)\n",
    "print('=======================')\n",
    "print ('building model and testing on test set')\n",
    "watchlist  = [(dtest,'eval'), (dtrain,'train')]\n",
    "num_round = ceil(int(bestIter) * 1.5)\n",
    "\n",
    "xgb_model = xgb.train(param, dtrain, num_round, watchlist)\n",
    "prediction = xgb_model.predict(dtest)\n",
    "print('Best Inter: ', xgb_model.best_iteration)\n",
    "print(\"Roc AUC test: \", roc_auc_score(y_test, prediction, average='macro'))"
   ]
  },
  {
   "cell_type": "code",
   "execution_count": 16,
   "metadata": {
    "collapsed": true
   },
   "outputs": [],
   "source": [
    "## Save predictions for model stacking\n",
    "prediction = xgb_model.predict(dtest)\n",
    "submission = pd.DataFrame({\"TARGET\": prediction})\n",
    "submission.to_csv(\"test_xgb_polynomial_gblinear.csv\", index=False)"
   ]
  },
  {
   "cell_type": "code",
   "execution_count": 17,
   "metadata": {
    "collapsed": true
   },
   "outputs": [],
   "source": [
    "## Submission\n",
    "prediction = xgb_model.predict(dtest_sub)\n",
    "submission = pd.DataFrame({\"ID\":test_id, \"TARGET\": prediction})\n",
    "submission.to_csv(\"submission_xgb_polynomial_gblinear.csv\", index=False)"
   ]
  },
  {
   "cell_type": "code",
   "execution_count": 15,
   "metadata": {
    "collapsed": false
   },
   "outputs": [
    {
     "name": "stdout",
     "output_type": "stream",
     "text": [
      "Roc AUC test:  0.781378897157\n",
      "Roc AUC train:  0.788900315912\n"
     ]
    }
   ],
   "source": [
    "# logit\n",
    "logit = LogisticRegression()\n",
    "logit.fit(X_train_poly_sm, y_train)\n",
    "\n",
    "print(\"Roc AUC test: \", roc_auc_score(y_test,logit.predict_proba(X_test_poly_sm)[:,1],\n",
    "              average='macro'))\n",
    "\n",
    "print(\"Roc AUC train: \", roc_auc_score(y_train, logit.predict_proba(X_train_poly_sm)[:,1],\n",
    "              average='macro'))"
   ]
  }
 ],
 "metadata": {
  "kernelspec": {
   "display_name": "Python 3",
   "language": "python",
   "name": "python3"
  },
  "language_info": {
   "codemirror_mode": {
    "name": "ipython",
    "version": 3
   },
   "file_extension": ".py",
   "mimetype": "text/x-python",
   "name": "python",
   "nbconvert_exporter": "python",
   "pygments_lexer": "ipython3",
   "version": "3.5.1"
  }
 },
 "nbformat": 4,
 "nbformat_minor": 0
}
