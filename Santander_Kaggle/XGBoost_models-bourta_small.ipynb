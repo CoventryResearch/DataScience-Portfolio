{
 "cells": [
  {
   "cell_type": "code",
   "execution_count": 1,
   "metadata": {
    "collapsed": true
   },
   "outputs": [],
   "source": [
    "import os\n",
    "mingw_path = 'C:\\\\Program Files\\\\mingw-w64\\\\x86_64-5.3.0-posix-seh-rt_v4-rev0\\\\mingw64\\\\bin'\n",
    "os.environ['PATH'] = mingw_path + ';' + os.environ['PATH']"
   ]
  },
  {
   "cell_type": "code",
   "execution_count": 2,
   "metadata": {
    "collapsed": false
   },
   "outputs": [],
   "source": [
    "import pandas as pd\n",
    "import numpy as np\n",
    "from math import ceil\n",
    "import matplotlib.pyplot as plt\n",
    "\n",
    "%matplotlib inline\n",
    "\n",
    "from sklearn.cross_validation import train_test_split\n",
    "from sklearn.metrics import roc_auc_score\n",
    "from sklearn.ensemble import ExtraTreesClassifier\n",
    "from sklearn.feature_selection import SelectFromModel\n",
    "\n",
    "import xgboost as xgb"
   ]
  },
  {
   "cell_type": "code",
   "execution_count": 3,
   "metadata": {
    "collapsed": false
   },
   "outputs": [],
   "source": [
    "#load data\n",
    "train = pd.read_csv('train_clean.csv')\n",
    "test = pd.read_csv('test_clean.csv')\n",
    "\n",
    "y_target = pd.read_csv('train.csv')['TARGET']\n",
    "test_id = pd.read_csv('test.csv')['ID']"
   ]
  },
  {
   "cell_type": "code",
   "execution_count": 4,
   "metadata": {
    "collapsed": false
   },
   "outputs": [],
   "source": [
    "boruta_vars = boruta_big_vars = vars_to_keep = ['var38','var15','imp_op_var39_comer_ult3','imp_op_var41_comer_ult3',\n",
    "                'imp_op_var41_efect_ult1','imp_op_var41_efect_ult3','imp_op_var41_ult1',\n",
    "                'imp_op_var39_efect_ult1','imp_op_var39_efect_ult3','imp_op_var39_ult1',\n",
    "                'ind_var37_cte','ind_var37_0', 'num_op_var41_hace2','num_op_var41_ult1',\n",
    "                'num_op_var41_ult3','num_op_var39_ult1','num_op_var39_ult3','num_var37_med_ult2',\n",
    "                'num_var37_0', 'saldo_var5', 'saldo_var30', 'saldo_var37', 'saldo_var42', 'num_var22_hace2',\n",
    "                'num_var22_hace3', 'num_var22_ult3', 'num_med_var22_ult3', 'num_med_var45_ult3', 'num_meses_var5_ult3',\n",
    "                'num_op_var39_comer_ult1','num_op_var39_comer_ult3', 'num_op_var41_comer_ult1', 'num_op_var41_comer_ult3',\n",
    "                'num_var45_hace2', 'num_var45_hace3', 'num_var45_ult1', 'num_var45_ult3', 'saldo_medio_var5_hace2',\n",
    "                'saldo_medio_var5_ult1','saldo_medio_var5_ult3', 'no0']\n",
    "\n",
    "train = train[boruta_vars]\n",
    "test = test[boruta_vars]"
   ]
  },
  {
   "cell_type": "code",
   "execution_count": 5,
   "metadata": {
    "collapsed": true
   },
   "outputs": [],
   "source": [
    "# split data into training and testing set (50% in train set)\n",
    "X_train, X_test, y_train, y_test = train_test_split(train, y_target, test_size=0.5, random_state=290977)"
   ]
  },
  {
   "cell_type": "code",
   "execution_count": 6,
   "metadata": {
    "collapsed": false
   },
   "outputs": [
    {
     "data": {
      "text/plain": [
       "((38010, 41), (38010, 41), (75818, 41))"
      ]
     },
     "execution_count": 6,
     "metadata": {},
     "output_type": "execute_result"
    }
   ],
   "source": [
    "# check how many parameters I got\n",
    "X_train.shape, X_test.shape, test.shape"
   ]
  },
  {
   "cell_type": "code",
   "execution_count": 7,
   "metadata": {
    "collapsed": false
   },
   "outputs": [
    {
     "name": "stdout",
     "output_type": "stream",
     "text": [
      "running cross validation\n",
      "   test-auc-mean  test-auc-std  train-auc-mean  train-auc-std\n",
      "0       0.794546      0.011784        0.813062       0.003687\n",
      "1       0.808805      0.012272        0.829165       0.001919\n",
      "2       0.820587      0.010261        0.839291       0.002635\n",
      "3       0.823001      0.007834        0.846492       0.002167\n",
      "4       0.823291      0.009767        0.852774       0.003164\n",
      "5       0.822619      0.011264        0.856619       0.002764\n",
      "6       0.823006      0.011576        0.861671       0.002521\n",
      "7       0.822896      0.011316        0.864345       0.003345\n",
      "8       0.819530      0.011835        0.867473       0.002743\n",
      "9       0.816680      0.011707        0.871138       0.003531\n",
      "Best Interaction:  4\n",
      "=======================\n",
      "building model and testing on test set\n",
      "[0]\teval-error:0.039358\ttrain-error:0.039779\n",
      "[1]\teval-error:0.039490\ttrain-error:0.039674\n",
      "[2]\teval-error:0.039569\ttrain-error:0.039726\n",
      "[3]\teval-error:0.039516\ttrain-error:0.039674\n",
      "[4]\teval-error:0.039463\ttrain-error:0.039700\n",
      "[5]\teval-error:0.039963\ttrain-error:0.039726\n",
      "Best Inter:  5\n",
      "Roc AUC test:  0.825584187327\n"
     ]
    }
   ],
   "source": [
    "## Train Model\n",
    "\n",
    "# generate sparse matrices\n",
    "dtrain = xgb.DMatrix(X_train, label = y_train)\n",
    "dtest = xgb.DMatrix(X_test, label = y_test)\n",
    "\n",
    "dtest_sub = xgb.DMatrix(test)\n",
    "\n",
    "# do crossvalidation\n",
    "print ('running cross validation')\n",
    "param = {'max_depth':4, 'eta':1, 'silent':0, 'objective':'binary:logistic'}\n",
    "num_round = 10\n",
    "\n",
    "model_cv = xgb.cv(param, dtrain, num_round, nfold = 5,  metrics={'auc'}, seed = 0)\n",
    "print(model_cv.T.T)\n",
    "bestIter = model_cv.T.loc['test-auc-mean'].idxmax()\n",
    "print(\"Best Interaction: \", bestIter)\n",
    "print('=======================')\n",
    "print ('building model and testing on test set')\n",
    "watchlist  = [(dtest,'eval'), (dtrain,'train')]\n",
    "num_round = ceil(int(bestIter) * 1.5)\n",
    "\n",
    "xgb_model = xgb.train(param, dtrain, num_round, watchlist)\n",
    "prediction = xgb_model.predict(dtest)\n",
    "print('Best Inter: ', xgb_model.best_iteration)\n",
    "print(\"Roc AUC test: \", roc_auc_score(y_test, prediction, average='macro'))"
   ]
  },
  {
   "cell_type": "code",
   "execution_count": 8,
   "metadata": {
    "collapsed": false,
    "scrolled": true
   },
   "outputs": [],
   "source": [
    "# function to build model\n",
    "def optimise_xgb(param):\n",
    "    model_cv = xgb.cv(param, dtrain, num_round, nfold = 5,  metrics={'auc'}, seed = 0)\n",
    "    cross_val_auc =model_cv.T.loc['test-auc-mean'].max()\n",
    "    watchlist  = [(dtest,'eval'), (dtrain,'train')]\n",
    "    xgb_model = xgb.train(param, dtrain, num_round, watchlist)\n",
    "    prediction = xgb_model.predict(dtest)\n",
    "    test_auc = roc_auc_score(y_test, prediction, average='macro')\n",
    "    return cross_val_auc, test_auc"
   ]
  },
  {
   "cell_type": "code",
   "execution_count": 9,
   "metadata": {
    "collapsed": false,
    "scrolled": true
   },
   "outputs": [
    {
     "name": "stdout",
     "output_type": "stream",
     "text": [
      "[0]\teval-error:0.039358\ttrain-error:0.039779\n",
      "[1]\teval-error:0.039358\ttrain-error:0.039779\n",
      "[2]\teval-error:0.039358\ttrain-error:0.039779\n",
      "[3]\teval-error:0.039358\ttrain-error:0.039779\n",
      "[4]\teval-error:0.039358\ttrain-error:0.039779\n",
      "[5]\teval-error:0.039358\ttrain-error:0.039779\n",
      "[6]\teval-error:0.039358\ttrain-error:0.039779\n",
      "[7]\teval-error:0.039358\ttrain-error:0.039937\n",
      "[8]\teval-error:0.039358\ttrain-error:0.039937\n",
      "[9]\teval-error:0.039384\ttrain-error:0.039884\n",
      "[0]\teval-error:0.039358\ttrain-error:0.039779\n",
      "[1]\teval-error:0.039358\ttrain-error:0.039779\n",
      "[2]\teval-error:0.039358\ttrain-error:0.039779\n",
      "[3]\teval-error:0.039358\ttrain-error:0.039779\n",
      "[4]\teval-error:0.039595\ttrain-error:0.039884\n",
      "[5]\teval-error:0.039647\ttrain-error:0.039911\n",
      "[6]\teval-error:0.039384\ttrain-error:0.039726\n",
      "[7]\teval-error:0.039700\ttrain-error:0.039989\n",
      "[8]\teval-error:0.039674\ttrain-error:0.039937\n",
      "[9]\teval-error:0.039647\ttrain-error:0.039858\n",
      "[0]\teval-error:0.039358\ttrain-error:0.039779\n",
      "[1]\teval-error:0.039358\ttrain-error:0.039779\n",
      "[2]\teval-error:0.039358\ttrain-error:0.039779\n",
      "[3]\teval-error:0.039411\ttrain-error:0.039779\n",
      "[4]\teval-error:0.039463\ttrain-error:0.039753\n",
      "[5]\teval-error:0.039411\ttrain-error:0.039726\n",
      "[6]\teval-error:0.039832\ttrain-error:0.039779\n",
      "[7]\teval-error:0.039779\ttrain-error:0.039700\n",
      "[8]\teval-error:0.040200\ttrain-error:0.039674\n",
      "[9]\teval-error:0.040068\ttrain-error:0.039516\n",
      "[0]\teval-error:0.039358\ttrain-error:0.039779\n",
      "[1]\teval-error:0.039490\ttrain-error:0.039674\n",
      "[2]\teval-error:0.039569\ttrain-error:0.039726\n",
      "[3]\teval-error:0.039516\ttrain-error:0.039674\n",
      "[4]\teval-error:0.039463\ttrain-error:0.039700\n",
      "[5]\teval-error:0.039963\ttrain-error:0.039726\n",
      "[6]\teval-error:0.039858\ttrain-error:0.039437\n",
      "[7]\teval-error:0.040174\ttrain-error:0.039148\n",
      "[8]\teval-error:0.040042\ttrain-error:0.039095\n",
      "[9]\teval-error:0.040042\ttrain-error:0.039016\n",
      "[0]\teval-error:0.039542\ttrain-error:0.039674\n",
      "[1]\teval-error:0.039463\ttrain-error:0.039726\n",
      "[2]\teval-error:0.039595\ttrain-error:0.039542\n",
      "[3]\teval-error:0.039726\ttrain-error:0.039384\n",
      "[4]\teval-error:0.039569\ttrain-error:0.039227\n",
      "[5]\teval-error:0.040279\ttrain-error:0.038858\n",
      "[6]\teval-error:0.040384\ttrain-error:0.038542\n",
      "[7]\teval-error:0.040331\ttrain-error:0.038358\n",
      "[8]\teval-error:0.040410\ttrain-error:0.038148\n",
      "[9]\teval-error:0.040779\ttrain-error:0.037858\n",
      "[0]\teval-error:0.039911\ttrain-error:0.039279\n",
      "[1]\teval-error:0.039726\ttrain-error:0.039305\n",
      "[2]\teval-error:0.039989\ttrain-error:0.038858\n",
      "[3]\teval-error:0.040121\ttrain-error:0.038595\n",
      "[4]\teval-error:0.040358\ttrain-error:0.038306\n",
      "[5]\teval-error:0.040463\ttrain-error:0.037569\n",
      "[6]\teval-error:0.040621\ttrain-error:0.037306\n",
      "[7]\teval-error:0.040621\ttrain-error:0.036780\n",
      "[8]\teval-error:0.041410\ttrain-error:0.036780\n",
      "[9]\teval-error:0.041515\ttrain-error:0.036675\n",
      "[0]\teval-error:0.040174\ttrain-error:0.038963\n",
      "[1]\teval-error:0.039805\ttrain-error:0.038700\n",
      "[2]\teval-error:0.040068\ttrain-error:0.038437\n",
      "[3]\teval-error:0.040279\ttrain-error:0.037858\n",
      "[4]\teval-error:0.040489\ttrain-error:0.037622\n",
      "[5]\teval-error:0.041094\ttrain-error:0.037332\n",
      "[6]\teval-error:0.041594\ttrain-error:0.036701\n",
      "[7]\teval-error:0.041831\ttrain-error:0.035833\n",
      "[8]\teval-error:0.041778\ttrain-error:0.035333\n",
      "[9]\teval-error:0.042042\ttrain-error:0.034886\n"
     ]
    },
    {
     "data": {
      "text/plain": [
       "cross_val_auc    3\n",
       "test_auc         2\n",
       "dtype: int64"
      ]
     },
     "execution_count": 9,
     "metadata": {},
     "output_type": "execute_result"
    }
   ],
   "source": [
    "#optimise max_depth\n",
    "num_round = 10\n",
    "param_list = []\n",
    "cross_val_list = []\n",
    "test_auc_list = []\n",
    "for i in range(1,8):\n",
    "    param = {'max_depth':i, 'eta':1, 'silent':1, 'objective':'binary:logistic'}\n",
    "    cross_val_auc, test_auc = optimise_xgb(param)\n",
    "    cross_val_list.append(cross_val_auc), test_auc_list.append(test_auc), param_list.append(i)\n",
    "\n",
    "final_vals = pd.DataFrame([cross_val_list,test_auc_list]).T\n",
    "final_vals.columns = ['cross_val_auc', 'test_auc']\n",
    "final_vals.index = param_list\n",
    "final_vals.idxmax()"
   ]
  },
  {
   "cell_type": "code",
   "execution_count": 10,
   "metadata": {
    "collapsed": false,
    "scrolled": true
   },
   "outputs": [
    {
     "name": "stdout",
     "output_type": "stream",
     "text": [
      "[0]\teval-error:0.039358\ttrain-error:0.039779\n",
      "[1]\teval-error:0.039358\ttrain-error:0.039726\n",
      "[2]\teval-error:0.039358\ttrain-error:0.039726\n",
      "[3]\teval-error:0.039358\ttrain-error:0.039726\n",
      "[4]\teval-error:0.039358\ttrain-error:0.039726\n",
      "[5]\teval-error:0.039332\ttrain-error:0.039726\n",
      "[6]\teval-error:0.039358\ttrain-error:0.039726\n",
      "[7]\teval-error:0.039332\ttrain-error:0.039726\n",
      "[8]\teval-error:0.039332\ttrain-error:0.039726\n",
      "[9]\teval-error:0.039332\ttrain-error:0.039753\n",
      "[0]\teval-error:0.039358\ttrain-error:0.039779\n",
      "[1]\teval-error:0.039358\ttrain-error:0.039726\n",
      "[2]\teval-error:0.039358\ttrain-error:0.039726\n",
      "[3]\teval-error:0.039358\ttrain-error:0.039779\n",
      "[4]\teval-error:0.039358\ttrain-error:0.039753\n",
      "[5]\teval-error:0.039358\ttrain-error:0.039779\n",
      "[6]\teval-error:0.039358\ttrain-error:0.039779\n",
      "[7]\teval-error:0.039358\ttrain-error:0.039726\n",
      "[8]\teval-error:0.039358\ttrain-error:0.039726\n",
      "[9]\teval-error:0.039358\ttrain-error:0.039753\n",
      "[0]\teval-error:0.039358\ttrain-error:0.039779\n",
      "[1]\teval-error:0.039358\ttrain-error:0.039726\n",
      "[2]\teval-error:0.039358\ttrain-error:0.039779\n",
      "[3]\teval-error:0.039411\ttrain-error:0.039674\n",
      "[4]\teval-error:0.039411\ttrain-error:0.039700\n",
      "[5]\teval-error:0.039463\ttrain-error:0.039595\n",
      "[6]\teval-error:0.039463\ttrain-error:0.039595\n",
      "[7]\teval-error:0.039411\ttrain-error:0.039542\n",
      "[8]\teval-error:0.039437\ttrain-error:0.039463\n",
      "[9]\teval-error:0.039411\ttrain-error:0.039463\n",
      "[0]\teval-error:0.039358\ttrain-error:0.039779\n",
      "[1]\teval-error:0.039384\ttrain-error:0.039674\n",
      "[2]\teval-error:0.039358\ttrain-error:0.039700\n",
      "[3]\teval-error:0.039674\ttrain-error:0.039700\n",
      "[4]\teval-error:0.039700\ttrain-error:0.039621\n",
      "[5]\teval-error:0.039647\ttrain-error:0.039490\n",
      "[6]\teval-error:0.039805\ttrain-error:0.039437\n",
      "[7]\teval-error:0.039805\ttrain-error:0.039358\n",
      "[8]\teval-error:0.039753\ttrain-error:0.038858\n",
      "[9]\teval-error:0.039858\ttrain-error:0.038858\n"
     ]
    },
    {
     "data": {
      "text/plain": [
       "cross_val_auc    0.6\n",
       "test_auc         0.6\n",
       "dtype: float64"
      ]
     },
     "execution_count": 10,
     "metadata": {},
     "output_type": "execute_result"
    }
   ],
   "source": [
    "#optimise eta\n",
    "num_round = 10\n",
    "param_list = []\n",
    "cross_val_list = []\n",
    "test_auc_list = []\n",
    "for i in [0.1, 0.3, 0.6, 0.9]:\n",
    "    param = {'max_depth':4, 'eta': i, 'silent':1, 'objective':'binary:logistic'}\n",
    "    cross_val_auc, test_auc = optimise_xgb(param)\n",
    "    cross_val_list.append(cross_val_auc), test_auc_list.append(test_auc), param_list.append(i)\n",
    "\n",
    "final_vals = pd.DataFrame([cross_val_list,test_auc_list]).T\n",
    "final_vals.columns = ['cross_val_auc', 'test_auc']\n",
    "final_vals.index = param_list\n",
    "final_vals.idxmax()"
   ]
  },
  {
   "cell_type": "code",
   "execution_count": 11,
   "metadata": {
    "collapsed": false,
    "scrolled": true
   },
   "outputs": [
    {
     "name": "stdout",
     "output_type": "stream",
     "text": [
      "[0]\teval-error:0.039358\ttrain-error:0.039779\n",
      "[1]\teval-error:0.039358\ttrain-error:0.039726\n",
      "[2]\teval-error:0.039358\ttrain-error:0.039779\n",
      "[3]\teval-error:0.039411\ttrain-error:0.039674\n",
      "[4]\teval-error:0.039411\ttrain-error:0.039700\n",
      "[5]\teval-error:0.039463\ttrain-error:0.039595\n",
      "[6]\teval-error:0.039463\ttrain-error:0.039595\n",
      "[7]\teval-error:0.039411\ttrain-error:0.039542\n",
      "[8]\teval-error:0.039437\ttrain-error:0.039463\n",
      "[9]\teval-error:0.039411\ttrain-error:0.039463\n",
      "[0]\teval-error:0.039358\ttrain-error:0.039779\n",
      "[1]\teval-error:0.039358\ttrain-error:0.039726\n",
      "[2]\teval-error:0.039358\ttrain-error:0.039779\n",
      "[3]\teval-error:0.039411\ttrain-error:0.039674\n",
      "[4]\teval-error:0.039411\ttrain-error:0.039674\n",
      "[5]\teval-error:0.039490\ttrain-error:0.039621\n",
      "[6]\teval-error:0.039490\ttrain-error:0.039621\n",
      "[7]\teval-error:0.039411\ttrain-error:0.039595\n",
      "[8]\teval-error:0.039516\ttrain-error:0.039542\n",
      "[9]\teval-error:0.039490\ttrain-error:0.039595\n",
      "[0]\teval-error:0.039358\ttrain-error:0.039779\n",
      "[1]\teval-error:0.039358\ttrain-error:0.039779\n",
      "[2]\teval-error:0.039358\ttrain-error:0.039779\n",
      "[3]\teval-error:0.039358\ttrain-error:0.039753\n",
      "[4]\teval-error:0.039358\ttrain-error:0.039753\n",
      "[5]\teval-error:0.039437\ttrain-error:0.039700\n",
      "[6]\teval-error:0.039463\ttrain-error:0.039753\n",
      "[7]\teval-error:0.039463\ttrain-error:0.039726\n",
      "[8]\teval-error:0.039490\ttrain-error:0.039753\n",
      "[9]\teval-error:0.039490\ttrain-error:0.039621\n",
      "[0]\teval-error:0.039358\ttrain-error:0.039779\n",
      "[1]\teval-error:0.039358\ttrain-error:0.039779\n",
      "[2]\teval-error:0.039358\ttrain-error:0.039779\n",
      "[3]\teval-error:0.039358\ttrain-error:0.039779\n",
      "[4]\teval-error:0.039358\ttrain-error:0.039779\n",
      "[5]\teval-error:0.039358\ttrain-error:0.039779\n",
      "[6]\teval-error:0.039358\ttrain-error:0.039779\n",
      "[7]\teval-error:0.039358\ttrain-error:0.039779\n",
      "[8]\teval-error:0.039358\ttrain-error:0.039779\n",
      "[9]\teval-error:0.039358\ttrain-error:0.039779\n"
     ]
    },
    {
     "data": {
      "text/plain": [
       "cross_val_auc    0\n",
       "test_auc         1\n",
       "dtype: int64"
      ]
     },
     "execution_count": 11,
     "metadata": {},
     "output_type": "execute_result"
    }
   ],
   "source": [
    "#optimise gamma\n",
    "num_round = 10\n",
    "param_list = []\n",
    "cross_val_list = []\n",
    "test_auc_list = []\n",
    "for i in [0, 1, 10, 100]:\n",
    "    param = {'max_depth':4, 'eta': 0.6, 'gamma':i, 'silent':1, 'objective':'binary:logistic'}\n",
    "    cross_val_auc, test_auc = optimise_xgb(param)\n",
    "    cross_val_list.append(cross_val_auc), test_auc_list.append(test_auc), param_list.append(i)\n",
    "\n",
    "final_vals = pd.DataFrame([cross_val_list,test_auc_list]).T\n",
    "final_vals.columns = ['cross_val_auc', 'test_auc']\n",
    "final_vals.index = param_list\n",
    "final_vals.idxmax()"
   ]
  },
  {
   "cell_type": "code",
   "execution_count": 12,
   "metadata": {
    "collapsed": false,
    "scrolled": true
   },
   "outputs": [
    {
     "name": "stdout",
     "output_type": "stream",
     "text": [
      "[0]\teval-error:0.039358\ttrain-error:0.039779\n",
      "[1]\teval-error:0.039358\ttrain-error:0.039726\n",
      "[2]\teval-error:0.039358\ttrain-error:0.039779\n",
      "[3]\teval-error:0.039411\ttrain-error:0.039674\n",
      "[4]\teval-error:0.039411\ttrain-error:0.039674\n",
      "[5]\teval-error:0.039490\ttrain-error:0.039621\n",
      "[6]\teval-error:0.039490\ttrain-error:0.039621\n",
      "[7]\teval-error:0.039411\ttrain-error:0.039595\n",
      "[8]\teval-error:0.039516\ttrain-error:0.039542\n",
      "[9]\teval-error:0.039490\ttrain-error:0.039595\n",
      "[0]\teval-error:0.039358\ttrain-error:0.039779\n",
      "[1]\teval-error:0.039358\ttrain-error:0.039779\n",
      "[2]\teval-error:0.039358\ttrain-error:0.039779\n",
      "[3]\teval-error:0.039358\ttrain-error:0.039779\n",
      "[4]\teval-error:0.039358\ttrain-error:0.039779\n",
      "[5]\teval-error:0.039411\ttrain-error:0.039779\n",
      "[6]\teval-error:0.039490\ttrain-error:0.039779\n",
      "[7]\teval-error:0.039384\ttrain-error:0.039779\n",
      "[8]\teval-error:0.039490\ttrain-error:0.039621\n",
      "[9]\teval-error:0.039490\ttrain-error:0.039647\n",
      "[0]\teval-error:0.039358\ttrain-error:0.039779\n",
      "[1]\teval-error:0.039358\ttrain-error:0.039779\n",
      "[2]\teval-error:0.039358\ttrain-error:0.039779\n",
      "[3]\teval-error:0.039358\ttrain-error:0.039779\n",
      "[4]\teval-error:0.039358\ttrain-error:0.039779\n",
      "[5]\teval-error:0.039358\ttrain-error:0.039779\n",
      "[6]\teval-error:0.039358\ttrain-error:0.039779\n",
      "[7]\teval-error:0.039358\ttrain-error:0.039779\n",
      "[8]\teval-error:0.039358\ttrain-error:0.039779\n",
      "[9]\teval-error:0.039358\ttrain-error:0.039779\n"
     ]
    },
    {
     "data": {
      "text/plain": [
       "cross_val_auc    1\n",
       "test_auc         1\n",
       "dtype: int64"
      ]
     },
     "execution_count": 12,
     "metadata": {},
     "output_type": "execute_result"
    }
   ],
   "source": [
    "# optimise min child weight\n",
    "num_round = 10\n",
    "param_list = []\n",
    "cross_val_list = []\n",
    "test_auc_list = []\n",
    "for i in [1, 10, 100]:\n",
    "    param = {'max_depth':4, 'eta': 0.6, 'gamma':1, 'min_child_weight': i, 'silent':1, 'objective':'binary:logistic'}\n",
    "    cross_val_auc, test_auc = optimise_xgb(param)\n",
    "    cross_val_list.append(cross_val_auc), test_auc_list.append(test_auc), param_list.append(i)\n",
    "\n",
    "final_vals = pd.DataFrame([cross_val_list,test_auc_list]).T\n",
    "final_vals.columns = ['cross_val_auc', 'test_auc']\n",
    "final_vals.index = param_list\n",
    "final_vals.idxmax()"
   ]
  },
  {
   "cell_type": "code",
   "execution_count": 13,
   "metadata": {
    "collapsed": false,
    "scrolled": true
   },
   "outputs": [
    {
     "name": "stdout",
     "output_type": "stream",
     "text": [
      "[0]\teval-error:0.039358\ttrain-error:0.039779\n",
      "[1]\teval-error:0.039358\ttrain-error:0.039779\n",
      "[2]\teval-error:0.039358\ttrain-error:0.039779\n",
      "[3]\teval-error:0.039358\ttrain-error:0.039779\n",
      "[4]\teval-error:0.039358\ttrain-error:0.039779\n",
      "[5]\teval-error:0.039358\ttrain-error:0.039779\n",
      "[6]\teval-error:0.039358\ttrain-error:0.039832\n",
      "[7]\teval-error:0.039542\ttrain-error:0.039911\n",
      "[8]\teval-error:0.039621\ttrain-error:0.039911\n",
      "[9]\teval-error:0.039700\ttrain-error:0.039832\n",
      "[0]\teval-error:0.039358\ttrain-error:0.039779\n",
      "[1]\teval-error:0.039358\ttrain-error:0.039779\n",
      "[2]\teval-error:0.039358\ttrain-error:0.039779\n",
      "[3]\teval-error:0.039358\ttrain-error:0.039779\n",
      "[4]\teval-error:0.039384\ttrain-error:0.039779\n",
      "[5]\teval-error:0.039437\ttrain-error:0.039647\n",
      "[6]\teval-error:0.039411\ttrain-error:0.039674\n",
      "[7]\teval-error:0.039569\ttrain-error:0.039832\n",
      "[8]\teval-error:0.039621\ttrain-error:0.039700\n",
      "[9]\teval-error:0.039753\ttrain-error:0.039779\n",
      "[0]\teval-error:0.039358\ttrain-error:0.039779\n",
      "[1]\teval-error:0.039358\ttrain-error:0.039779\n",
      "[2]\teval-error:0.039358\ttrain-error:0.039779\n",
      "[3]\teval-error:0.039358\ttrain-error:0.039779\n",
      "[4]\teval-error:0.039358\ttrain-error:0.039779\n",
      "[5]\teval-error:0.039358\ttrain-error:0.039779\n",
      "[6]\teval-error:0.039358\ttrain-error:0.039779\n",
      "[7]\teval-error:0.039358\ttrain-error:0.039805\n",
      "[8]\teval-error:0.039384\ttrain-error:0.039805\n",
      "[9]\teval-error:0.039384\ttrain-error:0.039805\n",
      "[0]\teval-error:0.039358\ttrain-error:0.039779\n",
      "[1]\teval-error:0.039358\ttrain-error:0.039779\n",
      "[2]\teval-error:0.039358\ttrain-error:0.039779\n",
      "[3]\teval-error:0.039358\ttrain-error:0.039779\n",
      "[4]\teval-error:0.039358\ttrain-error:0.039779\n",
      "[5]\teval-error:0.039384\ttrain-error:0.039779\n",
      "[6]\teval-error:0.039358\ttrain-error:0.039753\n",
      "[7]\teval-error:0.039305\ttrain-error:0.039726\n",
      "[8]\teval-error:0.039384\ttrain-error:0.039700\n",
      "[9]\teval-error:0.039437\ttrain-error:0.039647\n",
      "[0]\teval-error:0.039358\ttrain-error:0.039779\n",
      "[1]\teval-error:0.039358\ttrain-error:0.039779\n",
      "[2]\teval-error:0.039358\ttrain-error:0.039779\n",
      "[3]\teval-error:0.039358\ttrain-error:0.039779\n",
      "[4]\teval-error:0.039358\ttrain-error:0.039779\n",
      "[5]\teval-error:0.039411\ttrain-error:0.039779\n",
      "[6]\teval-error:0.039490\ttrain-error:0.039779\n",
      "[7]\teval-error:0.039384\ttrain-error:0.039779\n",
      "[8]\teval-error:0.039490\ttrain-error:0.039621\n",
      "[9]\teval-error:0.039490\ttrain-error:0.039647\n"
     ]
    },
    {
     "data": {
      "text/plain": [
       "cross_val_auc    1.0\n",
       "test_auc         0.8\n",
       "dtype: float64"
      ]
     },
     "execution_count": 13,
     "metadata": {},
     "output_type": "execute_result"
    }
   ],
   "source": [
    "#optimise subsample\n",
    "num_round = 10\n",
    "param_list = []\n",
    "cross_val_list = []\n",
    "test_auc_list = []\n",
    "for i in [0.1, 0.3, 0.5, 0.8,1]:\n",
    "    param = {'max_depth':4, 'eta': 0.6, 'gamma':1, 'min_child_weight': 10, 'subsample':i,\n",
    "             'silent':1, 'objective':'binary:logistic'}\n",
    "    cross_val_auc, test_auc = optimise_xgb(param)\n",
    "    cross_val_list.append(cross_val_auc), test_auc_list.append(test_auc), param_list.append(i)\n",
    "\n",
    "final_vals = pd.DataFrame([cross_val_list,test_auc_list]).T\n",
    "final_vals.columns = ['cross_val_auc', 'test_auc']\n",
    "final_vals.index = param_list\n",
    "final_vals.idxmax()"
   ]
  },
  {
   "cell_type": "code",
   "execution_count": 14,
   "metadata": {
    "collapsed": false,
    "scrolled": true
   },
   "outputs": [
    {
     "name": "stdout",
     "output_type": "stream",
     "text": [
      "[0]\teval-error:0.039358\ttrain-error:0.039779\n",
      "[1]\teval-error:0.039358\ttrain-error:0.039779\n",
      "[2]\teval-error:0.039358\ttrain-error:0.039779\n",
      "[3]\teval-error:0.039358\ttrain-error:0.039779\n",
      "[4]\teval-error:0.039358\ttrain-error:0.039779\n",
      "[5]\teval-error:0.039437\ttrain-error:0.039700\n",
      "[6]\teval-error:0.039463\ttrain-error:0.039700\n",
      "[7]\teval-error:0.039463\ttrain-error:0.039647\n",
      "[8]\teval-error:0.039542\ttrain-error:0.039647\n",
      "[9]\teval-error:0.039542\ttrain-error:0.039674\n",
      "[0]\teval-error:0.039358\ttrain-error:0.039779\n",
      "[1]\teval-error:0.039358\ttrain-error:0.039779\n",
      "[2]\teval-error:0.039358\ttrain-error:0.039779\n",
      "[3]\teval-error:0.039358\ttrain-error:0.039779\n",
      "[4]\teval-error:0.039358\ttrain-error:0.039779\n",
      "[5]\teval-error:0.039411\ttrain-error:0.039779\n",
      "[6]\teval-error:0.039490\ttrain-error:0.039779\n",
      "[7]\teval-error:0.039384\ttrain-error:0.039779\n",
      "[8]\teval-error:0.039490\ttrain-error:0.039621\n",
      "[9]\teval-error:0.039490\ttrain-error:0.039647\n",
      "[0]\teval-error:0.039358\ttrain-error:0.039779\n",
      "[1]\teval-error:0.039358\ttrain-error:0.039779\n",
      "[2]\teval-error:0.039358\ttrain-error:0.039779\n",
      "[3]\teval-error:0.039358\ttrain-error:0.039779\n",
      "[4]\teval-error:0.039358\ttrain-error:0.039779\n",
      "[5]\teval-error:0.039358\ttrain-error:0.039779\n",
      "[6]\teval-error:0.039358\ttrain-error:0.039779\n",
      "[7]\teval-error:0.039358\ttrain-error:0.039779\n",
      "[8]\teval-error:0.039358\ttrain-error:0.039779\n",
      "[9]\teval-error:0.039411\ttrain-error:0.039700\n",
      "[0]\teval-error:0.039358\ttrain-error:0.039779\n",
      "[1]\teval-error:0.039358\ttrain-error:0.039779\n",
      "[2]\teval-error:0.039358\ttrain-error:0.039779\n",
      "[3]\teval-error:0.039358\ttrain-error:0.039779\n",
      "[4]\teval-error:0.039358\ttrain-error:0.039779\n",
      "[5]\teval-error:0.039358\ttrain-error:0.039779\n",
      "[6]\teval-error:0.039358\ttrain-error:0.039779\n",
      "[7]\teval-error:0.039358\ttrain-error:0.039779\n",
      "[8]\teval-error:0.039358\ttrain-error:0.039779\n",
      "[9]\teval-error:0.039358\ttrain-error:0.039779\n"
     ]
    },
    {
     "data": {
      "text/plain": [
       "cross_val_auc    10\n",
       "test_auc         10\n",
       "dtype: float64"
      ]
     },
     "execution_count": 14,
     "metadata": {},
     "output_type": "execute_result"
    }
   ],
   "source": [
    "# optimise lambda\n",
    "num_round = 10\n",
    "param_list = []\n",
    "cross_val_list = []\n",
    "test_auc_list = []\n",
    "for i in [0.1, 1, 10, 100 ]:\n",
    "    param = {'max_depth':4, 'eta': 0.6, 'gamma':1, 'min_child_weight': 10, 'subsample':1, 'lambda': i,\n",
    "             'silent':1, 'objective':'binary:logistic'}\n",
    "    cross_val_auc, test_auc = optimise_xgb(param)\n",
    "    cross_val_list.append(cross_val_auc), test_auc_list.append(test_auc), param_list.append(i)\n",
    "\n",
    "final_vals = pd.DataFrame([cross_val_list,test_auc_list]).T\n",
    "final_vals.columns = ['cross_val_auc', 'test_auc']\n",
    "final_vals.index = param_list\n",
    "final_vals.idxmax()"
   ]
  },
  {
   "cell_type": "code",
   "execution_count": 15,
   "metadata": {
    "collapsed": false,
    "scrolled": true
   },
   "outputs": [
    {
     "name": "stdout",
     "output_type": "stream",
     "text": [
      "[0]\teval-error:0.039358\ttrain-error:0.039779\n",
      "[1]\teval-error:0.039358\ttrain-error:0.039779\n",
      "[2]\teval-error:0.039358\ttrain-error:0.039779\n",
      "[3]\teval-error:0.039358\ttrain-error:0.039779\n",
      "[4]\teval-error:0.039358\ttrain-error:0.039779\n",
      "[5]\teval-error:0.039437\ttrain-error:0.039700\n",
      "[6]\teval-error:0.039463\ttrain-error:0.039700\n",
      "[7]\teval-error:0.039463\ttrain-error:0.039647\n",
      "[8]\teval-error:0.039542\ttrain-error:0.039647\n",
      "[9]\teval-error:0.039542\ttrain-error:0.039674\n",
      "[0]\teval-error:0.039358\ttrain-error:0.039779\n",
      "[1]\teval-error:0.039358\ttrain-error:0.039779\n",
      "[2]\teval-error:0.039358\ttrain-error:0.039779\n",
      "[3]\teval-error:0.039358\ttrain-error:0.039779\n",
      "[4]\teval-error:0.039358\ttrain-error:0.039779\n",
      "[5]\teval-error:0.039384\ttrain-error:0.039753\n",
      "[6]\teval-error:0.039463\ttrain-error:0.039700\n",
      "[7]\teval-error:0.039411\ttrain-error:0.039700\n",
      "[8]\teval-error:0.039358\ttrain-error:0.039542\n",
      "[9]\teval-error:0.039358\ttrain-error:0.039542\n",
      "[0]\teval-error:0.039358\ttrain-error:0.039779\n",
      "[1]\teval-error:0.039358\ttrain-error:0.039779\n",
      "[2]\teval-error:0.039358\ttrain-error:0.039779\n",
      "[3]\teval-error:0.039358\ttrain-error:0.039779\n",
      "[4]\teval-error:0.039358\ttrain-error:0.039779\n",
      "[5]\teval-error:0.039411\ttrain-error:0.039779\n",
      "[6]\teval-error:0.039490\ttrain-error:0.039779\n",
      "[7]\teval-error:0.039384\ttrain-error:0.039779\n",
      "[8]\teval-error:0.039490\ttrain-error:0.039726\n",
      "[9]\teval-error:0.039490\ttrain-error:0.039726\n",
      "[0]\teval-error:0.039358\ttrain-error:0.039779\n",
      "[1]\teval-error:0.039358\ttrain-error:0.039779\n",
      "[2]\teval-error:0.039358\ttrain-error:0.039779\n",
      "[3]\teval-error:0.039358\ttrain-error:0.039779\n",
      "[4]\teval-error:0.039358\ttrain-error:0.039779\n",
      "[5]\teval-error:0.039384\ttrain-error:0.039753\n",
      "[6]\teval-error:0.039411\ttrain-error:0.039779\n",
      "[7]\teval-error:0.039463\ttrain-error:0.039674\n",
      "[8]\teval-error:0.039411\ttrain-error:0.039726\n",
      "[9]\teval-error:0.039411\ttrain-error:0.039779\n",
      "[0]\teval-error:0.039358\ttrain-error:0.039779\n",
      "[1]\teval-error:0.039358\ttrain-error:0.039779\n",
      "[2]\teval-error:0.039358\ttrain-error:0.039779\n",
      "[3]\teval-error:0.039358\ttrain-error:0.039779\n",
      "[4]\teval-error:0.039358\ttrain-error:0.039779\n",
      "[5]\teval-error:0.039358\ttrain-error:0.039779\n",
      "[6]\teval-error:0.039358\ttrain-error:0.039779\n",
      "[7]\teval-error:0.039358\ttrain-error:0.039779\n",
      "[8]\teval-error:0.039358\ttrain-error:0.039753\n",
      "[9]\teval-error:0.039358\ttrain-error:0.039753\n"
     ]
    },
    {
     "data": {
      "text/plain": [
       "cross_val_auc    1.0\n",
       "test_auc         0.3\n",
       "dtype: float64"
      ]
     },
     "execution_count": 15,
     "metadata": {},
     "output_type": "execute_result"
    }
   ],
   "source": [
    "# optimise alpha\n",
    "num_round = 10\n",
    "param_list = []\n",
    "cross_val_list = []\n",
    "test_auc_list = []\n",
    "for i in [0, 0.3, 0.6, 1, 10 ]:\n",
    "    param = {'max_depth':4, 'eta': 0.6, 'gamma':1, 'min_child_weight': 10, 'subsample':1, 'lambda': 0.1, 'alpha':i,\n",
    "             'silent':1, 'objective':'binary:logistic'}\n",
    "    cross_val_auc, test_auc = optimise_xgb(param)\n",
    "    cross_val_list.append(cross_val_auc), test_auc_list.append(test_auc), param_list.append(i)\n",
    "\n",
    "final_vals = pd.DataFrame([cross_val_list,test_auc_list]).T\n",
    "final_vals.columns = ['cross_val_auc', 'test_auc']\n",
    "final_vals.index = param_list\n",
    "final_vals.idxmax()"
   ]
  },
  {
   "cell_type": "code",
   "execution_count": 9,
   "metadata": {
    "collapsed": false,
    "scrolled": true
   },
   "outputs": [
    {
     "name": "stdout",
     "output_type": "stream",
     "text": [
      "running cross validation\n",
      "    test-auc-mean  test-auc-std  train-auc-mean  train-auc-std\n",
      "0        0.799736      0.008268        0.818959       0.002285\n",
      "1        0.807840      0.010605        0.827151       0.001994\n",
      "2        0.814515      0.008969        0.833443       0.002419\n",
      "3        0.819675      0.011359        0.838655       0.001546\n",
      "4        0.823675      0.009228        0.842478       0.002555\n",
      "5        0.826621      0.008777        0.846644       0.001436\n",
      "6        0.826998      0.009952        0.849780       0.001479\n",
      "7        0.827021      0.009507        0.852429       0.001675\n",
      "8        0.827213      0.009285        0.855271       0.003033\n",
      "9        0.828323      0.008489        0.857184       0.003448\n",
      "10       0.828623      0.008965        0.860307       0.002435\n",
      "11       0.827788      0.009229        0.861818       0.002303\n",
      "12       0.827087      0.011415        0.864050       0.003118\n",
      "13       0.827149      0.011002        0.865435       0.002695\n",
      "14       0.826933      0.010965        0.866708       0.002405\n",
      "15       0.826631      0.010624        0.868565       0.002318\n",
      "16       0.825403      0.011671        0.870337       0.002612\n",
      "17       0.824941      0.011183        0.871868       0.002384\n",
      "18       0.825354      0.010596        0.873382       0.002149\n",
      "19       0.824823      0.010885        0.875109       0.001705\n",
      "20       0.824463      0.010331        0.876298       0.001656\n",
      "21       0.824150      0.010465        0.877120       0.001861\n",
      "22       0.823470      0.009881        0.878033       0.002083\n",
      "23       0.822804      0.009463        0.879408       0.002006\n",
      "24       0.822394      0.009021        0.880843       0.002041\n",
      "25       0.821886      0.009092        0.881750       0.002016\n",
      "26       0.820962      0.009648        0.882596       0.002217\n",
      "27       0.820032      0.009419        0.883446       0.002323\n",
      "28       0.820102      0.009145        0.884102       0.002161\n",
      "29       0.819737      0.009486        0.884798       0.002009\n",
      "30       0.819456      0.008957        0.885780       0.001935\n",
      "31       0.819262      0.008900        0.886501       0.001842\n",
      "32       0.819272      0.009311        0.886858       0.001768\n",
      "33       0.819422      0.008515        0.887421       0.001990\n",
      "34       0.820030      0.008784        0.888209       0.002208\n",
      "35       0.819242      0.008718        0.889191       0.001861\n",
      "36       0.818198      0.009802        0.890096       0.002224\n",
      "37       0.818024      0.009435        0.890631       0.002099\n",
      "38       0.817193      0.010109        0.891584       0.002175\n",
      "39       0.817510      0.010013        0.891954       0.002153\n",
      "Best Interaction:  10\n",
      "=======================\n",
      "building model and testing on test set\n",
      "[0]\teval-error:0.039358\ttrain-error:0.039779\n",
      "[1]\teval-error:0.039358\ttrain-error:0.039779\n",
      "[2]\teval-error:0.039358\ttrain-error:0.039779\n",
      "[3]\teval-error:0.039358\ttrain-error:0.039779\n",
      "[4]\teval-error:0.039358\ttrain-error:0.039779\n",
      "[5]\teval-error:0.039437\ttrain-error:0.039700\n",
      "[6]\teval-error:0.039463\ttrain-error:0.039700\n",
      "[7]\teval-error:0.039463\ttrain-error:0.039647\n",
      "[8]\teval-error:0.039542\ttrain-error:0.039647\n",
      "[9]\teval-error:0.039542\ttrain-error:0.039674\n",
      "[10]\teval-error:0.039542\ttrain-error:0.039621\n",
      "[11]\teval-error:0.039595\ttrain-error:0.039595\n",
      "[12]\teval-error:0.039595\ttrain-error:0.039516\n",
      "[13]\teval-error:0.039621\ttrain-error:0.039542\n",
      "[14]\teval-error:0.039647\ttrain-error:0.039411\n",
      "[0]\teval-error:0.039358\ttrain-error:0.039779\n",
      "[1]\teval-error:0.039358\ttrain-error:0.039779\n",
      "[2]\teval-error:0.039358\ttrain-error:0.039779\n",
      "[3]\teval-error:0.039358\ttrain-error:0.039779\n",
      "[4]\teval-error:0.039358\ttrain-error:0.039779\n",
      "[5]\teval-error:0.039437\ttrain-error:0.039700\n",
      "[6]\teval-error:0.039463\ttrain-error:0.039700\n",
      "[7]\teval-error:0.039463\ttrain-error:0.039647\n",
      "[8]\teval-error:0.039542\ttrain-error:0.039647\n",
      "[9]\teval-error:0.039542\ttrain-error:0.039674\n",
      "[10]\teval-error:0.039542\ttrain-error:0.039621\n",
      "[11]\teval-error:0.039595\ttrain-error:0.039595\n",
      "[12]\teval-error:0.039595\ttrain-error:0.039516\n",
      "[13]\teval-error:0.039621\ttrain-error:0.039542\n",
      "[14]\teval-error:0.039647\ttrain-error:0.039411\n",
      "[0]\teval-error:0.039358\ttrain-error:0.039779\n",
      "[1]\teval-error:0.039358\ttrain-error:0.039779\n",
      "[2]\teval-error:0.039358\ttrain-error:0.039779\n",
      "[3]\teval-error:0.039358\ttrain-error:0.039779\n",
      "[4]\teval-error:0.039358\ttrain-error:0.039779\n",
      "[5]\teval-error:0.039437\ttrain-error:0.039700\n",
      "[6]\teval-error:0.039463\ttrain-error:0.039700\n",
      "[7]\teval-error:0.039463\ttrain-error:0.039647\n",
      "[8]\teval-error:0.039542\ttrain-error:0.039647\n",
      "[9]\teval-error:0.039542\ttrain-error:0.039674\n",
      "[10]\teval-error:0.039542\ttrain-error:0.039621\n",
      "[11]\teval-error:0.039595\ttrain-error:0.039595\n",
      "[12]\teval-error:0.039595\ttrain-error:0.039516\n",
      "[13]\teval-error:0.039621\ttrain-error:0.039542\n",
      "[14]\teval-error:0.039647\ttrain-error:0.039411\n",
      "[0]\teval-error:0.039358\ttrain-error:0.039779\n",
      "[1]\teval-error:0.039358\ttrain-error:0.039779\n",
      "[2]\teval-error:0.039358\ttrain-error:0.039779\n",
      "[3]\teval-error:0.039358\ttrain-error:0.039779\n",
      "[4]\teval-error:0.039358\ttrain-error:0.039779\n",
      "[5]\teval-error:0.039437\ttrain-error:0.039700\n",
      "[6]\teval-error:0.039463\ttrain-error:0.039700\n",
      "[7]\teval-error:0.039463\ttrain-error:0.039647\n",
      "[8]\teval-error:0.039542\ttrain-error:0.039647\n",
      "[9]\teval-error:0.039542\ttrain-error:0.039674\n",
      "[10]\teval-error:0.039542\ttrain-error:0.039621\n",
      "[11]\teval-error:0.039595\ttrain-error:0.039595\n",
      "[12]\teval-error:0.039595\ttrain-error:0.039516\n",
      "[13]\teval-error:0.039621\ttrain-error:0.039542\n",
      "[14]\teval-error:0.039647\ttrain-error:0.039411\n",
      "[0]\teval-error:0.039358\ttrain-error:0.039779\n",
      "[1]\teval-error:0.039358\ttrain-error:0.039779\n",
      "[2]\teval-error:0.039358\ttrain-error:0.039779\n",
      "[3]\teval-error:0.039358\ttrain-error:0.039779\n",
      "[4]\teval-error:0.039358\ttrain-error:0.039779\n",
      "[5]\teval-error:0.039437\ttrain-error:0.039700\n",
      "[6]\teval-error:0.039463\ttrain-error:0.039700\n",
      "[7]\teval-error:0.039463\ttrain-error:0.039647\n",
      "[8]\teval-error:0.039542\ttrain-error:0.039647\n",
      "[9]\teval-error:0.039542\ttrain-error:0.039674\n",
      "[10]\teval-error:0.039542\ttrain-error:0.039621\n",
      "[11]\teval-error:0.039595\ttrain-error:0.039595\n",
      "[12]\teval-error:0.039595\ttrain-error:0.039516\n",
      "[13]\teval-error:0.039621\ttrain-error:0.039542\n",
      "[14]\teval-error:0.039647\ttrain-error:0.039411\n",
      "[0]\teval-error:0.039358\ttrain-error:0.039779\n",
      "[1]\teval-error:0.039358\ttrain-error:0.039779\n",
      "[2]\teval-error:0.039358\ttrain-error:0.039779\n",
      "[3]\teval-error:0.039358\ttrain-error:0.039779\n",
      "[4]\teval-error:0.039358\ttrain-error:0.039779\n",
      "[5]\teval-error:0.039437\ttrain-error:0.039700\n",
      "[6]\teval-error:0.039463\ttrain-error:0.039700\n",
      "[7]\teval-error:0.039463\ttrain-error:0.039647\n",
      "[8]\teval-error:0.039542\ttrain-error:0.039647\n",
      "[9]\teval-error:0.039542\ttrain-error:0.039674\n",
      "[10]\teval-error:0.039542\ttrain-error:0.039621\n",
      "[11]\teval-error:0.039595\ttrain-error:0.039595\n",
      "[12]\teval-error:0.039595\ttrain-error:0.039516\n",
      "[13]\teval-error:0.039621\ttrain-error:0.039542\n",
      "[14]\teval-error:0.039647\ttrain-error:0.039411\n",
      "[0]\teval-error:0.039358\ttrain-error:0.039779\n",
      "[1]\teval-error:0.039358\ttrain-error:0.039779\n",
      "[2]\teval-error:0.039358\ttrain-error:0.039779\n",
      "[3]\teval-error:0.039358\ttrain-error:0.039779\n",
      "[4]\teval-error:0.039358\ttrain-error:0.039779\n",
      "[5]\teval-error:0.039437\ttrain-error:0.039700\n",
      "[6]\teval-error:0.039463\ttrain-error:0.039700\n",
      "[7]\teval-error:0.039463\ttrain-error:0.039647\n",
      "[8]\teval-error:0.039542\ttrain-error:0.039647\n",
      "[9]\teval-error:0.039542\ttrain-error:0.039674\n",
      "[10]\teval-error:0.039542\ttrain-error:0.039621\n",
      "[11]\teval-error:0.039595\ttrain-error:0.039595\n",
      "[12]\teval-error:0.039595\ttrain-error:0.039516\n",
      "[13]\teval-error:0.039621\ttrain-error:0.039542\n",
      "[14]\teval-error:0.039647\ttrain-error:0.039411\n",
      "[0]\teval-error:0.039358\ttrain-error:0.039779\n",
      "[1]\teval-error:0.039358\ttrain-error:0.039779\n",
      "[2]\teval-error:0.039358\ttrain-error:0.039779\n",
      "[3]\teval-error:0.039358\ttrain-error:0.039779\n",
      "[4]\teval-error:0.039358\ttrain-error:0.039779\n",
      "[5]\teval-error:0.039437\ttrain-error:0.039700\n",
      "[6]\teval-error:0.039463\ttrain-error:0.039700\n",
      "[7]\teval-error:0.039463\ttrain-error:0.039647\n",
      "[8]\teval-error:0.039542\ttrain-error:0.039647\n",
      "[9]\teval-error:0.039542\ttrain-error:0.039674\n",
      "[10]\teval-error:0.039542\ttrain-error:0.039621\n",
      "[11]\teval-error:0.039595\ttrain-error:0.039595\n",
      "[12]\teval-error:0.039595\ttrain-error:0.039516\n",
      "[13]\teval-error:0.039621\ttrain-error:0.039542\n",
      "[14]\teval-error:0.039647\ttrain-error:0.039411\n",
      "[0]\teval-error:0.039358\ttrain-error:0.039779\n",
      "[1]\teval-error:0.039358\ttrain-error:0.039779\n",
      "[2]\teval-error:0.039358\ttrain-error:0.039779\n",
      "[3]\teval-error:0.039358\ttrain-error:0.039779\n",
      "[4]\teval-error:0.039358\ttrain-error:0.039779\n",
      "[5]\teval-error:0.039437\ttrain-error:0.039700\n",
      "[6]\teval-error:0.039463\ttrain-error:0.039700\n",
      "[7]\teval-error:0.039463\ttrain-error:0.039647\n",
      "[8]\teval-error:0.039542\ttrain-error:0.039647\n",
      "[9]\teval-error:0.039542\ttrain-error:0.039674\n",
      "[10]\teval-error:0.039542\ttrain-error:0.039621\n",
      "[11]\teval-error:0.039595\ttrain-error:0.039595\n",
      "[12]\teval-error:0.039595\ttrain-error:0.039516\n",
      "[13]\teval-error:0.039621\ttrain-error:0.039542\n",
      "[14]\teval-error:0.039647\ttrain-error:0.039411\n",
      "[0]\teval-error:0.039358\ttrain-error:0.039779\n",
      "[1]\teval-error:0.039358\ttrain-error:0.039779\n",
      "[2]\teval-error:0.039358\ttrain-error:0.039779\n",
      "[3]\teval-error:0.039358\ttrain-error:0.039779\n",
      "[4]\teval-error:0.039358\ttrain-error:0.039779\n",
      "[5]\teval-error:0.039437\ttrain-error:0.039700\n",
      "[6]\teval-error:0.039463\ttrain-error:0.039700\n",
      "[7]\teval-error:0.039463\ttrain-error:0.039647\n",
      "[8]\teval-error:0.039542\ttrain-error:0.039647\n",
      "[9]\teval-error:0.039542\ttrain-error:0.039674\n",
      "[10]\teval-error:0.039542\ttrain-error:0.039621\n",
      "[11]\teval-error:0.039595\ttrain-error:0.039595\n",
      "[12]\teval-error:0.039595\ttrain-error:0.039516\n",
      "[13]\teval-error:0.039621\ttrain-error:0.039542\n",
      "[14]\teval-error:0.039647\ttrain-error:0.039411\n",
      "Roc AUC test:  0.829622196043\n"
     ]
    }
   ],
   "source": [
    "# do crossvalidation\n",
    "print ('running cross validation')\n",
    "seed_seet = 0\n",
    "param = {'max_depth':4, 'eta': 0.6, 'gamma':1, 'min_child_weight': 10, 'subsample':1, 'lambda': 0.1, 'alpha':0,\n",
    "             'silent':1, 'objective':'binary:logistic', 'seed': seed_set}\n",
    "num_round = 40\n",
    "\n",
    "model_cv = xgb.cv(param, dtrain, num_round, nfold = 5,  metrics={'auc'})\n",
    "print(model_cv.T.T)\n",
    "bestIter = model_cv.T.loc['test-auc-mean'].idxmax()\n",
    "print(\"Best Interaction: \", bestIter)\n",
    "print('=======================')\n",
    "print ('building model and testing on test set')\n",
    "watchlist  = [(dtest,'eval'), (dtrain,'train')]\n",
    "num_round = ceil(int(bestIter) * 1.5)\n",
    "\n",
    "# average the predictions of 10 xgboosts on different seedds\n",
    "prediction = np.zeros(X_test.shape[0])\n",
    "for seed_set in [1,2,3,4,5,6,7,8,9,10]:\n",
    "    xgb_extraTreesParam = xgb.train(param, dtrain, num_round, watchlist)\n",
    "    prediction = prediction + xgb_extraTreesParam.predict(dtest)\n",
    "\n",
    "prediction = prediction/10\n",
    "print(\"Roc AUC test: \", roc_auc_score(y_test, prediction, average='macro'))"
   ]
  },
  {
   "cell_type": "code",
   "execution_count": 10,
   "metadata": {
    "collapsed": false
   },
   "outputs": [],
   "source": [
    "## Save predictions for model stacking\n",
    "#prediction = xgb_boruta.predict(dtest)\n",
    "submission = pd.DataFrame({\"TARGET\": prediction})\n",
    "submission.to_csv(\"test_xgb_boruta_big.csv\", index=False)"
   ]
  },
  {
   "cell_type": "code",
   "execution_count": 18,
   "metadata": {
    "collapsed": false
   },
   "outputs": [],
   "source": [
    "## Submission\n",
    "\n",
    "prediction = np.zeros(test.shape[0])\n",
    "for seed_set in [1,2,3,4,5,6,7,8,9,10]:\n",
    "    xgb_extraTreesParam = xgb.train(param, dtrain, num_round, watchlist)\n",
    "    prediction = prediction + xgb_extraTreesParam.predict(dtest_sub)\n",
    "    \n",
    "#prediction = xgb_boruta.predict(dtest_sub)\n",
    "submission = pd.DataFrame({\"ID\":test_id, \"TARGET\": prediction})\n",
    "submission.to_csv(\"submission_xgb_boruta_big.csv\", index=False)"
   ]
  },
  {
   "cell_type": "code",
   "execution_count": null,
   "metadata": {
    "collapsed": true
   },
   "outputs": [],
   "source": []
  }
 ],
 "metadata": {
  "kernelspec": {
   "display_name": "Python 3",
   "language": "python",
   "name": "python3"
  },
  "language_info": {
   "codemirror_mode": {
    "name": "ipython",
    "version": 3
   },
   "file_extension": ".py",
   "mimetype": "text/x-python",
   "name": "python",
   "nbconvert_exporter": "python",
   "pygments_lexer": "ipython3",
   "version": "3.5.1"
  }
 },
 "nbformat": 4,
 "nbformat_minor": 0
}
