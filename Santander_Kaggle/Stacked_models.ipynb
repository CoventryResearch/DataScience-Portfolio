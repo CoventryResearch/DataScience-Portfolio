{
 "cells": [
  {
   "cell_type": "code",
   "execution_count": 3,
   "metadata": {
    "collapsed": true
   },
   "outputs": [],
   "source": [
    "import os\n",
    "mingw_path = 'C:\\\\Program Files\\\\mingw-w64\\\\x86_64-5.3.0-posix-seh-rt_v4-rev0\\\\mingw64\\\\bin'\n",
    "os.environ['PATH'] = mingw_path + ';' + os.environ['PATH']"
   ]
  },
  {
   "cell_type": "code",
   "execution_count": 17,
   "metadata": {
    "collapsed": true
   },
   "outputs": [],
   "source": [
    "import pandas as pd\n",
    "import numpy as np\n",
    "from math import ceil\n",
    "\n",
    "import matplotlib.pyplot as plt\n",
    "import seaborn as sns\n",
    "%matplotlib inline\n",
    "\n",
    "from sklearn.cross_validation import train_test_split\n",
    "from sklearn.metrics import roc_auc_score\n",
    "from sklearn.ensemble import ExtraTreesClassifier\n",
    "from sklearn.feature_selection import SelectFromModel\n",
    "\n",
    "import xgboost as xgb"
   ]
  },
  {
   "cell_type": "code",
   "execution_count": 11,
   "metadata": {
    "collapsed": false
   },
   "outputs": [],
   "source": [
    "#load data\n",
    "train = pd.concat([pd.read_csv('test_xgb_boruta_big.csv'),pd.read_csv('test_xgb_EngFeat.csv'),\n",
    "                   pd.read_csv('test_xgb_ExtraTreesFeat.csv'),\n",
    "                   pd.read_csv('test_xgb_ExtraTreesFeat_newFeat.csv'),\n",
    "                   pd.read_csv('test_xgb_ExtraTreesFeat_newFeat2.csv'),\n",
    "                   pd.read_csv('test_xgb_polynomial.csv'),\n",
    "                   pd.read_csv('test_xgb_polynomial_gblinear.csv'),\n",
    "                   pd.read_csv('test_xgb_SDV.csv')], axis = 1)\n",
    "                   \n",
    "test = pd.concat([pd.read_csv('submission_xgb_boruta_big.csv')['TARGET'],\n",
    "                  pd.read_csv('submission_xgb_EngFeat.csv')['TARGET'],\n",
    "                  pd.read_csv('submission_xgb_ExtraTreesFeat.csv')['TARGET'],\n",
    "                  pd.read_csv('submission_xgb_ExtraTreesFeat_newFeat.csv')['TARGET'],\n",
    "                  pd.read_csv('submission_xgb_ExtraTreesFeat_newFeat2.csv')['TARGET'],\n",
    "                  pd.read_csv('submission_xgb_polynomial.csv')['TARGET'],\n",
    "                  pd.read_csv('submission_xgb_polynomial_gblinear.csv')['TARGET'],\n",
    "                  pd.read_csv('submission_xgb_svd.csv')['TARGET']], axis = 1)\n",
    "\n",
    "train.columns = ['boruta', 'EngFeat', 'ETrees', 'ETreesNF', 'ETreesNF2', 'poly', 'poly_linear', 'svd']\n",
    "test.columns = ['boruta', 'EngFeat', 'ETrees', 'ETreesNF', 'ETreesNF2', 'poly', 'poly_linear', 'svd']\n",
    "\n",
    "# to divide and get the label\n",
    "y_target = pd.read_csv('test_label.csv')\n",
    "test_id = pd.read_csv('test.csv')['ID']"
   ]
  },
  {
   "cell_type": "code",
   "execution_count": 8,
   "metadata": {
    "collapsed": false
   },
   "outputs": [
    {
     "data": {
      "text/plain": [
       "(     boruta   EngFeat    ETrees  ETreesNF  ETreesNF2      poly  poly_linear  \\\n",
       " 0  0.023971  0.015223  0.013046  0.017138   0.015207  0.006922     0.009351   \n",
       " 1  0.003546  0.005303  0.005315  0.004979   0.005631  0.004093     0.008948   \n",
       " 2  0.004870  0.005303  0.005315  0.004979   0.005631  0.004093     0.008672   \n",
       " 3  0.019456  0.021230  0.020812  0.019699   0.020776  0.018011     0.011964   \n",
       " 4  0.013319  0.014400  0.014114  0.014493   0.015311  0.011185     0.036514   \n",
       " \n",
       "         svd  \n",
       " 0  0.007318  \n",
       " 1  0.004297  \n",
       " 2  0.004297  \n",
       " 3  0.007394  \n",
       " 4  0.019551  ,\n",
       "      boruta   EngFeat    ETrees  ETreesNF  ETreesNF2      poly  poly_linear  \\\n",
       " 0  0.037514  0.047195  0.059054  0.048444   0.033028  0.035683     0.021486   \n",
       " 1  0.037514  0.054622  0.059349  0.055090   0.044017  0.065512     0.025933   \n",
       " 2  0.003572  0.004777  0.003721  0.003450   0.005882  0.007006     0.013641   \n",
       " 3  0.008018  0.014400  0.014114  0.011722   0.011987  0.011185     0.030427   \n",
       " 4  0.002527  0.005303  0.005315  0.004979   0.005631  0.004093     0.008908   \n",
       " \n",
       "         svd  \n",
       " 0  0.024119  \n",
       " 1  0.022240  \n",
       " 2  0.010835  \n",
       " 3  0.019551  \n",
       " 4  0.004297  )"
      ]
     },
     "execution_count": 8,
     "metadata": {},
     "output_type": "execute_result"
    }
   ],
   "source": [
    "train.head(), test.head()"
   ]
  },
  {
   "cell_type": "code",
   "execution_count": 9,
   "metadata": {
    "collapsed": false
   },
   "outputs": [
    {
     "data": {
      "text/plain": [
       "((38010, 8), (75818, 8))"
      ]
     },
     "execution_count": 9,
     "metadata": {},
     "output_type": "execute_result"
    }
   ],
   "source": [
    "train.shape, test.shape"
   ]
  },
  {
   "cell_type": "code",
   "execution_count": 15,
   "metadata": {
    "collapsed": false
   },
   "outputs": [
    {
     "name": "stdout",
     "output_type": "stream",
     "text": [
      "boruta :  0.829622196043\n",
      "EngFeat :  0.828572172083\n",
      "ETrees :  0.830361409615\n",
      "ETreesNF :  0.830697730326\n",
      "ETreesNF2 :  0.831721767989\n",
      "poly :  0.814209356443\n",
      "poly_linear :  0.781726760214\n",
      "svd :  0.784980978653\n"
     ]
    }
   ],
   "source": [
    "for col in train.columns:\n",
    "    print(col,': ', roc_auc_score(y_target, train[col], average='macro'))"
   ]
  },
  {
   "cell_type": "code",
   "execution_count": 19,
   "metadata": {
    "collapsed": false
   },
   "outputs": [
    {
     "data": {
      "text/plain": [
       "<matplotlib.axes._subplots.AxesSubplot at 0xe2366e7e10>"
      ]
     },
     "execution_count": 19,
     "metadata": {},
     "output_type": "execute_result"
    },
    {
     "data": {
      "image/png": "[encoded data removed]",
      "text/plain": [
       "<matplotlib.figure.Figure at 0xe236a88438>"
      ]
     },
     "metadata": {},
     "output_type": "display_data"
    }
   ],
   "source": [
    "cor_mat = train.corr()\n",
    "\n",
    "f, ax = plt.subplots(figsize=(10, 8))\n",
    "# Draw the heatmap with the mask and correct aspect ratio\n",
    "sns.heatmap(cor_mat,linewidths=.5, ax=ax)"
   ]
  },
  {
   "cell_type": "code",
   "execution_count": 24,
   "metadata": {
    "collapsed": false
   },
   "outputs": [
    {
     "name": "stdout",
     "output_type": "stream",
     "text": [
      "running cross validation\n",
      "   test-auc-mean  test-auc-std  train-auc-mean  train-auc-std\n",
      "0       0.822256      0.009467        0.826885       0.001757\n",
      "1       0.830678      0.009224        0.841550       0.001959\n",
      "2       0.830921      0.008199        0.847382       0.002236\n",
      "3       0.831024      0.008368        0.852329       0.001817\n",
      "4       0.828709      0.009427        0.856245       0.002446\n",
      "5       0.826863      0.010209        0.859630       0.003278\n",
      "6       0.826861      0.010411        0.862819       0.003461\n",
      "7       0.826787      0.009864        0.864791       0.003137\n",
      "8       0.824452      0.009677        0.867470       0.003235\n",
      "9       0.823263      0.009775        0.869946       0.003445\n",
      "Best Interaction:  3\n"
     ]
    }
   ],
   "source": [
    "## Model 1: Train Model\n",
    "\n",
    "# generate sparse matrices\n",
    "dtrain = xgb.DMatrix(train, label = y_target)\n",
    "#dtest = xgb.DMatrix(X_test, label = y_test)\n",
    "\n",
    "dtest_sub = xgb.DMatrix(test)\n",
    "\n",
    "# do crossvalidation\n",
    "print ('running cross validation')\n",
    "param = {'max_depth':4, 'eta':1, 'silent':0, 'objective':'binary:logistic'}\n",
    "num_round = 10\n",
    "\n",
    "model_cv = xgb.cv(param, dtrain, num_round, nfold = 5,  metrics={'auc'}, seed = 0)\n",
    "print(model_cv.T.T)\n",
    "bestIter = model_cv.T.loc['test-auc-mean'].idxmax()\n",
    "print(\"Best Interaction: \", bestIter)\n",
    "\n",
    "#xgb_model = xgb.train(param, dtrain, num_round, watchlist)\n",
    "#prediction = xgb_model.predict(dtest)\n",
    "#print('Best Inter: ', xgb_model.best_iteration)\n",
    "#print(\"Roc AUC test: \", roc_auc_score(y_test, prediction, average='macro'))"
   ]
  },
  {
   "cell_type": "code",
   "execution_count": 28,
   "metadata": {
    "collapsed": false
   },
   "outputs": [],
   "source": [
    "# submission\n",
    "prediction = np.zeros(test.shape[0])\n",
    "for seed_set in [1,2,3,4,5,6,7,8,9,10]:\n",
    "    xgb_extraTreesParam = xgb.train(param, dtrain, num_round)\n",
    "    prediction = prediction + xgb_extraTreesParam.predict(dtest_sub)\n",
    "\n",
    "prediction = prediction/10\n",
    "#prediction = xgb_extraTreesParam.predict(dtest_sub)\n",
    "submission = pd.DataFrame({\"ID\":test_id, \"TARGET\": prediction})\n",
    "submission.to_csv(\"submission_xgb_Final.csv\", index=False)"
   ]
  },
  {
   "cell_type": "code",
   "execution_count": null,
   "metadata": {
    "collapsed": true
   },
   "outputs": [],
   "source": []
  }
 ],
 "metadata": {
  "kernelspec": {
   "display_name": "Python 3",
   "language": "python",
   "name": "python3"
  },
  "language_info": {
   "codemirror_mode": {
    "name": "ipython",
    "version": 3
   },
   "file_extension": ".py",
   "mimetype": "text/x-python",
   "name": "python",
   "nbconvert_exporter": "python",
   "pygments_lexer": "ipython3",
   "version": "3.5.1"
  }
 },
 "nbformat": 4,
 "nbformat_minor": 0
}
