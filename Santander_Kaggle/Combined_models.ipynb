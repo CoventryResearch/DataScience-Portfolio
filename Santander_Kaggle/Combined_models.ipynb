{
 "cells": [
  {
   "cell_type": "code",
   "execution_count": 1,
   "metadata": {
    "collapsed": true
   },
   "outputs": [],
   "source": [
    "import os\n",
    "mingw_path = 'C:\\\\Program Files\\\\mingw-w64\\\\x86_64-5.3.0-posix-seh-rt_v4-rev0\\\\mingw64\\\\bin'\n",
    "os.environ['PATH'] = mingw_path + ';' + os.environ['PATH']"
   ]
  },
  {
   "cell_type": "code",
   "execution_count": 2,
   "metadata": {
    "collapsed": false
   },
   "outputs": [],
   "source": [
    "import pandas as pd\n",
    "import numpy as np\n",
    "import matplotlib.pyplot as plt\n",
    "\n",
    "%matplotlib inline\n",
    "\n",
    "from sklearn.cross_validation import train_test_split\n",
    "from sklearn.metrics import roc_auc_score\n",
    "from sklearn.preprocessing import PolynomialFeatures, StandardScaler\n",
    "from sklearn.ensemble import ExtraTreesClassifier\n",
    "from sklearn.feature_selection import SelectFromModel, SelectKBest, f_classif\n",
    "from sklearn.linear_model import LogisticRegression\n",
    "from sklearn.decomposition import PCA, KernelPCA, TruncatedSVD\n",
    "from sklearn.neighbors import KNeighborsClassifier\n",
    "\n",
    "import xgboost as xgb"
   ]
  },
  {
   "cell_type": "code",
   "execution_count": 3,
   "metadata": {
    "collapsed": false
   },
   "outputs": [
    {
     "data": {
      "text/plain": [
       "((76020, 12), (75818, 12))"
      ]
     },
     "execution_count": 3,
     "metadata": {},
     "output_type": "execute_result"
    }
   ],
   "source": [
    "#load data\n",
    "train = pd.read_csv('train_nonCorr.csv')\n",
    "test = pd.read_csv('test_nonCorr.csv')\n",
    "\n",
    "train.shape, test.shape"
   ]
  },
  {
   "cell_type": "code",
   "execution_count": 4,
   "metadata": {
    "collapsed": true
   },
   "outputs": [],
   "source": [
    "# load target\n",
    "y = pd.read_csv('train.csv')['TARGET']"
   ]
  },
  {
   "cell_type": "code",
   "execution_count": 5,
   "metadata": {
    "collapsed": true
   },
   "outputs": [],
   "source": [
    "# split train data into training and testing set\n",
    "X_train, X_test, y_train, y_test = train_test_split(train, y, test_size=0.6,random_state=12345)"
   ]
  },
  {
   "cell_type": "code",
   "execution_count": 6,
   "metadata": {
    "collapsed": true
   },
   "outputs": [],
   "source": [
    "# standarisation of train and test sets\n",
    "std_model = StandardScaler()\n",
    "X_train = std_model.fit_transform(X_train)\n",
    "X_test = std_model.transform(X_test)\n",
    "\n",
    "test_std = std_model.transform(test)"
   ]
  },
  {
   "cell_type": "code",
   "execution_count": 7,
   "metadata": {
    "collapsed": false
   },
   "outputs": [],
   "source": [
    "# Polynomial feature creation\n",
    "poly = PolynomialFeatures(degree = 3)\n",
    "poly.fit(X_train)\n",
    "X_train_poly = poly.transform(X_train)\n",
    "X_test_poly = poly.transform(X_test)\n",
    "\n",
    "test_poly = poly.transform(test_std)"
   ]
  },
  {
   "cell_type": "code",
   "execution_count": 8,
   "metadata": {
    "collapsed": false
   },
   "outputs": [
    {
     "name": "stderr",
     "output_type": "stream",
     "text": [
      "C:\\Users\\Sole\\Anaconda3\\lib\\site-packages\\sklearn\\feature_selection\\univariate_selection.py:113: UserWarning: Features [0] are constant.\n",
      "  UserWarning)\n"
     ]
    }
   ],
   "source": [
    "# clf.feature_importances_ \n",
    "fs = SelectKBest(f_classif, k = 15).fit(X_train_poly, y_train)\n",
    "\n",
    "X_train_poly_sm = fs.transform(X_train_poly)\n",
    "X_test_poly_sm = fs.transform(X_test_poly)\n",
    "\n",
    "test_poly_sm = fs.transform(test_poly)"
   ]
  },
  {
   "cell_type": "code",
   "execution_count": 9,
   "metadata": {
    "collapsed": false
   },
   "outputs": [
    {
     "name": "stdout",
     "output_type": "stream",
     "text": [
      "Roc AUC test:  0.806826064463\n",
      "Roc AUC train:  0.858078760109\n"
     ]
    }
   ],
   "source": [
    "# classifier from xgboost\n",
    "m1_xgb_poly = xgb.XGBClassifier(n_estimators=110, nthread=-1, max_depth = 4, seed=1729)\n",
    "m1_xgb_poly.fit(X_train_poly_sm, y_train, eval_metric=\"auc\", verbose = False,\n",
    "           eval_set=[(X_test_poly_sm, y_test)])\n",
    "\n",
    "print(\"Roc AUC test: \", roc_auc_score(y_test, m1_xgb_poly.predict_proba(X_test_poly_sm)[:,1],\n",
    "              average='macro'))\n",
    "\n",
    "print(\"Roc AUC train: \", roc_auc_score(y_train, m1_xgb_poly.predict_proba(X_train_poly_sm)[:,1],\n",
    "              average='macro'))"
   ]
  },
  {
   "cell_type": "code",
   "execution_count": 10,
   "metadata": {
    "collapsed": false
   },
   "outputs": [
    {
     "name": "stdout",
     "output_type": "stream",
     "text": [
      "Roc AUC test:  0.802631435195\n",
      "Roc AUC train:  0.887209460736\n"
     ]
    }
   ],
   "source": [
    "# Truncated single value decomposition for dimensionality reduction\n",
    "svd_mod = TruncatedSVD(n_components =10)\n",
    "svd_mod.fit(X_train)\n",
    "\n",
    "X_train_svd = svd_mod.transform(X_train)\n",
    "X_test_svd = svd_mod.transform(X_test)\n",
    "\n",
    "# classifier from xgboost\n",
    "m2_xgb_svd = xgb.XGBClassifier(n_estimators=110, nthread=-1, max_depth = 4, seed=1729)\n",
    "m2_xgb_svd.fit(X_train_svd, y_train, eval_metric=\"auc\", verbose = False,\n",
    "           eval_set=[(X_test_svd, y_test)])\n",
    "\n",
    "print(\"Roc AUC test: \", roc_auc_score(y_test, m2_xgb_svd.predict_proba(X_test_svd)[:,1],\n",
    "              average='macro'))\n",
    "\n",
    "print(\"Roc AUC train: \", roc_auc_score(y_train, m2_xgb_svd.predict_proba(X_train_svd)[:,1],\n",
    "              average='macro'))"
   ]
  },
  {
   "cell_type": "code",
   "execution_count": 11,
   "metadata": {
    "collapsed": false
   },
   "outputs": [
    {
     "name": "stdout",
     "output_type": "stream",
     "text": [
      "Roc AUC test:  0.8247663035\n",
      "Roc AUC train:  0.876585413816\n"
     ]
    }
   ],
   "source": [
    "#load data\n",
    "train = pd.read_csv('train_clean.csv')\n",
    "test = pd.read_csv('test_clean.csv')\n",
    "\n",
    "boruta_vars = ['var38','var15', 'num_var37_med_ult2', 'num_var37_0', 'saldo_var5', 'saldo_var30', 'saldo_var37', 'saldo_var42',\n",
    "               'num_var22_hace3', 'num_var22_ult3', 'num_med_var45_ult3', 'num_meses_var5_ult3', 'num_var45_hace2',\n",
    "               'num_var45_hace3', 'num_var45_ult3', 'saldo_medio_var5_hace2', 'saldo_medio_var5_ult1', 'saldo_medio_var5_ult3',\n",
    "               'no0']\n",
    "\n",
    "X_train, X_test, y_train, y_test = train_test_split(train[boruta_vars], y, test_size=0.4,\n",
    "                                                    random_state=1729 )\n",
    "\n",
    "# classifier from xgboost\n",
    "m3_xgb = xgb.XGBClassifier(n_estimators=110, nthread=-1, max_depth = 4, seed=1729)\n",
    "m3_xgb.fit(X_train, y_train, eval_metric=\"auc\", verbose = False,\n",
    "           eval_set=[(X_test, y_test)])\n",
    "\n",
    "print(\"Roc AUC test: \", roc_auc_score(y_test, m3_xgb.predict_proba(X_test)[:,1],\n",
    "              average='macro'))\n",
    "\n",
    "print(\"Roc AUC train: \", roc_auc_score(y_train, m3_xgb.predict_proba(X_train)[:,1],\n",
    "              average='macro'))"
   ]
  },
  {
   "cell_type": "code",
   "execution_count": null,
   "metadata": {
    "collapsed": false
   },
   "outputs": [],
   "source": [
    "## # Submission\n",
    "probs_1 = m1_xgb_poly.predict_proba(test_std)\n",
    "probs_2 = m2_xgb_svd.predict_proba(test_poly)\n",
    "probs_3 = m3_xgb.predict_proba(test[boruta_vars])"
   ]
  },
  {
   "cell_type": "code",
   "execution_count": null,
   "metadata": {
    "collapsed": false
   },
   "outputs": [],
   "source": [
    "prediction = (probs_1[:,1] + probs_2[:,1] + 5*probs_3[:,1]) / 5\n",
    "\n",
    "submission = pd.read_csv('sample_submission.csv')\n",
    "submission.TARGET = prediction\n",
    "submission.to_csv(\"Final_submission.csv\", index=False)"
   ]
  },
  {
   "cell_type": "code",
   "execution_count": null,
   "metadata": {
    "collapsed": true
   },
   "outputs": [],
   "source": []
  }
 ],
 "metadata": {
  "kernelspec": {
   "display_name": "Python 3",
   "language": "python",
   "name": "python3"
  },
  "language_info": {
   "codemirror_mode": {
    "name": "ipython",
    "version": 3
   },
   "file_extension": ".py",
   "mimetype": "text/x-python",
   "name": "python",
   "nbconvert_exporter": "python",
   "pygments_lexer": "ipython3",
   "version": "3.5.1"
  }
 },
 "nbformat": 4,
 "nbformat_minor": 0
}
