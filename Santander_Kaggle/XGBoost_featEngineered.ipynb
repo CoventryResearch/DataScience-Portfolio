{
 "cells": [
  {
   "cell_type": "code",
   "execution_count": 1,
   "metadata": {
    "collapsed": true
   },
   "outputs": [],
   "source": [
    "import os\n",
    "mingw_path = 'C:\\\\Program Files\\\\mingw-w64\\\\x86_64-5.3.0-posix-seh-rt_v4-rev0\\\\mingw64\\\\bin'\n",
    "os.environ['PATH'] = mingw_path + ';' + os.environ['PATH']"
   ]
  },
  {
   "cell_type": "code",
   "execution_count": 15,
   "metadata": {
    "collapsed": false
   },
   "outputs": [],
   "source": [
    "import pandas as pd\n",
    "import numpy as np\n",
    "from math import ceil\n",
    "\n",
    "import matplotlib.pyplot as plt\n",
    "%matplotlib inline\n",
    "\n",
    "from sklearn.cross_validation import train_test_split\n",
    "from sklearn.metrics import roc_auc_score\n",
    "from sklearn.ensemble import ExtraTreesClassifier\n",
    "from sklearn.feature_selection import SelectFromModel\n",
    "\n",
    "import xgboost as xgb"
   ]
  },
  {
   "cell_type": "code",
   "execution_count": 4,
   "metadata": {
    "collapsed": false
   },
   "outputs": [],
   "source": [
    "# load data\n",
    "train = pd.read_csv('train_clean.csv')\n",
    "test = pd.read_csv('test_clean.csv')\n",
    "\n",
    "y_target = pd.read_csv('train.csv')['TARGET']\n",
    "test_id = pd.read_csv('test.csv')['ID']"
   ]
  },
  {
   "cell_type": "code",
   "execution_count": 8,
   "metadata": {
    "collapsed": false
   },
   "outputs": [
    {
     "data": {
      "text/plain": [
       "0                     var38\n",
       "1                     var15\n",
       "2     saldo_medio_var5_ult3\n",
       "3    saldo_medio_var5_hace3\n",
       "4            num_var45_ult3\n",
       "Name: feature, dtype: object"
      ]
     },
     "execution_count": 8,
     "metadata": {},
     "output_type": "execute_result"
    }
   ],
   "source": [
    "## Feature selection\n",
    "features = pd.read_csv('extraTreesFeatures.csv')['feature']\n",
    "features.head()"
   ]
  },
  {
   "cell_type": "code",
   "execution_count": 9,
   "metadata": {
    "collapsed": false
   },
   "outputs": [],
   "source": [
    "## Third Model, with features selected from small Boruta Classifier\n",
    "boruta_vars = ['var15', 'num_var37_med_ult2', 'num_var37_0', 'saldo_var5', 'saldo_var30', 'saldo_var37', 'saldo_var42',\n",
    "               'num_var22_hace3', 'num_var22_ult3', 'num_med_var45_ult3', 'num_meses_var5_ult3', 'num_var45_hace2',\n",
    "               'num_var45_hace3', 'num_var45_ult3', 'saldo_medio_var5_hace2', 'saldo_medio_var5_ult1', 'saldo_medio_var5_ult3',\n",
    "               'no0']"
   ]
  },
  {
   "cell_type": "code",
   "execution_count": 11,
   "metadata": {
    "collapsed": false
   },
   "outputs": [
    {
     "data": {
      "text/plain": [
       "['num_var37_med_ult2', 'num_var37_0', 'saldo_var37']"
      ]
     },
     "execution_count": 11,
     "metadata": {},
     "output_type": "execute_result"
    }
   ],
   "source": [
    "## Fourth Model, with features selected from small Boruta + ExtraTrees Classifier\n",
    "vars_to_keep = list(features[0:40])\n",
    "\n",
    "diff_vars =[]\n",
    "for var in boruta_vars:\n",
    "    if var not in vars_to_keep:\n",
    "        diff_vars.append(var)\n",
    "        \n",
    "diff_vars"
   ]
  },
  {
   "cell_type": "code",
   "execution_count": 12,
   "metadata": {
    "collapsed": false
   },
   "outputs": [
    {
     "data": {
      "text/plain": [
       "43"
      ]
     },
     "execution_count": 12,
     "metadata": {},
     "output_type": "execute_result"
    }
   ],
   "source": [
    "for var in diff_vars:\n",
    "    vars_to_keep.append(var)\n",
    "\n",
    "len(vars_to_keep)"
   ]
  },
  {
   "cell_type": "code",
   "execution_count": 13,
   "metadata": {
    "collapsed": false
   },
   "outputs": [
    {
     "data": {
      "text/plain": [
       "(38010, 43)"
      ]
     },
     "execution_count": 13,
     "metadata": {},
     "output_type": "execute_result"
    }
   ],
   "source": [
    "# split data into training and testing set\n",
    "X_train, X_test, y_train, y_test = train_test_split(train[vars_to_keep], y_target, test_size=0.5,random_state=290977)\n",
    "X_train.shape"
   ]
  },
  {
   "cell_type": "code",
   "execution_count": 16,
   "metadata": {
    "collapsed": false
   },
   "outputs": [
    {
     "name": "stdout",
     "output_type": "stream",
     "text": [
      "running cross validation\n",
      "   test-auc-mean  test-auc-std  train-auc-mean  train-auc-std\n",
      "0       0.792807      0.015997        0.811858       0.002268\n",
      "1       0.807573      0.012799        0.828273       0.001659\n",
      "2       0.822881      0.010505        0.841285       0.002909\n",
      "3       0.822094      0.010254        0.847865       0.001935\n",
      "4       0.823297      0.010107        0.852761       0.002285\n",
      "5       0.823300      0.010420        0.857237       0.002504\n",
      "6       0.822049      0.010456        0.860843       0.002523\n",
      "7       0.819952      0.013085        0.864827       0.002846\n",
      "8       0.817771      0.012292        0.868454       0.002220\n",
      "9       0.816232      0.013941        0.871742       0.002989\n",
      "Best Interaction:  5\n",
      "=======================\n",
      "building model and testing on test set\n",
      "[0]\teval-error:0.039358\ttrain-error:0.039779\n",
      "[1]\teval-error:0.039490\ttrain-error:0.039700\n",
      "[2]\teval-error:0.039595\ttrain-error:0.039674\n",
      "[3]\teval-error:0.039305\ttrain-error:0.039700\n",
      "[4]\teval-error:0.039621\ttrain-error:0.039516\n",
      "[5]\teval-error:0.039832\ttrain-error:0.039621\n",
      "[6]\teval-error:0.040095\ttrain-error:0.039463\n",
      "[7]\teval-error:0.040174\ttrain-error:0.039174\n",
      "Best Inter:  7\n",
      "Roc AUC test:  0.818788564799\n"
     ]
    }
   ],
   "source": [
    "## Train Model\n",
    "\n",
    "# generate sparse matrices\n",
    "dtrain = xgb.DMatrix(X_train, label = y_train)\n",
    "dtest = xgb.DMatrix(X_test, label = y_test)\n",
    "\n",
    "dtest_sub = xgb.DMatrix(test[vars_to_keep])\n",
    "\n",
    "# do crossvalidation\n",
    "print ('running cross validation')\n",
    "param = {'max_depth':4, 'eta':1, 'silent':0, 'objective':'binary:logistic'}\n",
    "num_round = 10\n",
    "\n",
    "model_cv = xgb.cv(param, dtrain, num_round, nfold = 5,  metrics={'auc'}, seed = 0)\n",
    "print(model_cv.T.T)\n",
    "bestIter = model_cv.T.loc['test-auc-mean'].idxmax()\n",
    "print(\"Best Interaction: \", bestIter)\n",
    "print('=======================')\n",
    "print ('building model and testing on test set')\n",
    "watchlist  = [(dtest,'eval'), (dtrain,'train')]\n",
    "num_round = ceil(int(bestIter) * 1.5)\n",
    "\n",
    "xgb_model = xgb.train(param, dtrain, num_round, watchlist)\n",
    "prediction = xgb_model.predict(dtest)\n",
    "print('Best Inter: ', xgb_model.best_iteration)\n",
    "print(\"Roc AUC test: \", roc_auc_score(y_test, prediction, average='macro'))"
   ]
  },
  {
   "cell_type": "markdown",
   "metadata": {},
   "source": [
    "### For each selected:\n",
    "\n",
    "1) Generate 4 binary variables segregated by quartiles.\n",
    "\n",
    "2) Generate the log transformation.\n",
    "\n",
    "3) Select the best of the 6 against the target variable, and drop the rest."
   ]
  },
  {
   "cell_type": "code",
   "execution_count": 17,
   "metadata": {
    "collapsed": true
   },
   "outputs": [],
   "source": [
    "# categorisation by quantiles + add log transformation\n",
    "def feat_eng(col, data):\n",
    "    a = False\n",
    "    try:\n",
    "        temp = pd.qcut(data[col], [0, .25, .5, .75, 1], labels = ['FirstQ','SecondQ','ThirdQ','FourthQ'])\n",
    "        temp_dummies = pd.get_dummies(temp)\n",
    "        a = True\n",
    "    except:\n",
    "        pass\n",
    "    \n",
    "    if a:\n",
    "        temp_dummies['log'] = np.log(data[col]+1)\n",
    "        temp_dummies['asis'] = data[col]\n",
    "    else:\n",
    "        temp_dummies = pd.DataFrame(index=data.index, columns= ['asis', 'log'])\n",
    "        temp_dummies['log'] = np.log(data[col]+1)\n",
    "        temp_dummies['asis'] = data[col]\n",
    "        \n",
    "    return temp_dummies"
   ]
  },
  {
   "cell_type": "code",
   "execution_count": 28,
   "metadata": {
    "collapsed": true
   },
   "outputs": [],
   "source": [
    "# feature selection function\n",
    "def check_features(Y, features):\n",
    "    X_train, X_test, y_train, y_test = train_test_split(features, Y, test_size=0.5, random_state=42)\n",
    "    clf = ExtraTreesClassifier(random_state=1729)\n",
    "    selector = clf.fit(X_train, y_train)\n",
    "    \n",
    "    feat_imp = pd.Series(clf.feature_importances_, index = features.columns.values)\n",
    "    feat_imp = feat_imp.sort_values(ascending=False)\n",
    "    #selector = SelectKBest(f_regression, k = 1)\n",
    "    #selector.fit(X_train, Y_train)\n",
    "    \n",
    "    return feat_imp.index[0]"
   ]
  },
  {
   "cell_type": "code",
   "execution_count": 29,
   "metadata": {
    "collapsed": false
   },
   "outputs": [
    {
     "data": {
      "text/plain": [
       "((76020, 6), (76020,))"
      ]
     },
     "execution_count": 29,
     "metadata": {},
     "output_type": "execute_result"
    }
   ],
   "source": [
    "feat_eng('var38', train).shape, y_target.shape"
   ]
  },
  {
   "cell_type": "code",
   "execution_count": 30,
   "metadata": {
    "collapsed": false
   },
   "outputs": [
    {
     "data": {
      "text/plain": [
       "'asis'"
      ]
     },
     "execution_count": 30,
     "metadata": {},
     "output_type": "execute_result"
    }
   ],
   "source": [
    "check_features(y_target, feat_eng('var38', train))"
   ]
  },
  {
   "cell_type": "code",
   "execution_count": 31,
   "metadata": {
    "collapsed": false
   },
   "outputs": [],
   "source": [
    "import warnings\n",
    "warnings.filterwarnings('ignore')\n",
    "\n",
    "train_sm = train[vars_to_keep]\n",
    "test_sm = test[vars_to_keep]\n",
    "\n",
    "for col in vars_to_keep:\n",
    "    var = feat_eng(col, train_sm)\n",
    "    var.log.fillna(var.log.mean(), inplace = True)\n",
    "\n",
    "    temp = check_features(y_target,var)\n",
    "    col_name = col + '_' + temp\n",
    "    train_sm[col_name] = var[temp]\n",
    "    train_sm.drop(col, axis = 1, inplace = True)\n",
    "    \n",
    "    # for the test set\n",
    "    var = feat_eng(col, test_sm)\n",
    "    var.log.fillna(var.log.mean(), inplace = True)\n",
    "    test_sm[col_name] = var[temp]\n",
    "    test_sm.drop(col, axis = 1, inplace = True)"
   ]
  },
  {
   "cell_type": "code",
   "execution_count": 32,
   "metadata": {
    "collapsed": false
   },
   "outputs": [
    {
     "data": {
      "text/plain": [
       "((76020, 43), (75818, 43))"
      ]
     },
     "execution_count": 32,
     "metadata": {},
     "output_type": "execute_result"
    }
   ],
   "source": [
    "train_sm.shape, test_sm.shape"
   ]
  },
  {
   "cell_type": "code",
   "execution_count": 34,
   "metadata": {
    "collapsed": false
   },
   "outputs": [
    {
     "data": {
      "text/plain": [
       "Index(['var38_asis', 'var15_log', 'saldo_medio_var5_ult3_asis',\n",
       "       'saldo_medio_var5_hace3_asis', 'num_var45_ult3_log', 'no0_FourthQ',\n",
       "       'num_var45_hace3_log', 'num_var45_hace2_asis', 'num_var22_ult3_asis',\n",
       "       'num_var45_ult1_log', 'num_var22_hace3_asis', 'var36_asis',\n",
       "       'num_med_var45_ult3_log', 'num_meses_var5_ult3_asis',\n",
       "       'saldo_medio_var5_hace2_asis', 'saldo_var30_asis',\n",
       "       'saldo_medio_var5_ult1_asis', 'num_var22_hace2_asis',\n",
       "       'saldo_var42_asis', 'saldo_var5_asis', 'ind_var30_asis',\n",
       "       'num_meses_var39_vig_ult3_asis', 'num_var22_ult1_log',\n",
       "       'num_med_var22_ult3_log', 'ind_var5_asis',\n",
       "       'imp_op_var41_comer_ult3_log', 'imp_op_var39_efect_ult3_asis',\n",
       "       'num_op_var41_ult3_log', 'imp_ent_var16_ult1_asis',\n",
       "       'num_op_var39_efect_ult3_log', 'num_op_var39_comer_ult3_log',\n",
       "       'num_op_var39_ult3_log', 'num_op_var39_ult1_asis',\n",
       "       'num_op_var41_comer_ult3_log', 'imp_op_var39_comer_ult3_asis',\n",
       "       'imp_op_var41_ult1_log', 'num_op_var41_hace2_log',\n",
       "       'imp_op_var39_ult1_asis', 'imp_trans_var37_ult1_log',\n",
       "       'num_var43_recib_ult1_log', 'num_var37_med_ult2_log', 'num_var37_0_log',\n",
       "       'saldo_var37_log'],\n",
       "      dtype='object')"
      ]
     },
     "execution_count": 34,
     "metadata": {},
     "output_type": "execute_result"
    }
   ],
   "source": [
    "train_sm.columns"
   ]
  },
  {
   "cell_type": "code",
   "execution_count": 35,
   "metadata": {
    "collapsed": false
   },
   "outputs": [
    {
     "data": {
      "text/plain": [
       "Index(['var38_asis', 'var15_log', 'saldo_medio_var5_ult3_asis',\n",
       "       'saldo_medio_var5_hace3_asis', 'num_var45_ult3_log', 'no0_FourthQ',\n",
       "       'num_var45_hace3_log', 'num_var45_hace2_asis', 'num_var22_ult3_asis',\n",
       "       'num_var45_ult1_log', 'num_var22_hace3_asis', 'var36_asis',\n",
       "       'num_med_var45_ult3_log', 'num_meses_var5_ult3_asis',\n",
       "       'saldo_medio_var5_hace2_asis', 'saldo_var30_asis',\n",
       "       'saldo_medio_var5_ult1_asis', 'num_var22_hace2_asis',\n",
       "       'saldo_var42_asis', 'saldo_var5_asis', 'ind_var30_asis',\n",
       "       'num_meses_var39_vig_ult3_asis', 'num_var22_ult1_log',\n",
       "       'num_med_var22_ult3_log', 'ind_var5_asis',\n",
       "       'imp_op_var41_comer_ult3_log', 'imp_op_var39_efect_ult3_asis',\n",
       "       'num_op_var41_ult3_log', 'imp_ent_var16_ult1_asis',\n",
       "       'num_op_var39_efect_ult3_log', 'num_op_var39_comer_ult3_log',\n",
       "       'num_op_var39_ult3_log', 'num_op_var39_ult1_asis',\n",
       "       'num_op_var41_comer_ult3_log', 'imp_op_var39_comer_ult3_asis',\n",
       "       'imp_op_var41_ult1_log', 'num_op_var41_hace2_log',\n",
       "       'imp_op_var39_ult1_asis', 'imp_trans_var37_ult1_log',\n",
       "       'num_var43_recib_ult1_log', 'num_var37_med_ult2_log', 'num_var37_0_log',\n",
       "       'saldo_var37_log'],\n",
       "      dtype='object')"
      ]
     },
     "execution_count": 35,
     "metadata": {},
     "output_type": "execute_result"
    }
   ],
   "source": [
    "test_sm.columns"
   ]
  },
  {
   "cell_type": "code",
   "execution_count": 36,
   "metadata": {
    "collapsed": false
   },
   "outputs": [
    {
     "name": "stdout",
     "output_type": "stream",
     "text": [
      "running cross validation\n",
      "   test-auc-mean  test-auc-std  train-auc-mean  train-auc-std\n",
      "0       0.792822      0.016001        0.811849       0.002284\n",
      "1       0.807667      0.012847        0.828312       0.001710\n",
      "2       0.822200      0.011259        0.841347       0.002937\n",
      "3       0.821298      0.009447        0.847474       0.002175\n",
      "4       0.820283      0.009913        0.852643       0.001985\n",
      "5       0.818479      0.009924        0.857877       0.002100\n",
      "6       0.817198      0.012364        0.860587       0.002436\n",
      "7       0.814936      0.012671        0.863123       0.003341\n",
      "8       0.812908      0.014672        0.866481       0.003700\n",
      "9       0.811923      0.012893        0.869675       0.003933\n",
      "Best Interaction:  2\n",
      "=======================\n",
      "building model and testing on test set\n",
      "[0]\teval-error:0.039358\ttrain-error:0.039779\n",
      "[1]\teval-error:0.039490\ttrain-error:0.039700\n",
      "[2]\teval-error:0.039595\ttrain-error:0.039674\n",
      "Best Inter:  2\n",
      "Roc AUC test:  0.824771161321\n"
     ]
    }
   ],
   "source": [
    "#split train and test\n",
    "X_train, X_test, y_train, y_test = train_test_split(train_sm, y_target, test_size=0.5,random_state=290977)\n",
    "\n",
    "# generate sparse matrices\n",
    "dtrain = xgb.DMatrix(X_train, label = y_train)\n",
    "dtest = xgb.DMatrix(X_test, label = y_test)\n",
    "\n",
    "dtest_sub = xgb.DMatrix(test_sm)\n",
    "\n",
    "# do crossvalidation\n",
    "print ('running cross validation')\n",
    "param = {'max_depth':4, 'eta':1, 'silent':0, 'objective':'binary:logistic'}\n",
    "num_round = 10\n",
    "\n",
    "model_cv = xgb.cv(param, dtrain, num_round, nfold = 5,  metrics={'auc'}, seed = 0)\n",
    "print(model_cv.T.T)\n",
    "bestIter = model_cv.T.loc['test-auc-mean'].idxmax()\n",
    "print(\"Best Interaction: \", bestIter)\n",
    "print('=======================')\n",
    "print ('building model and testing on test set')\n",
    "watchlist  = [(dtest,'eval'), (dtrain,'train')]\n",
    "num_round = ceil(int(bestIter) * 1.5)\n",
    "\n",
    "xgb_model = xgb.train(param, dtrain, num_round, watchlist)\n",
    "prediction = xgb_model.predict(dtest)\n",
    "print('Best Inter: ', xgb_model.best_iteration)\n",
    "print(\"Roc AUC test: \", roc_auc_score(y_test, prediction, average='macro'))"
   ]
  },
  {
   "cell_type": "code",
   "execution_count": 38,
   "metadata": {
    "collapsed": false,
    "scrolled": true
   },
   "outputs": [
    {
     "name": "stdout",
     "output_type": "stream",
     "text": [
      "running cross validation\n",
      "    test-auc-mean  test-auc-std  train-auc-mean  train-auc-std\n",
      "0        0.720463      0.019804        0.722324       0.004688\n",
      "1        0.724810      0.020068        0.728660       0.003141\n",
      "2        0.778931      0.020352        0.784862       0.004757\n",
      "3        0.794773      0.013949        0.801444       0.004147\n",
      "4        0.795925      0.016113        0.808174       0.003236\n",
      "5        0.809745      0.011975        0.818244       0.003949\n",
      "6        0.813388      0.009822        0.824161       0.003916\n",
      "7        0.817854      0.009701        0.827853       0.002620\n",
      "8        0.820999      0.009185        0.830891       0.003329\n",
      "9        0.823019      0.010525        0.833746       0.003176\n",
      "10       0.824611      0.010469        0.835726       0.002783\n",
      "11       0.825642      0.010880        0.837216       0.002139\n",
      "12       0.825156      0.010721        0.838003       0.001664\n",
      "13       0.825156      0.010721        0.838003       0.001664\n",
      "14       0.825156      0.010721        0.838003       0.001664\n",
      "15       0.825156      0.010721        0.838003       0.001664\n",
      "16       0.825156      0.010721        0.838003       0.001664\n",
      "17       0.825156      0.010721        0.838003       0.001664\n",
      "18       0.825156      0.010721        0.838003       0.001664\n",
      "19       0.825156      0.010721        0.838003       0.001664\n",
      "20       0.825156      0.010721        0.838003       0.001664\n",
      "21       0.825156      0.010721        0.838003       0.001664\n",
      "22       0.825156      0.010721        0.838003       0.001664\n",
      "23       0.825156      0.010721        0.838003       0.001664\n",
      "24       0.825156      0.010721        0.838003       0.001664\n",
      "25       0.825156      0.010721        0.838003       0.001664\n",
      "26       0.825156      0.010721        0.838003       0.001664\n",
      "27       0.825156      0.010721        0.838003       0.001664\n",
      "28       0.825156      0.010721        0.838003       0.001664\n",
      "29       0.825156      0.010721        0.838003       0.001664\n",
      "30       0.825156      0.010721        0.838003       0.001664\n",
      "31       0.825156      0.010721        0.838003       0.001664\n",
      "32       0.825156      0.010721        0.838003       0.001664\n",
      "33       0.825156      0.010721        0.838003       0.001664\n",
      "34       0.825156      0.010721        0.838003       0.001664\n",
      "35       0.825156      0.010721        0.838003       0.001664\n",
      "36       0.825156      0.010721        0.838003       0.001664\n",
      "37       0.825156      0.010721        0.838003       0.001664\n",
      "38       0.825156      0.010721        0.838003       0.001664\n",
      "39       0.825156      0.010721        0.838003       0.001664\n",
      "Best Interaction:  11\n",
      "=======================\n",
      "building model and testing on test set\n",
      "[0]\teval-error:0.039358\ttrain-error:0.039779\n",
      "[1]\teval-error:0.039358\ttrain-error:0.039779\n",
      "[2]\teval-error:0.039358\ttrain-error:0.039779\n",
      "[3]\teval-error:0.039358\ttrain-error:0.039779\n",
      "[4]\teval-error:0.039358\ttrain-error:0.039779\n",
      "[5]\teval-error:0.039358\ttrain-error:0.039779\n",
      "[6]\teval-error:0.039358\ttrain-error:0.039779\n",
      "[7]\teval-error:0.039358\ttrain-error:0.039779\n",
      "[8]\teval-error:0.039358\ttrain-error:0.039779\n",
      "[9]\teval-error:0.039358\ttrain-error:0.039779\n",
      "[10]\teval-error:0.039358\ttrain-error:0.039779\n",
      "[11]\teval-error:0.039358\ttrain-error:0.039779\n",
      "[12]\teval-error:0.039358\ttrain-error:0.039779\n",
      "[13]\teval-error:0.039358\ttrain-error:0.039779\n",
      "[14]\teval-error:0.039358\ttrain-error:0.039779\n",
      "[15]\teval-error:0.039358\ttrain-error:0.039779\n",
      "[16]\teval-error:0.039358\ttrain-error:0.039779\n",
      "[0]\teval-error:0.039358\ttrain-error:0.039779\n",
      "[1]\teval-error:0.039358\ttrain-error:0.039779\n",
      "[2]\teval-error:0.039358\ttrain-error:0.039779\n",
      "[3]\teval-error:0.039358\ttrain-error:0.039779\n",
      "[4]\teval-error:0.039358\ttrain-error:0.039779\n",
      "[5]\teval-error:0.039358\ttrain-error:0.039779\n",
      "[6]\teval-error:0.039358\ttrain-error:0.039779\n",
      "[7]\teval-error:0.039358\ttrain-error:0.039779\n",
      "[8]\teval-error:0.039358\ttrain-error:0.039779\n",
      "[9]\teval-error:0.039358\ttrain-error:0.039779\n",
      "[10]\teval-error:0.039358\ttrain-error:0.039779\n",
      "[11]\teval-error:0.039358\ttrain-error:0.039779\n",
      "[12]\teval-error:0.039358\ttrain-error:0.039779\n",
      "[13]\teval-error:0.039358\ttrain-error:0.039779\n",
      "[14]\teval-error:0.039358\ttrain-error:0.039779\n",
      "[15]\teval-error:0.039358\ttrain-error:0.039779\n",
      "[16]\teval-error:0.039358\ttrain-error:0.039779\n",
      "[0]\teval-error:0.039358\ttrain-error:0.039779\n",
      "[1]\teval-error:0.039358\ttrain-error:0.039779\n",
      "[2]\teval-error:0.039358\ttrain-error:0.039779\n",
      "[3]\teval-error:0.039358\ttrain-error:0.039779\n",
      "[4]\teval-error:0.039358\ttrain-error:0.039779\n",
      "[5]\teval-error:0.039358\ttrain-error:0.039779\n",
      "[6]\teval-error:0.039358\ttrain-error:0.039779\n",
      "[7]\teval-error:0.039358\ttrain-error:0.039779\n",
      "[8]\teval-error:0.039358\ttrain-error:0.039779\n",
      "[9]\teval-error:0.039358\ttrain-error:0.039779\n",
      "[10]\teval-error:0.039358\ttrain-error:0.039779\n",
      "[11]\teval-error:0.039358\ttrain-error:0.039779\n",
      "[12]\teval-error:0.039358\ttrain-error:0.039779\n",
      "[13]\teval-error:0.039358\ttrain-error:0.039779\n",
      "[14]\teval-error:0.039358\ttrain-error:0.039779\n",
      "[15]\teval-error:0.039358\ttrain-error:0.039779\n",
      "[16]\teval-error:0.039358\ttrain-error:0.039779\n",
      "[0]\teval-error:0.039358\ttrain-error:0.039779\n",
      "[1]\teval-error:0.039358\ttrain-error:0.039779\n",
      "[2]\teval-error:0.039358\ttrain-error:0.039779\n",
      "[3]\teval-error:0.039358\ttrain-error:0.039779\n",
      "[4]\teval-error:0.039358\ttrain-error:0.039779\n",
      "[5]\teval-error:0.039358\ttrain-error:0.039779\n",
      "[6]\teval-error:0.039358\ttrain-error:0.039779\n",
      "[7]\teval-error:0.039358\ttrain-error:0.039779\n",
      "[8]\teval-error:0.039358\ttrain-error:0.039779\n",
      "[9]\teval-error:0.039358\ttrain-error:0.039779\n",
      "[10]\teval-error:0.039358\ttrain-error:0.039779\n",
      "[11]\teval-error:0.039358\ttrain-error:0.039779\n",
      "[12]\teval-error:0.039358\ttrain-error:0.039779\n",
      "[13]\teval-error:0.039358\ttrain-error:0.039779\n",
      "[14]\teval-error:0.039358\ttrain-error:0.039779\n",
      "[15]\teval-error:0.039358\ttrain-error:0.039779\n",
      "[16]\teval-error:0.039358\ttrain-error:0.039779\n",
      "[0]\teval-error:0.039358\ttrain-error:0.039779\n",
      "[1]\teval-error:0.039358\ttrain-error:0.039779\n",
      "[2]\teval-error:0.039358\ttrain-error:0.039779\n",
      "[3]\teval-error:0.039358\ttrain-error:0.039779\n",
      "[4]\teval-error:0.039358\ttrain-error:0.039779\n",
      "[5]\teval-error:0.039358\ttrain-error:0.039779\n",
      "[6]\teval-error:0.039358\ttrain-error:0.039779\n",
      "[7]\teval-error:0.039358\ttrain-error:0.039779\n",
      "[8]\teval-error:0.039358\ttrain-error:0.039779\n",
      "[9]\teval-error:0.039358\ttrain-error:0.039779\n",
      "[10]\teval-error:0.039358\ttrain-error:0.039779\n",
      "[11]\teval-error:0.039358\ttrain-error:0.039779\n",
      "[12]\teval-error:0.039358\ttrain-error:0.039779\n",
      "[13]\teval-error:0.039358\ttrain-error:0.039779\n",
      "[14]\teval-error:0.039358\ttrain-error:0.039779\n",
      "[15]\teval-error:0.039358\ttrain-error:0.039779\n",
      "[16]\teval-error:0.039358\ttrain-error:0.039779\n",
      "[0]\teval-error:0.039358\ttrain-error:0.039779\n",
      "[1]\teval-error:0.039358\ttrain-error:0.039779\n",
      "[2]\teval-error:0.039358\ttrain-error:0.039779\n",
      "[3]\teval-error:0.039358\ttrain-error:0.039779\n",
      "[4]\teval-error:0.039358\ttrain-error:0.039779\n",
      "[5]\teval-error:0.039358\ttrain-error:0.039779\n",
      "[6]\teval-error:0.039358\ttrain-error:0.039779\n",
      "[7]\teval-error:0.039358\ttrain-error:0.039779\n",
      "[8]\teval-error:0.039358\ttrain-error:0.039779\n",
      "[9]\teval-error:0.039358\ttrain-error:0.039779\n",
      "[10]\teval-error:0.039358\ttrain-error:0.039779\n",
      "[11]\teval-error:0.039358\ttrain-error:0.039779\n",
      "[12]\teval-error:0.039358\ttrain-error:0.039779\n",
      "[13]\teval-error:0.039358\ttrain-error:0.039779\n",
      "[14]\teval-error:0.039358\ttrain-error:0.039779\n",
      "[15]\teval-error:0.039358\ttrain-error:0.039779\n",
      "[16]\teval-error:0.039358\ttrain-error:0.039779\n",
      "[0]\teval-error:0.039358\ttrain-error:0.039779\n",
      "[1]\teval-error:0.039358\ttrain-error:0.039779\n",
      "[2]\teval-error:0.039358\ttrain-error:0.039779\n",
      "[3]\teval-error:0.039358\ttrain-error:0.039779\n",
      "[4]\teval-error:0.039358\ttrain-error:0.039779\n",
      "[5]\teval-error:0.039358\ttrain-error:0.039779\n",
      "[6]\teval-error:0.039358\ttrain-error:0.039779\n",
      "[7]\teval-error:0.039358\ttrain-error:0.039779\n",
      "[8]\teval-error:0.039358\ttrain-error:0.039779\n",
      "[9]\teval-error:0.039358\ttrain-error:0.039779\n",
      "[10]\teval-error:0.039358\ttrain-error:0.039779\n",
      "[11]\teval-error:0.039358\ttrain-error:0.039779\n",
      "[12]\teval-error:0.039358\ttrain-error:0.039779\n",
      "[13]\teval-error:0.039358\ttrain-error:0.039779\n",
      "[14]\teval-error:0.039358\ttrain-error:0.039779\n",
      "[15]\teval-error:0.039358\ttrain-error:0.039779\n",
      "[16]\teval-error:0.039358\ttrain-error:0.039779\n",
      "[0]\teval-error:0.039358\ttrain-error:0.039779\n",
      "[1]\teval-error:0.039358\ttrain-error:0.039779\n",
      "[2]\teval-error:0.039358\ttrain-error:0.039779\n",
      "[3]\teval-error:0.039358\ttrain-error:0.039779\n",
      "[4]\teval-error:0.039358\ttrain-error:0.039779\n",
      "[5]\teval-error:0.039358\ttrain-error:0.039779\n",
      "[6]\teval-error:0.039358\ttrain-error:0.039779\n",
      "[7]\teval-error:0.039358\ttrain-error:0.039779\n",
      "[8]\teval-error:0.039358\ttrain-error:0.039779\n",
      "[9]\teval-error:0.039358\ttrain-error:0.039779\n",
      "[10]\teval-error:0.039358\ttrain-error:0.039779\n",
      "[11]\teval-error:0.039358\ttrain-error:0.039779\n",
      "[12]\teval-error:0.039358\ttrain-error:0.039779\n",
      "[13]\teval-error:0.039358\ttrain-error:0.039779\n",
      "[14]\teval-error:0.039358\ttrain-error:0.039779\n",
      "[15]\teval-error:0.039358\ttrain-error:0.039779\n",
      "[16]\teval-error:0.039358\ttrain-error:0.039779\n",
      "[0]\teval-error:0.039358\ttrain-error:0.039779\n",
      "[1]\teval-error:0.039358\ttrain-error:0.039779\n",
      "[2]\teval-error:0.039358\ttrain-error:0.039779\n",
      "[3]\teval-error:0.039358\ttrain-error:0.039779\n",
      "[4]\teval-error:0.039358\ttrain-error:0.039779\n",
      "[5]\teval-error:0.039358\ttrain-error:0.039779\n",
      "[6]\teval-error:0.039358\ttrain-error:0.039779\n",
      "[7]\teval-error:0.039358\ttrain-error:0.039779\n",
      "[8]\teval-error:0.039358\ttrain-error:0.039779\n",
      "[9]\teval-error:0.039358\ttrain-error:0.039779\n",
      "[10]\teval-error:0.039358\ttrain-error:0.039779\n",
      "[11]\teval-error:0.039358\ttrain-error:0.039779\n",
      "[12]\teval-error:0.039358\ttrain-error:0.039779\n",
      "[13]\teval-error:0.039358\ttrain-error:0.039779\n",
      "[14]\teval-error:0.039358\ttrain-error:0.039779\n",
      "[15]\teval-error:0.039358\ttrain-error:0.039779\n",
      "[16]\teval-error:0.039358\ttrain-error:0.039779\n",
      "[0]\teval-error:0.039358\ttrain-error:0.039779\n",
      "[1]\teval-error:0.039358\ttrain-error:0.039779\n",
      "[2]\teval-error:0.039358\ttrain-error:0.039779\n",
      "[3]\teval-error:0.039358\ttrain-error:0.039779\n",
      "[4]\teval-error:0.039358\ttrain-error:0.039779\n",
      "[5]\teval-error:0.039358\ttrain-error:0.039779\n",
      "[6]\teval-error:0.039358\ttrain-error:0.039779\n",
      "[7]\teval-error:0.039358\ttrain-error:0.039779\n",
      "[8]\teval-error:0.039358\ttrain-error:0.039779\n",
      "[9]\teval-error:0.039358\ttrain-error:0.039779\n",
      "[10]\teval-error:0.039358\ttrain-error:0.039779\n",
      "[11]\teval-error:0.039358\ttrain-error:0.039779\n",
      "[12]\teval-error:0.039358\ttrain-error:0.039779\n",
      "[13]\teval-error:0.039358\ttrain-error:0.039779\n",
      "[14]\teval-error:0.039358\ttrain-error:0.039779\n",
      "[15]\teval-error:0.039358\ttrain-error:0.039779\n",
      "[16]\teval-error:0.039358\ttrain-error:0.039779\n",
      "Roc AUC test:  0.828572172083\n"
     ]
    }
   ],
   "source": [
    "# do crossvalidation\n",
    "print ('running cross validation')\n",
    "seed_set = 0\n",
    "param = {'max_depth':2, 'eta': 0.6, 'gamma':10, 'min_child_weight': 1, 'subsample':1, 'lambda': 10, 'alpha':0.3,\n",
    "             'silent':1, 'objective':'binary:logistic', 'seed': seed_set}\n",
    "num_round = 40\n",
    "\n",
    "model_cv = xgb.cv(param, dtrain, num_round, nfold = 5,  metrics={'auc'})\n",
    "print(model_cv.T.T)\n",
    "bestIter = model_cv.T.loc['test-auc-mean'].idxmax()\n",
    "print(\"Best Interaction: \", bestIter)\n",
    "print('=======================')\n",
    "print ('building model and testing on test set')\n",
    "watchlist  = [(dtest,'eval'), (dtrain,'train')]\n",
    "num_round = ceil(int(bestIter) * 1.5)\n",
    "\n",
    "# average the predictions of 10 xgboosts on different seedds\n",
    "prediction = np.zeros(X_test.shape[0])\n",
    "for seed_set in [1,2,3,4,5,6,7,8,9,10]:\n",
    "    xgb_extraTreesParam = xgb.train(param, dtrain, num_round, watchlist)\n",
    "    prediction = prediction + xgb_extraTreesParam.predict(dtest)\n",
    "\n",
    "prediction = prediction/10\n",
    "print(\"Roc AUC test: \", roc_auc_score(y_test, prediction, average='macro'))"
   ]
  },
  {
   "cell_type": "code",
   "execution_count": 39,
   "metadata": {
    "collapsed": false
   },
   "outputs": [],
   "source": [
    "# Save predictions on X_test for model stacking\n",
    "#prediction = xgb_extraTreesParam.predict(dtest)\n",
    "submission = pd.DataFrame({\"TARGET\": prediction})\n",
    "submission.to_csv(\"test_xgb_EngFeat.csv\", index=False)"
   ]
  },
  {
   "cell_type": "code",
   "execution_count": 40,
   "metadata": {
    "collapsed": false,
    "scrolled": false
   },
   "outputs": [
    {
     "name": "stdout",
     "output_type": "stream",
     "text": [
      "[0]\teval-error:0.039358\ttrain-error:0.039779\n",
      "[1]\teval-error:0.039358\ttrain-error:0.039779\n",
      "[2]\teval-error:0.039358\ttrain-error:0.039779\n",
      "[3]\teval-error:0.039358\ttrain-error:0.039779\n",
      "[4]\teval-error:0.039358\ttrain-error:0.039779\n",
      "[5]\teval-error:0.039358\ttrain-error:0.039779\n",
      "[6]\teval-error:0.039358\ttrain-error:0.039779\n",
      "[7]\teval-error:0.039358\ttrain-error:0.039779\n",
      "[8]\teval-error:0.039358\ttrain-error:0.039779\n",
      "[9]\teval-error:0.039358\ttrain-error:0.039779\n",
      "[10]\teval-error:0.039358\ttrain-error:0.039779\n",
      "[11]\teval-error:0.039358\ttrain-error:0.039779\n",
      "[12]\teval-error:0.039358\ttrain-error:0.039779\n",
      "[13]\teval-error:0.039358\ttrain-error:0.039779\n",
      "[14]\teval-error:0.039358\ttrain-error:0.039779\n",
      "[15]\teval-error:0.039358\ttrain-error:0.039779\n",
      "[16]\teval-error:0.039358\ttrain-error:0.039779\n",
      "[0]\teval-error:0.039358\ttrain-error:0.039779\n",
      "[1]\teval-error:0.039358\ttrain-error:0.039779\n",
      "[2]\teval-error:0.039358\ttrain-error:0.039779\n",
      "[3]\teval-error:0.039358\ttrain-error:0.039779\n",
      "[4]\teval-error:0.039358\ttrain-error:0.039779\n",
      "[5]\teval-error:0.039358\ttrain-error:0.039779\n",
      "[6]\teval-error:0.039358\ttrain-error:0.039779\n",
      "[7]\teval-error:0.039358\ttrain-error:0.039779\n",
      "[8]\teval-error:0.039358\ttrain-error:0.039779\n",
      "[9]\teval-error:0.039358\ttrain-error:0.039779\n",
      "[10]\teval-error:0.039358\ttrain-error:0.039779\n",
      "[11]\teval-error:0.039358\ttrain-error:0.039779\n",
      "[12]\teval-error:0.039358\ttrain-error:0.039779\n",
      "[13]\teval-error:0.039358\ttrain-error:0.039779\n",
      "[14]\teval-error:0.039358\ttrain-error:0.039779\n",
      "[15]\teval-error:0.039358\ttrain-error:0.039779\n",
      "[16]\teval-error:0.039358\ttrain-error:0.039779\n",
      "[0]\teval-error:0.039358\ttrain-error:0.039779\n",
      "[1]\teval-error:0.039358\ttrain-error:0.039779\n",
      "[2]\teval-error:0.039358\ttrain-error:0.039779\n",
      "[3]\teval-error:0.039358\ttrain-error:0.039779\n",
      "[4]\teval-error:0.039358\ttrain-error:0.039779\n",
      "[5]\teval-error:0.039358\ttrain-error:0.039779\n",
      "[6]\teval-error:0.039358\ttrain-error:0.039779\n",
      "[7]\teval-error:0.039358\ttrain-error:0.039779\n",
      "[8]\teval-error:0.039358\ttrain-error:0.039779\n",
      "[9]\teval-error:0.039358\ttrain-error:0.039779\n",
      "[10]\teval-error:0.039358\ttrain-error:0.039779\n",
      "[11]\teval-error:0.039358\ttrain-error:0.039779\n",
      "[12]\teval-error:0.039358\ttrain-error:0.039779\n",
      "[13]\teval-error:0.039358\ttrain-error:0.039779\n",
      "[14]\teval-error:0.039358\ttrain-error:0.039779\n",
      "[15]\teval-error:0.039358\ttrain-error:0.039779\n",
      "[16]\teval-error:0.039358\ttrain-error:0.039779\n",
      "[0]\teval-error:0.039358\ttrain-error:0.039779\n",
      "[1]\teval-error:0.039358\ttrain-error:0.039779\n",
      "[2]\teval-error:0.039358\ttrain-error:0.039779\n",
      "[3]\teval-error:0.039358\ttrain-error:0.039779\n",
      "[4]\teval-error:0.039358\ttrain-error:0.039779\n",
      "[5]\teval-error:0.039358\ttrain-error:0.039779\n",
      "[6]\teval-error:0.039358\ttrain-error:0.039779\n",
      "[7]\teval-error:0.039358\ttrain-error:0.039779\n",
      "[8]\teval-error:0.039358\ttrain-error:0.039779\n",
      "[9]\teval-error:0.039358\ttrain-error:0.039779\n",
      "[10]\teval-error:0.039358\ttrain-error:0.039779\n",
      "[11]\teval-error:0.039358\ttrain-error:0.039779\n",
      "[12]\teval-error:0.039358\ttrain-error:0.039779\n",
      "[13]\teval-error:0.039358\ttrain-error:0.039779\n",
      "[14]\teval-error:0.039358\ttrain-error:0.039779\n",
      "[15]\teval-error:0.039358\ttrain-error:0.039779\n",
      "[16]\teval-error:0.039358\ttrain-error:0.039779\n",
      "[0]\teval-error:0.039358\ttrain-error:0.039779\n",
      "[1]\teval-error:0.039358\ttrain-error:0.039779\n",
      "[2]\teval-error:0.039358\ttrain-error:0.039779\n",
      "[3]\teval-error:0.039358\ttrain-error:0.039779\n",
      "[4]\teval-error:0.039358\ttrain-error:0.039779\n",
      "[5]\teval-error:0.039358\ttrain-error:0.039779\n",
      "[6]\teval-error:0.039358\ttrain-error:0.039779\n",
      "[7]\teval-error:0.039358\ttrain-error:0.039779\n",
      "[8]\teval-error:0.039358\ttrain-error:0.039779\n",
      "[9]\teval-error:0.039358\ttrain-error:0.039779\n",
      "[10]\teval-error:0.039358\ttrain-error:0.039779\n",
      "[11]\teval-error:0.039358\ttrain-error:0.039779\n",
      "[12]\teval-error:0.039358\ttrain-error:0.039779\n",
      "[13]\teval-error:0.039358\ttrain-error:0.039779\n",
      "[14]\teval-error:0.039358\ttrain-error:0.039779\n",
      "[15]\teval-error:0.039358\ttrain-error:0.039779\n",
      "[16]\teval-error:0.039358\ttrain-error:0.039779\n",
      "[0]\teval-error:0.039358\ttrain-error:0.039779\n",
      "[1]\teval-error:0.039358\ttrain-error:0.039779\n",
      "[2]\teval-error:0.039358\ttrain-error:0.039779\n",
      "[3]\teval-error:0.039358\ttrain-error:0.039779\n",
      "[4]\teval-error:0.039358\ttrain-error:0.039779\n",
      "[5]\teval-error:0.039358\ttrain-error:0.039779\n",
      "[6]\teval-error:0.039358\ttrain-error:0.039779\n",
      "[7]\teval-error:0.039358\ttrain-error:0.039779\n",
      "[8]\teval-error:0.039358\ttrain-error:0.039779\n",
      "[9]\teval-error:0.039358\ttrain-error:0.039779\n",
      "[10]\teval-error:0.039358\ttrain-error:0.039779\n",
      "[11]\teval-error:0.039358\ttrain-error:0.039779\n",
      "[12]\teval-error:0.039358\ttrain-error:0.039779\n",
      "[13]\teval-error:0.039358\ttrain-error:0.039779\n",
      "[14]\teval-error:0.039358\ttrain-error:0.039779\n",
      "[15]\teval-error:0.039358\ttrain-error:0.039779\n",
      "[16]\teval-error:0.039358\ttrain-error:0.039779\n",
      "[0]\teval-error:0.039358\ttrain-error:0.039779\n",
      "[1]\teval-error:0.039358\ttrain-error:0.039779\n",
      "[2]\teval-error:0.039358\ttrain-error:0.039779\n",
      "[3]\teval-error:0.039358\ttrain-error:0.039779\n",
      "[4]\teval-error:0.039358\ttrain-error:0.039779\n",
      "[5]\teval-error:0.039358\ttrain-error:0.039779\n",
      "[6]\teval-error:0.039358\ttrain-error:0.039779\n",
      "[7]\teval-error:0.039358\ttrain-error:0.039779\n",
      "[8]\teval-error:0.039358\ttrain-error:0.039779\n",
      "[9]\teval-error:0.039358\ttrain-error:0.039779\n",
      "[10]\teval-error:0.039358\ttrain-error:0.039779\n",
      "[11]\teval-error:0.039358\ttrain-error:0.039779\n",
      "[12]\teval-error:0.039358\ttrain-error:0.039779\n",
      "[13]\teval-error:0.039358\ttrain-error:0.039779\n",
      "[14]\teval-error:0.039358\ttrain-error:0.039779\n",
      "[15]\teval-error:0.039358\ttrain-error:0.039779\n",
      "[16]\teval-error:0.039358\ttrain-error:0.039779\n",
      "[0]\teval-error:0.039358\ttrain-error:0.039779\n",
      "[1]\teval-error:0.039358\ttrain-error:0.039779\n",
      "[2]\teval-error:0.039358\ttrain-error:0.039779\n",
      "[3]\teval-error:0.039358\ttrain-error:0.039779\n",
      "[4]\teval-error:0.039358\ttrain-error:0.039779\n",
      "[5]\teval-error:0.039358\ttrain-error:0.039779\n",
      "[6]\teval-error:0.039358\ttrain-error:0.039779\n",
      "[7]\teval-error:0.039358\ttrain-error:0.039779\n",
      "[8]\teval-error:0.039358\ttrain-error:0.039779\n",
      "[9]\teval-error:0.039358\ttrain-error:0.039779\n",
      "[10]\teval-error:0.039358\ttrain-error:0.039779\n",
      "[11]\teval-error:0.039358\ttrain-error:0.039779\n",
      "[12]\teval-error:0.039358\ttrain-error:0.039779\n",
      "[13]\teval-error:0.039358\ttrain-error:0.039779\n",
      "[14]\teval-error:0.039358\ttrain-error:0.039779\n",
      "[15]\teval-error:0.039358\ttrain-error:0.039779\n",
      "[16]\teval-error:0.039358\ttrain-error:0.039779\n",
      "[0]\teval-error:0.039358\ttrain-error:0.039779\n",
      "[1]\teval-error:0.039358\ttrain-error:0.039779\n",
      "[2]\teval-error:0.039358\ttrain-error:0.039779\n",
      "[3]\teval-error:0.039358\ttrain-error:0.039779\n",
      "[4]\teval-error:0.039358\ttrain-error:0.039779\n",
      "[5]\teval-error:0.039358\ttrain-error:0.039779\n",
      "[6]\teval-error:0.039358\ttrain-error:0.039779\n",
      "[7]\teval-error:0.039358\ttrain-error:0.039779\n",
      "[8]\teval-error:0.039358\ttrain-error:0.039779\n",
      "[9]\teval-error:0.039358\ttrain-error:0.039779\n",
      "[10]\teval-error:0.039358\ttrain-error:0.039779\n",
      "[11]\teval-error:0.039358\ttrain-error:0.039779\n",
      "[12]\teval-error:0.039358\ttrain-error:0.039779\n",
      "[13]\teval-error:0.039358\ttrain-error:0.039779\n",
      "[14]\teval-error:0.039358\ttrain-error:0.039779\n",
      "[15]\teval-error:0.039358\ttrain-error:0.039779\n",
      "[16]\teval-error:0.039358\ttrain-error:0.039779\n",
      "[0]\teval-error:0.039358\ttrain-error:0.039779\n",
      "[1]\teval-error:0.039358\ttrain-error:0.039779\n",
      "[2]\teval-error:0.039358\ttrain-error:0.039779\n",
      "[3]\teval-error:0.039358\ttrain-error:0.039779\n",
      "[4]\teval-error:0.039358\ttrain-error:0.039779\n",
      "[5]\teval-error:0.039358\ttrain-error:0.039779\n",
      "[6]\teval-error:0.039358\ttrain-error:0.039779\n",
      "[7]\teval-error:0.039358\ttrain-error:0.039779\n",
      "[8]\teval-error:0.039358\ttrain-error:0.039779\n",
      "[9]\teval-error:0.039358\ttrain-error:0.039779\n",
      "[10]\teval-error:0.039358\ttrain-error:0.039779\n",
      "[11]\teval-error:0.039358\ttrain-error:0.039779\n",
      "[12]\teval-error:0.039358\ttrain-error:0.039779\n",
      "[13]\teval-error:0.039358\ttrain-error:0.039779\n",
      "[14]\teval-error:0.039358\ttrain-error:0.039779\n",
      "[15]\teval-error:0.039358\ttrain-error:0.039779\n",
      "[16]\teval-error:0.039358\ttrain-error:0.039779\n"
     ]
    }
   ],
   "source": [
    "prediction = np.zeros(test.shape[0])\n",
    "for seed_set in [1,2,3,4,5,6,7,8,9,10]:\n",
    "    xgb_extraTreesParam = xgb.train(param, dtrain, num_round, watchlist)\n",
    "    prediction = prediction + xgb_extraTreesParam.predict(dtest_sub)\n",
    "\n",
    "prediction = prediction/10\n",
    "#prediction = xgb_extraTreesParam.predict(dtest_sub)\n",
    "submission = pd.DataFrame({\"ID\":test_id, \"TARGET\": prediction})\n",
    "submission.to_csv(\"submission_xgb_EngFeat.csv\", index=False)"
   ]
  },
  {
   "cell_type": "code",
   "execution_count": null,
   "metadata": {
    "collapsed": true
   },
   "outputs": [],
   "source": []
  }
 ],
 "metadata": {
  "kernelspec": {
   "display_name": "Python 3",
   "language": "python",
   "name": "python3"
  },
  "language_info": {
   "codemirror_mode": {
    "name": "ipython",
    "version": 3
   },
   "file_extension": ".py",
   "mimetype": "text/x-python",
   "name": "python",
   "nbconvert_exporter": "python",
   "pygments_lexer": "ipython3",
   "version": "3.5.1"
  }
 },
 "nbformat": 4,
 "nbformat_minor": 0
}
