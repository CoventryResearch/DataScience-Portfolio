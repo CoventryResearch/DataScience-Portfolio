{
 "cells": [
  {
   "cell_type": "code",
   "execution_count": 1,
   "metadata": {
    "collapsed": true
   },
   "outputs": [],
   "source": [
    "import numpy as np\n",
    "import pandas as pd\n",
    "\n",
    "from sklearn.cross_validation import train_test_split # to divide train and test set\n",
    "\n",
    "# feature selection\n",
    "from sklearn.feature_selection import SelectFromModel\n",
    "from sklearn.feature_selection import SelectKBest\n",
    "from sklearn.feature_selection import SelectPercentile\n",
    "from sklearn.feature_selection import f_regression\n",
    "from sklearn.feature_selection import chi2"
   ]
  },
  {
   "cell_type": "code",
   "execution_count": 2,
   "metadata": {
    "collapsed": false
   },
   "outputs": [
    {
     "name": "stdout",
     "output_type": "stream",
     "text": [
      "/Users/Capgemini/Dropbox/Portfolio/DataScience-Portfolio/KDD-1998\n"
     ]
    }
   ],
   "source": [
    "cd Dropbox/Portfolio/DataScience-Portfolio/KDD-1998"
   ]
  },
  {
   "cell_type": "code",
   "execution_count": 3,
   "metadata": {
    "collapsed": true
   },
   "outputs": [],
   "source": [
    "# load data\n",
    "kdd = pd.read_csv('data_reg2.csv')\n",
    "\n",
    "# generate X and Y for preditions\n",
    "Y = np.ravel(kdd.TARGET_D)  # to flatten array\n",
    "X = kdd.drop('TARGET_D', axis = 1)"
   ]
  },
  {
   "cell_type": "code",
   "execution_count": 4,
   "metadata": {
    "collapsed": false
   },
   "outputs": [
    {
     "data": {
      "text/plain": [
       "(4829, 1914)"
      ]
     },
     "execution_count": 4,
     "metadata": {},
     "output_type": "execute_result"
    }
   ],
   "source": [
    "kdd.shape"
   ]
  },
  {
   "cell_type": "markdown",
   "metadata": {},
   "source": [
    "### Identify highly correlated features"
   ]
  },
  {
   "cell_type": "code",
   "execution_count": 5,
   "metadata": {
    "collapsed": true
   },
   "outputs": [],
   "source": [
    "# correlation computation\n",
    "def vcorrcoef(X,y):\n",
    "    Xm = np.mean(X)\n",
    "    ym = np.mean(y)\n",
    "    r_num = np.sum((X-Xm)*(y-ym))\n",
    "    r_den = np.sqrt(np.sum((X-Xm)**2)*np.sum((y-ym)**2))\n",
    "    r = r_num/r_den\n",
    "    return r"
   ]
  },
  {
   "cell_type": "code",
   "execution_count": 6,
   "metadata": {
    "collapsed": false
   },
   "outputs": [
    {
     "data": {
      "text/plain": [
       "0.78212633281455313"
      ]
     },
     "execution_count": 6,
     "metadata": {},
     "output_type": "execute_result"
    }
   ],
   "source": [
    "# try the function\n",
    "vcorrcoef(kdd['NUMPROM'], kdd['NGIFTALL'])"
   ]
  },
  {
   "cell_type": "code",
   "execution_count": 7,
   "metadata": {
    "collapsed": false
   },
   "outputs": [],
   "source": [
    "# identify highly correlated features (>0.7)\n",
    "correlated_feat = []\n",
    "\n",
    "for i in range(len(kdd.columns)-1):\n",
    "    feat = kdd.columns[i]\n",
    "    for j in range(i+1,len(kdd.columns)):\n",
    "        feat2 = kdd.columns[j]\n",
    "        ccf = vcorrcoef(kdd[feat], kdd[feat2])\n",
    "        if ccf >=0.7 or ccf <= -0.7:\n",
    "            correlated_feat.append(feat2)"
   ]
  },
  {
   "cell_type": "code",
   "execution_count": 8,
   "metadata": {
    "collapsed": false,
    "scrolled": false
   },
   "outputs": [
    {
     "data": {
      "text/plain": [
       "1193"
      ]
     },
     "execution_count": 8,
     "metadata": {},
     "output_type": "execute_result"
    }
   ],
   "source": [
    "len(correlated_feat)"
   ]
  },
  {
   "cell_type": "markdown",
   "metadata": {},
   "source": [
    "### Feature engineering"
   ]
  },
  {
   "cell_type": "code",
   "execution_count": 9,
   "metadata": {
    "collapsed": false,
    "scrolled": false
   },
   "outputs": [
    {
     "data": {
      "text/plain": [
       "['MAILCODE', 'PEPSTRFL', 'maxadate', 'NOEXCH_0', 'NOEXCH_1']"
      ]
     },
     "execution_count": 9,
     "metadata": {},
     "output_type": "execute_result"
    }
   ],
   "source": [
    "# identify the binary columns\n",
    "binary_cols = []\n",
    "for col in X.columns:\n",
    "    if len(X[col].unique()) == 2:\n",
    "        if np.sum(X[col].unique() == np.array([0,1])) == 2:\n",
    "            binary_cols.append(col)\n",
    "binary_cols[0:5]"
   ]
  },
  {
   "cell_type": "code",
   "execution_count": 10,
   "metadata": {
    "collapsed": false
   },
   "outputs": [],
   "source": [
    "# Identify non binary cols\n",
    "nonBinary = []\n",
    "for col in X.columns:\n",
    "    if col in binary_cols:\n",
    "        pass\n",
    "    else:\n",
    "        nonBinary.append(col)"
   ]
  },
  {
   "cell_type": "code",
   "execution_count": 11,
   "metadata": {
    "collapsed": false
   },
   "outputs": [
    {
     "data": {
      "text/plain": [
       "(571, 1342)"
      ]
     },
     "execution_count": 11,
     "metadata": {},
     "output_type": "execute_result"
    }
   ],
   "source": [
    "len(nonBinary), len(binary_cols)"
   ]
  },
  {
   "cell_type": "markdown",
   "metadata": {},
   "source": [
    "## For each non binary column:\n",
    "\n",
    "1) Generate 4 binary variables segregated by quartiles.\n",
    "\n",
    "2) Generate the log transformation.\n",
    "\n",
    "3) Select the best of the 6 against the target variable, and drop the rest.\n",
    "\n",
    "4) Repeat number 3 for log(target_variable)"
   ]
  },
  {
   "cell_type": "code",
   "execution_count": 12,
   "metadata": {
    "collapsed": false
   },
   "outputs": [],
   "source": [
    "# categorisation by quantiles + add log transformation\n",
    "def feat_eng(col):\n",
    "    a = False\n",
    "    try:\n",
    "        temp = pd.qcut(kdd[col], [0, .25, .5, .75, 1], labels = ['FirstQ','SecondQ','ThirdQ','FourthQ'])\n",
    "        temp_dummies = pd.get_dummies(temp)\n",
    "        a = True\n",
    "    except:\n",
    "        pass\n",
    "    \n",
    "    if a:\n",
    "        temp_dummies['log'] = np.log(kdd[col]+1)\n",
    "        temp_dummies['asis'] = kdd[col]\n",
    "    else:\n",
    "        temp_dummies = pd.DataFrame(index=kdd.index, columns= ['asis', 'log'])\n",
    "        temp_dummies['log'] = np.log(kdd[col]+1)\n",
    "        temp_dummies['asis'] = kdd[col]\n",
    "        \n",
    "    return temp_dummies"
   ]
  },
  {
   "cell_type": "code",
   "execution_count": 13,
   "metadata": {
    "collapsed": false
   },
   "outputs": [
    {
     "data": {
      "text/html": [
       "<div>\n",
       "<table border=\"1\" class=\"dataframe\">\n",
       "  <thead>\n",
       "    <tr style=\"text-align: right;\">\n",
       "      <th></th>\n",
       "      <th>FirstQ</th>\n",
       "      <th>SecondQ</th>\n",
       "      <th>ThirdQ</th>\n",
       "      <th>FourthQ</th>\n",
       "      <th>log</th>\n",
       "      <th>asis</th>\n",
       "    </tr>\n",
       "  </thead>\n",
       "  <tbody>\n",
       "    <tr>\n",
       "      <th>0</th>\n",
       "      <td>0</td>\n",
       "      <td>1</td>\n",
       "      <td>0</td>\n",
       "      <td>0</td>\n",
       "      <td>4.143135</td>\n",
       "      <td>62</td>\n",
       "    </tr>\n",
       "    <tr>\n",
       "      <th>1</th>\n",
       "      <td>0</td>\n",
       "      <td>1</td>\n",
       "      <td>0</td>\n",
       "      <td>0</td>\n",
       "      <td>4.143135</td>\n",
       "      <td>62</td>\n",
       "    </tr>\n",
       "    <tr>\n",
       "      <th>2</th>\n",
       "      <td>0</td>\n",
       "      <td>0</td>\n",
       "      <td>1</td>\n",
       "      <td>0</td>\n",
       "      <td>4.204693</td>\n",
       "      <td>66</td>\n",
       "    </tr>\n",
       "  </tbody>\n",
       "</table>\n",
       "</div>"
      ],
      "text/plain": [
       "   FirstQ  SecondQ  ThirdQ  FourthQ       log  asis\n",
       "0       0        1       0        0  4.143135    62\n",
       "1       0        1       0        0  4.143135    62\n",
       "2       0        0       1        0  4.204693    66"
      ]
     },
     "execution_count": 13,
     "metadata": {},
     "output_type": "execute_result"
    }
   ],
   "source": [
    "# try function\n",
    "var = feat_eng('AGE')\n",
    "var.head(3)"
   ]
  },
  {
   "cell_type": "code",
   "execution_count": 14,
   "metadata": {
    "collapsed": false
   },
   "outputs": [
    {
     "data": {
      "text/html": [
       "<div>\n",
       "<table border=\"1\" class=\"dataframe\">\n",
       "  <thead>\n",
       "    <tr style=\"text-align: right;\">\n",
       "      <th></th>\n",
       "      <th>asis</th>\n",
       "      <th>log</th>\n",
       "    </tr>\n",
       "  </thead>\n",
       "  <tbody>\n",
       "    <tr>\n",
       "      <th>0</th>\n",
       "      <td>0</td>\n",
       "      <td>0</td>\n",
       "    </tr>\n",
       "    <tr>\n",
       "      <th>1</th>\n",
       "      <td>0</td>\n",
       "      <td>0</td>\n",
       "    </tr>\n",
       "    <tr>\n",
       "      <th>2</th>\n",
       "      <td>0</td>\n",
       "      <td>0</td>\n",
       "    </tr>\n",
       "  </tbody>\n",
       "</table>\n",
       "</div>"
      ],
      "text/plain": [
       "   asis  log\n",
       "0     0    0\n",
       "1     0    0\n",
       "2     0    0"
      ]
     },
     "execution_count": 14,
     "metadata": {},
     "output_type": "execute_result"
    }
   ],
   "source": [
    "# try function when not possible to divide in quantiles\n",
    "var = feat_eng('MDMAUD_I5CM')\n",
    "var.head(3)"
   ]
  },
  {
   "cell_type": "code",
   "execution_count": 15,
   "metadata": {
    "collapsed": true
   },
   "outputs": [],
   "source": [
    "# feature selection function\n",
    "def check_features(Y,features):\n",
    "    X_train, X_test, Y_train, Y_test = train_test_split(features, Y, test_size=0.5, random_state=42)\n",
    "    selector = SelectKBest(f_regression, k = 1)\n",
    "    selector.fit(X_train, Y_train)\n",
    "    \n",
    "    pval = pd.Series(selector.pvalues_)\n",
    "    ind = pval.sort_values().head(1).index\n",
    "    best_feat = features.columns[ind]\n",
    "    \n",
    "    return best_feat"
   ]
  },
  {
   "cell_type": "code",
   "execution_count": 16,
   "metadata": {
    "collapsed": false
   },
   "outputs": [
    {
     "data": {
      "text/plain": [
       "Index(['asis'], dtype='object')"
      ]
     },
     "execution_count": 16,
     "metadata": {},
     "output_type": "execute_result"
    }
   ],
   "source": [
    "check_features(Y,var)"
   ]
  },
  {
   "cell_type": "code",
   "execution_count": 17,
   "metadata": {
    "collapsed": false
   },
   "outputs": [],
   "source": [
    "# select the best feature from the pool of engineered ones\n",
    "\n",
    "# make empty df\n",
    "df = pd.DataFrame(index=kdd.index, columns=['nonBinary'])\n",
    "\n",
    "for col in nonBinary:\n",
    "    var = feat_eng(col)\n",
    "    temp = check_features(Y,var)\n",
    "    col_name = col + '_' + str(temp)[8:11]\n",
    "    df[col_name] = var[temp]"
   ]
  },
  {
   "cell_type": "code",
   "execution_count": 18,
   "metadata": {
    "collapsed": false
   },
   "outputs": [
    {
     "data": {
      "text/html": [
       "<div>\n",
       "<table border=\"1\" class=\"dataframe\">\n",
       "  <thead>\n",
       "    <tr style=\"text-align: right;\">\n",
       "      <th></th>\n",
       "      <th>AGE_Fir</th>\n",
       "      <th>INCOME_asi</th>\n",
       "      <th>HIT_asi</th>\n",
       "      <th>MALEMILI_asi</th>\n",
       "      <th>MALEVET_Fir</th>\n",
       "      <th>VIETVETS_Fou</th>\n",
       "      <th>WWIIVETS_log</th>\n",
       "      <th>LOCALGOV_log</th>\n",
       "      <th>STATEGOV_Thi</th>\n",
       "      <th>FEDGOV_Fir</th>\n",
       "      <th>...</th>\n",
       "      <th>RFA_22_S4A_asi</th>\n",
       "      <th>RFA_22_U1G_asi</th>\n",
       "      <th>RFA_2A_D_asi</th>\n",
       "      <th>MDMAUD_R_X_asi</th>\n",
       "      <th>MDMAUD_F_5_asi</th>\n",
       "      <th>MDMAUD_F_X_asi</th>\n",
       "      <th>MDMAUD_A_M_asi</th>\n",
       "      <th>MDMAUD_A_T_asi</th>\n",
       "      <th>MDMAUD_A_X_asi</th>\n",
       "      <th>GEOCODE2_A_asi</th>\n",
       "    </tr>\n",
       "  </thead>\n",
       "  <tbody>\n",
       "    <tr>\n",
       "      <th>0</th>\n",
       "      <td>0</td>\n",
       "      <td>3</td>\n",
       "      <td>10</td>\n",
       "      <td>2</td>\n",
       "      <td>1</td>\n",
       "      <td>1</td>\n",
       "      <td>3.332205</td>\n",
       "      <td>2.484907</td>\n",
       "      <td>1</td>\n",
       "      <td>1</td>\n",
       "      <td>...</td>\n",
       "      <td>0</td>\n",
       "      <td>0</td>\n",
       "      <td>1</td>\n",
       "      <td>1</td>\n",
       "      <td>0</td>\n",
       "      <td>1</td>\n",
       "      <td>0</td>\n",
       "      <td>0</td>\n",
       "      <td>1</td>\n",
       "      <td>1</td>\n",
       "    </tr>\n",
       "    <tr>\n",
       "      <th>1</th>\n",
       "      <td>0</td>\n",
       "      <td>4</td>\n",
       "      <td>0</td>\n",
       "      <td>1</td>\n",
       "      <td>0</td>\n",
       "      <td>1</td>\n",
       "      <td>2.833213</td>\n",
       "      <td>2.197225</td>\n",
       "      <td>0</td>\n",
       "      <td>0</td>\n",
       "      <td>...</td>\n",
       "      <td>0</td>\n",
       "      <td>0</td>\n",
       "      <td>1</td>\n",
       "      <td>1</td>\n",
       "      <td>0</td>\n",
       "      <td>1</td>\n",
       "      <td>0</td>\n",
       "      <td>0</td>\n",
       "      <td>1</td>\n",
       "      <td>1</td>\n",
       "    </tr>\n",
       "    <tr>\n",
       "      <th>2</th>\n",
       "      <td>0</td>\n",
       "      <td>5</td>\n",
       "      <td>5</td>\n",
       "      <td>0</td>\n",
       "      <td>0</td>\n",
       "      <td>0</td>\n",
       "      <td>3.688879</td>\n",
       "      <td>1.945910</td>\n",
       "      <td>1</td>\n",
       "      <td>1</td>\n",
       "      <td>...</td>\n",
       "      <td>0</td>\n",
       "      <td>0</td>\n",
       "      <td>1</td>\n",
       "      <td>1</td>\n",
       "      <td>0</td>\n",
       "      <td>1</td>\n",
       "      <td>0</td>\n",
       "      <td>0</td>\n",
       "      <td>1</td>\n",
       "      <td>0</td>\n",
       "    </tr>\n",
       "    <tr>\n",
       "      <th>3</th>\n",
       "      <td>0</td>\n",
       "      <td>6</td>\n",
       "      <td>0</td>\n",
       "      <td>0</td>\n",
       "      <td>0</td>\n",
       "      <td>0</td>\n",
       "      <td>4.007333</td>\n",
       "      <td>1.098612</td>\n",
       "      <td>0</td>\n",
       "      <td>1</td>\n",
       "      <td>...</td>\n",
       "      <td>0</td>\n",
       "      <td>0</td>\n",
       "      <td>0</td>\n",
       "      <td>1</td>\n",
       "      <td>0</td>\n",
       "      <td>1</td>\n",
       "      <td>0</td>\n",
       "      <td>0</td>\n",
       "      <td>1</td>\n",
       "      <td>1</td>\n",
       "    </tr>\n",
       "    <tr>\n",
       "      <th>4</th>\n",
       "      <td>0</td>\n",
       "      <td>1</td>\n",
       "      <td>10</td>\n",
       "      <td>0</td>\n",
       "      <td>1</td>\n",
       "      <td>1</td>\n",
       "      <td>2.197225</td>\n",
       "      <td>1.791759</td>\n",
       "      <td>1</td>\n",
       "      <td>0</td>\n",
       "      <td>...</td>\n",
       "      <td>0</td>\n",
       "      <td>0</td>\n",
       "      <td>0</td>\n",
       "      <td>1</td>\n",
       "      <td>0</td>\n",
       "      <td>1</td>\n",
       "      <td>0</td>\n",
       "      <td>0</td>\n",
       "      <td>1</td>\n",
       "      <td>1</td>\n",
       "    </tr>\n",
       "  </tbody>\n",
       "</table>\n",
       "<p>5 rows × 571 columns</p>\n",
       "</div>"
      ],
      "text/plain": [
       "   AGE_Fir  INCOME_asi  HIT_asi  MALEMILI_asi  MALEVET_Fir  VIETVETS_Fou  \\\n",
       "0        0           3       10             2            1             1   \n",
       "1        0           4        0             1            0             1   \n",
       "2        0           5        5             0            0             0   \n",
       "3        0           6        0             0            0             0   \n",
       "4        0           1       10             0            1             1   \n",
       "\n",
       "   WWIIVETS_log  LOCALGOV_log  STATEGOV_Thi  FEDGOV_Fir       ...        \\\n",
       "0      3.332205      2.484907             1           1       ...         \n",
       "1      2.833213      2.197225             0           0       ...         \n",
       "2      3.688879      1.945910             1           1       ...         \n",
       "3      4.007333      1.098612             0           1       ...         \n",
       "4      2.197225      1.791759             1           0       ...         \n",
       "\n",
       "   RFA_22_S4A_asi  RFA_22_U1G_asi  RFA_2A_D_asi  MDMAUD_R_X_asi  \\\n",
       "0               0               0             1               1   \n",
       "1               0               0             1               1   \n",
       "2               0               0             1               1   \n",
       "3               0               0             0               1   \n",
       "4               0               0             0               1   \n",
       "\n",
       "   MDMAUD_F_5_asi  MDMAUD_F_X_asi  MDMAUD_A_M_asi  MDMAUD_A_T_asi  \\\n",
       "0               0               1               0               0   \n",
       "1               0               1               0               0   \n",
       "2               0               1               0               0   \n",
       "3               0               1               0               0   \n",
       "4               0               1               0               0   \n",
       "\n",
       "   MDMAUD_A_X_asi  GEOCODE2_A_asi  \n",
       "0               1               1  \n",
       "1               1               1  \n",
       "2               1               0  \n",
       "3               1               1  \n",
       "4               1               1  \n",
       "\n",
       "[5 rows x 571 columns]"
      ]
     },
     "execution_count": 18,
     "metadata": {},
     "output_type": "execute_result"
    }
   ],
   "source": [
    "df.drop('nonBinary', axis = 1, inplace = True)\n",
    "df.head()"
   ]
  },
  {
   "cell_type": "code",
   "execution_count": 19,
   "metadata": {
    "collapsed": false
   },
   "outputs": [],
   "source": [
    "# similar above but use log of target variable\n",
    "df_log = pd.DataFrame(index=kdd.index, columns=['nonBinary'])\n",
    "for col in nonBinary:\n",
    "    var = feat_eng(col)\n",
    "    temp = check_features(np.log(Y),var)\n",
    "    col_name = col + '_' + str(temp)[8:11]\n",
    "    df_log[col_name] = var[temp]"
   ]
  },
  {
   "cell_type": "code",
   "execution_count": 20,
   "metadata": {
    "collapsed": false
   },
   "outputs": [
    {
     "data": {
      "text/plain": [
       "(4829, 571)"
      ]
     },
     "execution_count": 20,
     "metadata": {},
     "output_type": "execute_result"
    }
   ],
   "source": [
    "df_log.drop('nonBinary', axis = 1, inplace = True)\n",
    "df_log.shape"
   ]
  },
  {
   "cell_type": "code",
   "execution_count": 21,
   "metadata": {
    "collapsed": false
   },
   "outputs": [],
   "source": [
    "new_kdd = pd.concat([df, kdd[binary_cols], pd.DataFrame(Y)], axis = 1)\n",
    "new_kdd_log = pd.concat([df_log, kdd[binary_cols], pd.DataFrame(np.log(Y))], axis = 1)\n",
    "\n",
    "new_kdd.to_csv('kdd_reg_fe.csv', header = True, index = False)\n",
    "new_kdd_log.to_csv('kdd_reg_fe_log.csv', header = True, index = False)"
   ]
  },
  {
   "cell_type": "markdown",
   "metadata": {},
   "source": [
    "### Repeat the same but removing highly correlated features"
   ]
  },
  {
   "cell_type": "code",
   "execution_count": 22,
   "metadata": {
    "collapsed": false
   },
   "outputs": [],
   "source": [
    "kdd.drop(correlated_feat, axis = 1, inplace = True)"
   ]
  },
  {
   "cell_type": "code",
   "execution_count": 23,
   "metadata": {
    "collapsed": false
   },
   "outputs": [
    {
     "data": {
      "text/plain": [
       "(4829, 1245)"
      ]
     },
     "execution_count": 23,
     "metadata": {},
     "output_type": "execute_result"
    }
   ],
   "source": [
    "kdd.shape"
   ]
  },
  {
   "cell_type": "code",
   "execution_count": 24,
   "metadata": {
    "collapsed": true
   },
   "outputs": [],
   "source": [
    "# generate X and Y for preditions\n",
    "Y = np.ravel(kdd.TARGET_D)  # to flatten array\n",
    "X = kdd.drop('TARGET_D', axis = 1)"
   ]
  },
  {
   "cell_type": "code",
   "execution_count": 25,
   "metadata": {
    "collapsed": false
   },
   "outputs": [
    {
     "data": {
      "text/plain": [
       "['MAILCODE', 'PEPSTRFL', 'maxadate', 'NOEXCH_0', 'NOEXCH_1']"
      ]
     },
     "execution_count": 25,
     "metadata": {},
     "output_type": "execute_result"
    }
   ],
   "source": [
    "# identify the binary columns\n",
    "binary_cols = []\n",
    "for col in X.columns:\n",
    "    if len(X[col].unique()) == 2:\n",
    "        if np.sum(X[col].unique() == np.array([0,1])) == 2:\n",
    "            binary_cols.append(col)\n",
    "binary_cols[0:5]"
   ]
  },
  {
   "cell_type": "code",
   "execution_count": 26,
   "metadata": {
    "collapsed": true
   },
   "outputs": [],
   "source": [
    "# Identify non binary cols\n",
    "nonBinary = []\n",
    "for col in X.columns:\n",
    "    if col in binary_cols:\n",
    "        pass\n",
    "    else:\n",
    "        nonBinary.append(col)"
   ]
  },
  {
   "cell_type": "code",
   "execution_count": 27,
   "metadata": {
    "collapsed": false
   },
   "outputs": [],
   "source": [
    "# select the best feature from the engineered ones\n",
    "df = pd.DataFrame(index=kdd.index, columns=['nonBinary'])\n",
    "for col in nonBinary:\n",
    "    var = feat_eng(col)\n",
    "    temp = check_features(Y,var)\n",
    "    col_name = col + '_' + str(temp)[8:11]\n",
    "    df[col_name] = var[temp]"
   ]
  },
  {
   "cell_type": "code",
   "execution_count": 28,
   "metadata": {
    "collapsed": true
   },
   "outputs": [],
   "source": [
    "df.drop('nonBinary', axis = 1, inplace = True)"
   ]
  },
  {
   "cell_type": "code",
   "execution_count": 29,
   "metadata": {
    "collapsed": true
   },
   "outputs": [],
   "source": [
    "# similar above but use log of target variable\n",
    "df_log = pd.DataFrame(index=kdd.index, columns=['nonBinary'])\n",
    "for col in nonBinary:\n",
    "    var = feat_eng(col)\n",
    "    temp = check_features(np.log(Y),var)\n",
    "    col_name = col + '_' + str(temp)[8:11]\n",
    "    df_log[col_name] = var[temp]"
   ]
  },
  {
   "cell_type": "code",
   "execution_count": 30,
   "metadata": {
    "collapsed": true
   },
   "outputs": [],
   "source": [
    "df_log.drop('nonBinary', axis = 1, inplace = True)"
   ]
  },
  {
   "cell_type": "code",
   "execution_count": 31,
   "metadata": {
    "collapsed": true
   },
   "outputs": [],
   "source": [
    "new_kdd = pd.concat([df, kdd[binary_cols], pd.DataFrame(Y)], axis = 1)\n",
    "new_kdd_log = pd.concat([df_log, kdd[binary_cols], pd.DataFrame(np.log(Y))], axis = 1)\n",
    "\n",
    "new_kdd.to_csv('kdd_reg_fe_small.csv', header = True, index = False)\n",
    "new_kdd_log.to_csv('kdd_reg_fe_log_small.csv', header = True, index = False)"
   ]
  }
 ],
 "metadata": {
  "kernelspec": {
   "display_name": "Python 3",
   "language": "python",
   "name": "python3"
  },
  "language_info": {
   "codemirror_mode": {
    "name": "ipython",
    "version": 3
   },
   "file_extension": ".py",
   "mimetype": "text/x-python",
   "name": "python",
   "nbconvert_exporter": "python",
   "pygments_lexer": "ipython3",
   "version": "3.4.4"
  }
 },
 "nbformat": 4,
 "nbformat_minor": 0
}
