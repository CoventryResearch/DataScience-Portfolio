{
 "cells": [
  {
   "cell_type": "code",
   "execution_count": 1,
   "metadata": {
    "collapsed": false
   },
   "outputs": [],
   "source": [
    "import numpy as np\n",
    "import pandas as pd"
   ]
  },
  {
   "cell_type": "code",
   "execution_count": 2,
   "metadata": {
    "collapsed": false
   },
   "outputs": [
    {
     "name": "stdout",
     "output_type": "stream",
     "text": [
      "/Users/Capgemini/Dropbox/Portfolio/DataScience-Portfolio/KDD-1998\n"
     ]
    }
   ],
   "source": [
    "cd Dropbox/Portfolio/DataScience-Portfolio/KDD-1998"
   ]
  },
  {
   "cell_type": "markdown",
   "metadata": {},
   "source": [
    "## Data Loading and Pre-Processing\n",
    "\n",
    "The data sets are in comma delimited format. The learning dataset, cup98LRN.txt, contains **95412** records and **481** fields. The first row of the data set contains the field names."
   ]
  },
  {
   "cell_type": "code",
   "execution_count": 3,
   "metadata": {
    "collapsed": false,
    "scrolled": false
   },
   "outputs": [
    {
     "name": "stderr",
     "output_type": "stream",
     "text": [
      "b'Skipping line 579: expected 481 fields, saw 961\\nSkipping line 1120: expected 481 fields, saw 961\\n'\n",
      "b'Skipping line 2250: expected 481 fields, saw 961\\nSkipping line 3325: expected 481 fields, saw 961\\n'\n",
      "b'Skipping line 5556: expected 481 fields, saw 961\\nSkipping line 5764: expected 481 fields, saw 961\\n'\n",
      "b'Skipping line 6611: expected 481 fields, saw 961\\nSkipping line 7220: expected 481 fields, saw 961\\nSkipping line 7877: expected 481 fields, saw 961\\n'\n",
      "b'Skipping line 9272: expected 481 fields, saw 961\\nSkipping line 9787: expected 481 fields, saw 961\\n'\n",
      "b'Skipping line 11962: expected 481 fields, saw 961\\nSkipping line 12195: expected 481 fields, saw 961\\n'\n",
      "b'Skipping line 12379: expected 481 fields, saw 961\\nSkipping line 12560: expected 481 fields, saw 1441\\nSkipping line 14103: expected 481 fields, saw 961\\n'\n",
      "b'Skipping line 17083: expected 481 fields, saw 961\\n'\n",
      "b'Skipping line 18634: expected 481 fields, saw 961\\nSkipping line 18698: expected 481 fields, saw 961\\nSkipping line 19161: expected 481 fields, saw 961\\nSkipping line 19545: expected 481 fields, saw 961\\n'\n",
      "b'Skipping line 20999: expected 481 fields, saw 961\\nSkipping line 21185: expected 481 fields, saw 961\\nSkipping line 21244: expected 481 fields, saw 961\\nSkipping line 22520: expected 481 fields, saw 961\\n'\n",
      "b'Skipping line 22822: expected 481 fields, saw 961\\nSkipping line 23461: expected 481 fields, saw 961\\n'\n",
      "b'Skipping line 24739: expected 481 fields, saw 961\\nSkipping line 26597: expected 481 fields, saw 961\\nSkipping line 26773: expected 481 fields, saw 961\\n'\n",
      "b'Skipping line 26952: expected 481 fields, saw 961\\nSkipping line 27982: expected 481 fields, saw 961\\nSkipping line 28378: expected 481 fields, saw 961\\nSkipping line 28739: expected 481 fields, saw 961\\n'\n",
      "b'Skipping line 29160: expected 481 fields, saw 961\\nSkipping line 30032: expected 481 fields, saw 961\\nSkipping line 30103: expected 481 fields, saw 961\\n'\n",
      "b'Skipping line 31148: expected 481 fields, saw 961\\nSkipping line 31389: expected 481 fields, saw 961\\nSkipping line 31469: expected 481 fields, saw 961\\nSkipping line 31629: expected 481 fields, saw 961\\n'\n",
      "b'Skipping line 34193: expected 481 fields, saw 961\\nSkipping line 34826: expected 481 fields, saw 961\\n'\n",
      "b'Skipping line 35622: expected 481 fields, saw 961\\nSkipping line 35635: expected 481 fields, saw 961\\nSkipping line 35743: expected 481 fields, saw 961\\nSkipping line 36365: expected 481 fields, saw 961\\nSkipping line 36944: expected 481 fields, saw 961\\nSkipping line 37070: expected 481 fields, saw 961\\n'\n",
      "b'Skipping line 37276: expected 481 fields, saw 961\\nSkipping line 37645: expected 481 fields, saw 961\\nSkipping line 38511: expected 481 fields, saw 961\\n'\n",
      "b'Skipping line 40056: expected 481 fields, saw 961\\n'\n",
      "b'Skipping line 41962: expected 481 fields, saw 961\\nSkipping line 42866: expected 481 fields, saw 961\\n'\n",
      "b'Skipping line 43642: expected 481 fields, saw 961\\nSkipping line 44400: expected 481 fields, saw 961\\nSkipping line 44974: expected 481 fields, saw 961\\n'\n",
      "b'Skipping line 47506: expected 481 fields, saw 961\\nSkipping line 47527: expected 481 fields, saw 961\\nSkipping line 48173: expected 481 fields, saw 961\\nSkipping line 48287: expected 481 fields, saw 961\\nSkipping line 48651: expected 481 fields, saw 961\\nSkipping line 48697: expected 481 fields, saw 961\\nSkipping line 48940: expected 481 fields, saw 961\\n'\n",
      "b'Skipping line 49779: expected 481 fields, saw 961\\nSkipping line 50179: expected 481 fields, saw 961\\nSkipping line 50256: expected 481 fields, saw 961\\nSkipping line 50619: expected 481 fields, saw 961\\nSkipping line 50850: expected 481 fields, saw 961\\nSkipping line 51200: expected 481 fields, saw 961\\nSkipping line 51350: expected 481 fields, saw 961\\n'\n",
      "b'Skipping line 51573: expected 481 fields, saw 961\\nSkipping line 51800: expected 481 fields, saw 961\\nSkipping line 52948: expected 481 fields, saw 961\\nSkipping line 53324: expected 481 fields, saw 961\\n'\n",
      "b'Skipping line 54147: expected 481 fields, saw 961\\nSkipping line 55062: expected 481 fields, saw 961\\n'\n",
      "b'Skipping line 56234: expected 481 fields, saw 961\\nSkipping line 56721: expected 481 fields, saw 961\\nSkipping line 56936: expected 481 fields, saw 961\\nSkipping line 57401: expected 481 fields, saw 961\\n'\n",
      "b'Skipping line 58964: expected 481 fields, saw 961\\nSkipping line 59616: expected 481 fields, saw 961\\n'\n",
      "b'Skipping line 60560: expected 481 fields, saw 961\\n'\n",
      "b'Skipping line 62125: expected 481 fields, saw 961\\n'\n",
      "b'Skipping line 64208: expected 481 fields, saw 961\\nSkipping line 64270: expected 481 fields, saw 961\\nSkipping line 64927: expected 481 fields, saw 961\\nSkipping line 65168: expected 481 fields, saw 961\\nSkipping line 65269: expected 481 fields, saw 961\\n'\n",
      "b'Skipping line 66463: expected 481 fields, saw 961\\nSkipping line 66571: expected 481 fields, saw 961\\nSkipping line 67119: expected 481 fields, saw 961\\n'\n",
      "b'Skipping line 68162: expected 481 fields, saw 961\\nSkipping line 69283: expected 481 fields, saw 961\\nSkipping line 69452: expected 481 fields, saw 961\\nSkipping line 69847: expected 481 fields, saw 961\\n'\n",
      "b'Skipping line 70556: expected 481 fields, saw 961\\n'\n",
      "b'Skipping line 73471: expected 481 fields, saw 961\\n'\n",
      "b'Skipping line 75018: expected 481 fields, saw 961\\nSkipping line 75345: expected 481 fields, saw 961\\nSkipping line 75867: expected 481 fields, saw 961\\n'\n",
      "b'Skipping line 76091: expected 481 fields, saw 961\\nSkipping line 76309: expected 481 fields, saw 961\\nSkipping line 76581: expected 481 fields, saw 961\\nSkipping line 76747: expected 481 fields, saw 961\\nSkipping line 77975: expected 481 fields, saw 961\\n'\n",
      "b'Skipping line 78599: expected 481 fields, saw 961\\nSkipping line 78762: expected 481 fields, saw 961\\nSkipping line 78870: expected 481 fields, saw 961\\n'\n",
      "b'Skipping line 81079: expected 481 fields, saw 961\\nSkipping line 81638: expected 481 fields, saw 961\\n'\n",
      "b'Skipping line 82408: expected 481 fields, saw 961\\nSkipping line 83004: expected 481 fields, saw 961\\nSkipping line 83358: expected 481 fields, saw 961\\nSkipping line 83742: expected 481 fields, saw 961\\nSkipping line 83821: expected 481 fields, saw 961\\nSkipping line 83927: expected 481 fields, saw 961\\n'\n",
      "b'Skipping line 84504: expected 481 fields, saw 961\\nSkipping line 84702: expected 481 fields, saw 961\\nSkipping line 86033: expected 481 fields, saw 961\\nSkipping line 86122: expected 481 fields, saw 961\\nSkipping line 86185: expected 481 fields, saw 961\\n'\n",
      "b'Skipping line 88960: expected 481 fields, saw 961\\nSkipping line 89866: expected 481 fields, saw 961\\n'\n",
      "b'Skipping line 90502: expected 481 fields, saw 961\\nSkipping line 90867: expected 481 fields, saw 961\\n'\n",
      "b'Skipping line 92743: expected 481 fields, saw 961\\nSkipping line 93496: expected 481 fields, saw 961\\n'\n",
      "b'Skipping line 94475: expected 481 fields, saw 961\\n'\n",
      "/Users/Capgemini/anaconda/lib/python3.4/site-packages/IPython/core/interactiveshell.py:2902: DtypeWarning: Columns (8) have mixed types. Specify dtype option on import or set low_memory=False.\n",
      "  interactivity=interactivity, compiler=compiler, result=result)\n"
     ]
    }
   ],
   "source": [
    "# load data, error_bad_lines ignores/skips lines with unusual number of fields, otherwise raises error\n",
    "kdd = pd.read_csv(\"cup98lrn.txt\", sep = ',', error_bad_lines=False)"
   ]
  },
  {
   "cell_type": "code",
   "execution_count": 4,
   "metadata": {
    "collapsed": false
   },
   "outputs": [
    {
     "data": {
      "text/plain": [
       "(95149, 481)"
      ]
     },
     "execution_count": 4,
     "metadata": {},
     "output_type": "execute_result"
    }
   ],
   "source": [
    "# check I get expected number of rows and columns\n",
    "# there are a few less rows than expected because some were skipped due to extra unexpected fields in txt\n",
    "kdd.shape"
   ]
  },
  {
   "cell_type": "code",
   "execution_count": 5,
   "metadata": {
    "collapsed": false
   },
   "outputs": [
    {
     "data": {
      "text/plain": [
       "Index(['ODATEDW', 'OSOURCE', 'TCODE', 'STATE', 'ZIP', 'MAILCODE', 'PVASTATE',\n",
       "       'DOB', 'NOEXCH', 'RECINHSE',\n",
       "       ...\n",
       "       'TARGET_D', 'HPHONE_D', 'RFA_2R', 'RFA_2F', 'RFA_2A', 'MDMAUD_R',\n",
       "       'MDMAUD_F', 'MDMAUD_A', 'CLUSTER2', 'GEOCODE2'],\n",
       "      dtype='object', length=481)"
      ]
     },
     "execution_count": 5,
     "metadata": {},
     "output_type": "execute_result"
    }
   ],
   "source": [
    "# check column names are the right ones\n",
    "kdd.columns"
   ]
  },
  {
   "cell_type": "code",
   "execution_count": 6,
   "metadata": {
    "collapsed": false
   },
   "outputs": [
    {
     "data": {
      "text/html": [
       "<div>\n",
       "<table border=\"1\" class=\"dataframe\">\n",
       "  <thead>\n",
       "    <tr style=\"text-align: right;\">\n",
       "      <th></th>\n",
       "      <th>ODATEDW</th>\n",
       "      <th>OSOURCE</th>\n",
       "      <th>TCODE</th>\n",
       "      <th>STATE</th>\n",
       "      <th>ZIP</th>\n",
       "      <th>MAILCODE</th>\n",
       "      <th>PVASTATE</th>\n",
       "      <th>DOB</th>\n",
       "      <th>NOEXCH</th>\n",
       "      <th>RECINHSE</th>\n",
       "      <th>...</th>\n",
       "      <th>TARGET_D</th>\n",
       "      <th>HPHONE_D</th>\n",
       "      <th>RFA_2R</th>\n",
       "      <th>RFA_2F</th>\n",
       "      <th>RFA_2A</th>\n",
       "      <th>MDMAUD_R</th>\n",
       "      <th>MDMAUD_F</th>\n",
       "      <th>MDMAUD_A</th>\n",
       "      <th>CLUSTER2</th>\n",
       "      <th>GEOCODE2</th>\n",
       "    </tr>\n",
       "  </thead>\n",
       "  <tbody>\n",
       "    <tr>\n",
       "      <th>0</th>\n",
       "      <td>8901</td>\n",
       "      <td>GRI</td>\n",
       "      <td>0</td>\n",
       "      <td>IL</td>\n",
       "      <td>61081</td>\n",
       "      <td></td>\n",
       "      <td></td>\n",
       "      <td>3712</td>\n",
       "      <td>0</td>\n",
       "      <td></td>\n",
       "      <td>...</td>\n",
       "      <td>0</td>\n",
       "      <td>0</td>\n",
       "      <td>L</td>\n",
       "      <td>4</td>\n",
       "      <td>E</td>\n",
       "      <td>X</td>\n",
       "      <td>X</td>\n",
       "      <td>X</td>\n",
       "      <td>39</td>\n",
       "      <td>C</td>\n",
       "    </tr>\n",
       "    <tr>\n",
       "      <th>1</th>\n",
       "      <td>9401</td>\n",
       "      <td>BOA</td>\n",
       "      <td>1</td>\n",
       "      <td>CA</td>\n",
       "      <td>91326</td>\n",
       "      <td></td>\n",
       "      <td></td>\n",
       "      <td>5202</td>\n",
       "      <td>0</td>\n",
       "      <td></td>\n",
       "      <td>...</td>\n",
       "      <td>0</td>\n",
       "      <td>0</td>\n",
       "      <td>L</td>\n",
       "      <td>2</td>\n",
       "      <td>G</td>\n",
       "      <td>X</td>\n",
       "      <td>X</td>\n",
       "      <td>X</td>\n",
       "      <td>1</td>\n",
       "      <td>A</td>\n",
       "    </tr>\n",
       "    <tr>\n",
       "      <th>2</th>\n",
       "      <td>9001</td>\n",
       "      <td>AMH</td>\n",
       "      <td>1</td>\n",
       "      <td>NC</td>\n",
       "      <td>27017</td>\n",
       "      <td></td>\n",
       "      <td></td>\n",
       "      <td>0</td>\n",
       "      <td>0</td>\n",
       "      <td></td>\n",
       "      <td>...</td>\n",
       "      <td>0</td>\n",
       "      <td>1</td>\n",
       "      <td>L</td>\n",
       "      <td>4</td>\n",
       "      <td>E</td>\n",
       "      <td>X</td>\n",
       "      <td>X</td>\n",
       "      <td>X</td>\n",
       "      <td>60</td>\n",
       "      <td>C</td>\n",
       "    </tr>\n",
       "    <tr>\n",
       "      <th>3</th>\n",
       "      <td>8701</td>\n",
       "      <td>BRY</td>\n",
       "      <td>0</td>\n",
       "      <td>CA</td>\n",
       "      <td>95953</td>\n",
       "      <td></td>\n",
       "      <td></td>\n",
       "      <td>2801</td>\n",
       "      <td>0</td>\n",
       "      <td></td>\n",
       "      <td>...</td>\n",
       "      <td>0</td>\n",
       "      <td>1</td>\n",
       "      <td>L</td>\n",
       "      <td>4</td>\n",
       "      <td>E</td>\n",
       "      <td>X</td>\n",
       "      <td>X</td>\n",
       "      <td>X</td>\n",
       "      <td>41</td>\n",
       "      <td>C</td>\n",
       "    </tr>\n",
       "    <tr>\n",
       "      <th>4</th>\n",
       "      <td>8601</td>\n",
       "      <td></td>\n",
       "      <td>0</td>\n",
       "      <td>FL</td>\n",
       "      <td>33176</td>\n",
       "      <td></td>\n",
       "      <td></td>\n",
       "      <td>2001</td>\n",
       "      <td>0</td>\n",
       "      <td>X</td>\n",
       "      <td>...</td>\n",
       "      <td>0</td>\n",
       "      <td>1</td>\n",
       "      <td>L</td>\n",
       "      <td>2</td>\n",
       "      <td>F</td>\n",
       "      <td>X</td>\n",
       "      <td>X</td>\n",
       "      <td>X</td>\n",
       "      <td>26</td>\n",
       "      <td>A</td>\n",
       "    </tr>\n",
       "  </tbody>\n",
       "</table>\n",
       "<p>5 rows × 481 columns</p>\n",
       "</div>"
      ],
      "text/plain": [
       "   ODATEDW OSOURCE  TCODE STATE    ZIP MAILCODE PVASTATE   DOB NOEXCH  \\\n",
       "0     8901     GRI      0    IL  61081                    3712      0   \n",
       "1     9401     BOA      1    CA  91326                    5202      0   \n",
       "2     9001     AMH      1    NC  27017                       0      0   \n",
       "3     8701     BRY      0    CA  95953                    2801      0   \n",
       "4     8601              0    FL  33176                    2001      0   \n",
       "\n",
       "  RECINHSE   ...    TARGET_D HPHONE_D RFA_2R RFA_2F RFA_2A MDMAUD_R  MDMAUD_F  \\\n",
       "0            ...           0        0      L      4      E        X         X   \n",
       "1            ...           0        0      L      2      G        X         X   \n",
       "2            ...           0        1      L      4      E        X         X   \n",
       "3            ...           0        1      L      4      E        X         X   \n",
       "4        X   ...           0        1      L      2      F        X         X   \n",
       "\n",
       "  MDMAUD_A CLUSTER2 GEOCODE2  \n",
       "0        X       39        C  \n",
       "1        X        1        A  \n",
       "2        X       60        C  \n",
       "3        X       41        C  \n",
       "4        X       26        A  \n",
       "\n",
       "[5 rows x 481 columns]"
      ]
     },
     "execution_count": 6,
     "metadata": {},
     "output_type": "execute_result"
    }
   ],
   "source": [
    "# quick look at the data\n",
    "kdd.head()"
   ]
  },
  {
   "cell_type": "markdown",
   "metadata": {},
   "source": [
    "## Data pre-processing following kdd website instructions for columns"
   ]
  },
  {
   "cell_type": "code",
   "execution_count": 7,
   "metadata": {
    "collapsed": false
   },
   "outputs": [],
   "source": [
    "# drop CONTROLN as it contains a unique identifier (not useful for predictions).\n",
    "kdd.drop('CONTROLN', inplace = True, axis = 1)\n",
    "\n",
    "# drop ZIP too many values, some with format errors. I could correct the format, but here I assume\n",
    "# that ZIP is not a good classifier.\n",
    "kdd.drop('ZIP', inplace = True, axis = 1)\n",
    "\n",
    "# drop OSOURCE too many categorical values, I assume not a good classifier.\n",
    "kdd.drop('OSOURCE', inplace = True, axis = 1)\n",
    "\n",
    "# drope TCODE and STATE, too many categorical values\n",
    "kdd.drop('TCODE', inplace = True, axis = 1)\n",
    "kdd.drop('STATE', inplace = True, axis = 1)\n",
    "\n",
    "# drope DOB, we have age as a variable, which is the same concept\n",
    "kdd.drop('DOB', inplace = True, axis = 1)"
   ]
  },
  {
   "cell_type": "code",
   "execution_count": 8,
   "metadata": {
    "collapsed": true
   },
   "outputs": [],
   "source": [
    "# column MAILCODE\n",
    "# \"\" indicates address ok, 'B' indicates bad address, will replace by 0 and 1 respectively\n",
    "kdd.MAILCODE = kdd['MAILCODE'].replace(r'\\s+', 0, regex=True)\n",
    "kdd.MAILCODE = kdd['MAILCODE'].replace('B', 1)\n",
    "\n",
    "# column PEPSTRFL: Indicates PEP Star RFA Status (whatever that means)\n",
    "# replace \"\" with 1 for yes and 'X' for 0 for no, according to KDD dictionary in kdd website\n",
    "kdd.PEPSTRFL = kdd['PEPSTRFL'].replace(r'\\s+', 1, regex=True)\n",
    "kdd.PEPSTRFL = kdd['PEPSTRFL'].replace('X', 0)  "
   ]
  },
  {
   "cell_type": "code",
   "execution_count": 9,
   "metadata": {
    "collapsed": true
   },
   "outputs": [],
   "source": [
    "# DATASRCE is categorical\n",
    "kdd.DATASRCE = kdd['DATASRCE'].replace(1, 'MetroMail')\n",
    "kdd.DATASRCE = kdd['DATASRCE'].replace(2, 'Polk')\n",
    "kdd.DATASRCE = kdd['DATASRCE'].replace(3, 'Both')"
   ]
  },
  {
   "cell_type": "code",
   "execution_count": 10,
   "metadata": {
    "collapsed": false
   },
   "outputs": [],
   "source": [
    "# following columns contain numbers that are arbitrary, they refer to a definition, or an arbitrary cluster, but\n",
    "# are not numerical in escence, so I cast as object\n",
    "\n",
    "kdd[['SOLP3', 'SOLIH', 'WEALTH2', 'LIFESRC', 'CLUSTER2']] = kdd[['SOLP3', 'SOLIH',\n",
    "                                                                         'WEALTH2', 'LIFESRC', \n",
    "                                                                         'CLUSTER2']].astype(object)\n"
   ]
  },
  {
   "cell_type": "code",
   "execution_count": 11,
   "metadata": {
    "collapsed": false
   },
   "outputs": [],
   "source": [
    "# Blank spaces are missing data: fill blank spaces with NaN\n",
    "kdd = kdd.replace(r'\\s+', np.nan, regex=True)"
   ]
  },
  {
   "cell_type": "code",
   "execution_count": 12,
   "metadata": {
    "collapsed": true
   },
   "outputs": [],
   "source": [
    "# Period numbers are missing data: I think they refer to number 99\n",
    "# Replace value 99 (it appears a lot in most of the columns) with NaN\n",
    "kdd = kdd.replace(99, np.nan)"
   ]
  },
  {
   "cell_type": "code",
   "execution_count": 13,
   "metadata": {
    "collapsed": true
   },
   "outputs": [],
   "source": [
    "# in AGE value 0 indicates missing value\n",
    "kdd.AGE = kdd.AGE.replace(0, np.nan)"
   ]
  },
  {
   "cell_type": "code",
   "execution_count": 14,
   "metadata": {
    "collapsed": false
   },
   "outputs": [
    {
     "data": {
      "text/html": [
       "<div>\n",
       "<table border=\"1\" class=\"dataframe\">\n",
       "  <thead>\n",
       "    <tr style=\"text-align: right;\">\n",
       "      <th></th>\n",
       "      <th>ODATEDW</th>\n",
       "      <th>MAILCODE</th>\n",
       "      <th>PVASTATE</th>\n",
       "      <th>NOEXCH</th>\n",
       "      <th>RECINHSE</th>\n",
       "      <th>RECP3</th>\n",
       "      <th>RECPGVG</th>\n",
       "      <th>RECSWEEP</th>\n",
       "      <th>MDMAUD</th>\n",
       "      <th>DOMAIN</th>\n",
       "      <th>...</th>\n",
       "      <th>TARGET_D</th>\n",
       "      <th>HPHONE_D</th>\n",
       "      <th>RFA_2R</th>\n",
       "      <th>RFA_2F</th>\n",
       "      <th>RFA_2A</th>\n",
       "      <th>MDMAUD_R</th>\n",
       "      <th>MDMAUD_F</th>\n",
       "      <th>MDMAUD_A</th>\n",
       "      <th>CLUSTER2</th>\n",
       "      <th>GEOCODE2</th>\n",
       "    </tr>\n",
       "  </thead>\n",
       "  <tbody>\n",
       "    <tr>\n",
       "      <th>0</th>\n",
       "      <td>8901</td>\n",
       "      <td>0</td>\n",
       "      <td>NaN</td>\n",
       "      <td>0</td>\n",
       "      <td>NaN</td>\n",
       "      <td>NaN</td>\n",
       "      <td>NaN</td>\n",
       "      <td>NaN</td>\n",
       "      <td>XXXX</td>\n",
       "      <td>T2</td>\n",
       "      <td>...</td>\n",
       "      <td>0</td>\n",
       "      <td>0</td>\n",
       "      <td>L</td>\n",
       "      <td>4</td>\n",
       "      <td>E</td>\n",
       "      <td>X</td>\n",
       "      <td>X</td>\n",
       "      <td>X</td>\n",
       "      <td>39</td>\n",
       "      <td>C</td>\n",
       "    </tr>\n",
       "    <tr>\n",
       "      <th>1</th>\n",
       "      <td>9401</td>\n",
       "      <td>0</td>\n",
       "      <td>NaN</td>\n",
       "      <td>0</td>\n",
       "      <td>NaN</td>\n",
       "      <td>NaN</td>\n",
       "      <td>NaN</td>\n",
       "      <td>NaN</td>\n",
       "      <td>XXXX</td>\n",
       "      <td>S1</td>\n",
       "      <td>...</td>\n",
       "      <td>0</td>\n",
       "      <td>0</td>\n",
       "      <td>L</td>\n",
       "      <td>2</td>\n",
       "      <td>G</td>\n",
       "      <td>X</td>\n",
       "      <td>X</td>\n",
       "      <td>X</td>\n",
       "      <td>1</td>\n",
       "      <td>A</td>\n",
       "    </tr>\n",
       "    <tr>\n",
       "      <th>2</th>\n",
       "      <td>9001</td>\n",
       "      <td>0</td>\n",
       "      <td>NaN</td>\n",
       "      <td>0</td>\n",
       "      <td>NaN</td>\n",
       "      <td>NaN</td>\n",
       "      <td>NaN</td>\n",
       "      <td>NaN</td>\n",
       "      <td>XXXX</td>\n",
       "      <td>R2</td>\n",
       "      <td>...</td>\n",
       "      <td>0</td>\n",
       "      <td>1</td>\n",
       "      <td>L</td>\n",
       "      <td>4</td>\n",
       "      <td>E</td>\n",
       "      <td>X</td>\n",
       "      <td>X</td>\n",
       "      <td>X</td>\n",
       "      <td>60</td>\n",
       "      <td>C</td>\n",
       "    </tr>\n",
       "    <tr>\n",
       "      <th>3</th>\n",
       "      <td>8701</td>\n",
       "      <td>0</td>\n",
       "      <td>NaN</td>\n",
       "      <td>0</td>\n",
       "      <td>NaN</td>\n",
       "      <td>NaN</td>\n",
       "      <td>NaN</td>\n",
       "      <td>NaN</td>\n",
       "      <td>XXXX</td>\n",
       "      <td>R2</td>\n",
       "      <td>...</td>\n",
       "      <td>0</td>\n",
       "      <td>1</td>\n",
       "      <td>L</td>\n",
       "      <td>4</td>\n",
       "      <td>E</td>\n",
       "      <td>X</td>\n",
       "      <td>X</td>\n",
       "      <td>X</td>\n",
       "      <td>41</td>\n",
       "      <td>C</td>\n",
       "    </tr>\n",
       "    <tr>\n",
       "      <th>4</th>\n",
       "      <td>8601</td>\n",
       "      <td>0</td>\n",
       "      <td>NaN</td>\n",
       "      <td>0</td>\n",
       "      <td>X</td>\n",
       "      <td>X</td>\n",
       "      <td>NaN</td>\n",
       "      <td>NaN</td>\n",
       "      <td>XXXX</td>\n",
       "      <td>S2</td>\n",
       "      <td>...</td>\n",
       "      <td>0</td>\n",
       "      <td>1</td>\n",
       "      <td>L</td>\n",
       "      <td>2</td>\n",
       "      <td>F</td>\n",
       "      <td>X</td>\n",
       "      <td>X</td>\n",
       "      <td>X</td>\n",
       "      <td>26</td>\n",
       "      <td>A</td>\n",
       "    </tr>\n",
       "  </tbody>\n",
       "</table>\n",
       "<p>5 rows × 475 columns</p>\n",
       "</div>"
      ],
      "text/plain": [
       "   ODATEDW  MAILCODE PVASTATE NOEXCH RECINHSE RECP3 RECPGVG RECSWEEP MDMAUD  \\\n",
       "0     8901         0      NaN      0      NaN   NaN     NaN      NaN   XXXX   \n",
       "1     9401         0      NaN      0      NaN   NaN     NaN      NaN   XXXX   \n",
       "2     9001         0      NaN      0      NaN   NaN     NaN      NaN   XXXX   \n",
       "3     8701         0      NaN      0      NaN   NaN     NaN      NaN   XXXX   \n",
       "4     8601         0      NaN      0        X     X     NaN      NaN   XXXX   \n",
       "\n",
       "  DOMAIN    ...    TARGET_D  HPHONE_D RFA_2R RFA_2F RFA_2A MDMAUD_R MDMAUD_F  \\\n",
       "0     T2    ...           0         0      L      4      E        X        X   \n",
       "1     S1    ...           0         0      L      2      G        X        X   \n",
       "2     R2    ...           0         1      L      4      E        X        X   \n",
       "3     R2    ...           0         1      L      4      E        X        X   \n",
       "4     S2    ...           0         1      L      2      F        X        X   \n",
       "\n",
       "  MDMAUD_A  CLUSTER2  GEOCODE2  \n",
       "0        X        39         C  \n",
       "1        X         1         A  \n",
       "2        X        60         C  \n",
       "3        X        41         C  \n",
       "4        X        26         A  \n",
       "\n",
       "[5 rows x 475 columns]"
      ]
     },
     "execution_count": 14,
     "metadata": {},
     "output_type": "execute_result"
    }
   ],
   "source": [
    "# another quick look to check blanks were filled with NaN\n",
    "kdd.head()"
   ]
  },
  {
   "cell_type": "code",
   "execution_count": 15,
   "metadata": {
    "collapsed": false
   },
   "outputs": [
    {
     "data": {
      "text/html": [
       "<div>\n",
       "<table border=\"1\" class=\"dataframe\">\n",
       "  <thead>\n",
       "    <tr style=\"text-align: right;\">\n",
       "      <th></th>\n",
       "      <th>POP901</th>\n",
       "      <th>POP90C1</th>\n",
       "      <th>ETH9</th>\n",
       "      <th>AGEC6</th>\n",
       "    </tr>\n",
       "  </thead>\n",
       "  <tbody>\n",
       "    <tr>\n",
       "      <th>0</th>\n",
       "      <td>992</td>\n",
       "      <td>0</td>\n",
       "      <td>0</td>\n",
       "      <td>11</td>\n",
       "    </tr>\n",
       "    <tr>\n",
       "      <th>1</th>\n",
       "      <td>3611</td>\n",
       "      <td>NaN</td>\n",
       "      <td>4</td>\n",
       "      <td>4</td>\n",
       "    </tr>\n",
       "    <tr>\n",
       "      <th>2</th>\n",
       "      <td>7001</td>\n",
       "      <td>0</td>\n",
       "      <td>0</td>\n",
       "      <td>10</td>\n",
       "    </tr>\n",
       "    <tr>\n",
       "      <th>3</th>\n",
       "      <td>640</td>\n",
       "      <td>0</td>\n",
       "      <td>0</td>\n",
       "      <td>7</td>\n",
       "    </tr>\n",
       "    <tr>\n",
       "      <th>4</th>\n",
       "      <td>2520</td>\n",
       "      <td>NaN</td>\n",
       "      <td>0</td>\n",
       "      <td>12</td>\n",
       "    </tr>\n",
       "    <tr>\n",
       "      <th>5</th>\n",
       "      <td>18172</td>\n",
       "      <td>81</td>\n",
       "      <td>0</td>\n",
       "      <td>6</td>\n",
       "    </tr>\n",
       "  </tbody>\n",
       "</table>\n",
       "</div>"
      ],
      "text/plain": [
       "   POP901  POP90C1  ETH9  AGEC6\n",
       "0     992        0     0     11\n",
       "1    3611      NaN     4      4\n",
       "2    7001        0     0     10\n",
       "3     640        0     0      7\n",
       "4    2520      NaN     0     12\n",
       "5   18172       81     0      6"
      ]
     },
     "execution_count": 15,
     "metadata": {},
     "output_type": "execute_result"
    }
   ],
   "source": [
    "# check that 99s were replaced by NaNs\n",
    "kdd[['POP901', 'POP90C1', 'ETH9', 'AGEC6']].head(6)"
   ]
  },
  {
   "cell_type": "markdown",
   "metadata": {},
   "source": [
    "## Missing Data\n",
    "\n",
    "The website indicates that unless a column contains 99.5% NaN, it should be kept for analysis.\n",
    "For this excercise I will keep only columns that contain less than 70% NaN. I will discard the rest."
   ]
  },
  {
   "cell_type": "code",
   "execution_count": 16,
   "metadata": {
    "collapsed": false
   },
   "outputs": [
    {
     "data": {
      "text/plain": [
       "66604.3"
      ]
     },
     "execution_count": 16,
     "metadata": {},
     "output_type": "execute_result"
    }
   ],
   "source": [
    "# How many NaNs per column should I use as threshold?\n",
    ".70*95149"
   ]
  },
  {
   "cell_type": "code",
   "execution_count": 17,
   "metadata": {
    "collapsed": false
   },
   "outputs": [
    {
     "data": {
      "text/plain": [
       "ODATEDW         0\n",
       "MAILCODE        0\n",
       "PVASTATE    93697\n",
       "NOEXCH          7\n",
       "RECINHSE    88465\n",
       "RECP3       93137\n",
       "RECPGVG     95035\n",
       "RECSWEEP    93539\n",
       "MDMAUD          0\n",
       "DOMAIN       2300\n",
       "dtype: int64"
      ]
     },
     "execution_count": 17,
     "metadata": {},
     "output_type": "execute_result"
    }
   ],
   "source": [
    "kdd.isnull().sum().head(10)"
   ]
  },
  {
   "cell_type": "code",
   "execution_count": 18,
   "metadata": {
    "collapsed": false
   },
   "outputs": [
    {
     "data": {
      "text/plain": [
       "(95149, 359)"
      ]
     },
     "execution_count": 18,
     "metadata": {},
     "output_type": "execute_result"
    }
   ],
   "source": [
    "# drop columns with 70% NaNs ( we kept 359 from the original 481 columns)\n",
    "kdd.dropna(axis=1, how='any', thresh=66000, inplace=True)\n",
    "kdd.shape"
   ]
  },
  {
   "cell_type": "code",
   "execution_count": 19,
   "metadata": {
    "collapsed": false,
    "scrolled": false
   },
   "outputs": [],
   "source": [
    "# make vector with column names\n",
    "kdd_cols = kdd.columns"
   ]
  },
  {
   "cell_type": "code",
   "execution_count": 20,
   "metadata": {
    "collapsed": false
   },
   "outputs": [
    {
     "name": "stdout",
     "output_type": "stream",
     "text": [
      "RFA_2R\n"
     ]
    }
   ],
   "source": [
    "# find categorical columns with constant values\n",
    "for col in kdd_cols:\n",
    "    if kdd[col].dtype == 'O':\n",
    "        if kdd[col].describe()['unique']==1:\n",
    "            print(col)\n",
    "    "
   ]
  },
  {
   "cell_type": "code",
   "execution_count": 21,
   "metadata": {
    "collapsed": false
   },
   "outputs": [
    {
     "data": {
      "text/plain": [
       "count     95149\n",
       "unique        1\n",
       "top           L\n",
       "freq      95149\n",
       "Name: RFA_2R, dtype: object"
      ]
     },
     "execution_count": 21,
     "metadata": {},
     "output_type": "execute_result"
    }
   ],
   "source": [
    "# verify that same value appears in all rows\n",
    "kdd['RFA_2R'].describe()"
   ]
  },
  {
   "cell_type": "code",
   "execution_count": 22,
   "metadata": {
    "collapsed": true
   },
   "outputs": [],
   "source": [
    "# column contains same value in all rows: drop\n",
    "kdd.drop('RFA_2R', inplace = True, axis = 1)"
   ]
  },
  {
   "cell_type": "code",
   "execution_count": 23,
   "metadata": {
    "collapsed": false
   },
   "outputs": [],
   "source": [
    "# colummns ADATE more often than not, contain same date (same year with a difference of 1-2 months)\n",
    "# I will consider a date with a difference of a couple of months as same date. To identify them:\n",
    "# if std is smaller than 0.5 it means that there is only a few days difference => remove\n",
    "\n",
    "cols_to_remove = []\n",
    "for num in range(2,23):\n",
    "    col = 'ADATE' + '_' + str(num)\n",
    "    if num in [5, 10, 13, 15, 20, 21]: # I eliminated these cols already as full of NaN\n",
    "        pass\n",
    "    elif kdd[col].describe()['std'] < 0.5:\n",
    "        cols_to_remove.append(col)"
   ]
  },
  {
   "cell_type": "code",
   "execution_count": 24,
   "metadata": {
    "collapsed": false
   },
   "outputs": [
    {
     "data": {
      "text/plain": [
       "['ADATE_2',\n",
       " 'ADATE_3',\n",
       " 'ADATE_6',\n",
       " 'ADATE_9',\n",
       " 'ADATE_14',\n",
       " 'ADATE_16',\n",
       " 'ADATE_17',\n",
       " 'ADATE_19']"
      ]
     },
     "execution_count": 24,
     "metadata": {},
     "output_type": "execute_result"
    }
   ],
   "source": [
    "cols_to_remove"
   ]
  },
  {
   "cell_type": "code",
   "execution_count": 25,
   "metadata": {
    "collapsed": false
   },
   "outputs": [
    {
     "data": {
      "text/plain": [
       "count    83930.000000\n",
       "mean      9510.927154\n",
       "std          0.362431\n",
       "min       9509.000000\n",
       "25%       9511.000000\n",
       "50%       9511.000000\n",
       "75%       9511.000000\n",
       "max       9511.000000\n",
       "Name: ADATE_9, dtype: float64"
      ]
     },
     "execution_count": 25,
     "metadata": {},
     "output_type": "execute_result"
    }
   ],
   "source": [
    "# to show what I mean by same date and std < 0.5\n",
    "kdd.ADATE_9.describe()"
   ]
  },
  {
   "cell_type": "code",
   "execution_count": 26,
   "metadata": {
    "collapsed": false
   },
   "outputs": [
    {
     "data": {
      "text/plain": [
       "(95149, 350)"
      ]
     },
     "execution_count": 26,
     "metadata": {},
     "output_type": "execute_result"
    }
   ],
   "source": [
    "# remove cols and verify\n",
    "kdd.drop(cols_to_remove, inplace = True, axis = 1)\n",
    "kdd.shape"
   ]
  },
  {
   "cell_type": "markdown",
   "metadata": {},
   "source": [
    "## Process NaN:\n",
    "\n",
    "* For categorical variables, replace NaN with most frequent element\n",
    "* For numerical variables, replace NaN with median"
   ]
  },
  {
   "cell_type": "code",
   "execution_count": 27,
   "metadata": {
    "collapsed": false
   },
   "outputs": [
    {
     "data": {
      "text/html": [
       "<div>\n",
       "<table border=\"1\" class=\"dataframe\">\n",
       "  <thead>\n",
       "    <tr style=\"text-align: right;\">\n",
       "      <th></th>\n",
       "      <th>col</th>\n",
       "    </tr>\n",
       "  </thead>\n",
       "  <tbody>\n",
       "    <tr>\n",
       "      <th>ODATEDW</th>\n",
       "      <td>0</td>\n",
       "    </tr>\n",
       "    <tr>\n",
       "      <th>MAILCODE</th>\n",
       "      <td>0</td>\n",
       "    </tr>\n",
       "    <tr>\n",
       "      <th>NOEXCH</th>\n",
       "      <td>7</td>\n",
       "    </tr>\n",
       "    <tr>\n",
       "      <th>MDMAUD</th>\n",
       "      <td>0</td>\n",
       "    </tr>\n",
       "    <tr>\n",
       "      <th>DOMAIN</th>\n",
       "      <td>2300</td>\n",
       "    </tr>\n",
       "    <tr>\n",
       "      <th>CLUSTER</th>\n",
       "      <td>2300</td>\n",
       "    </tr>\n",
       "    <tr>\n",
       "      <th>AGE</th>\n",
       "      <td>23579</td>\n",
       "    </tr>\n",
       "    <tr>\n",
       "      <th>HOMEOWNR</th>\n",
       "      <td>22138</td>\n",
       "    </tr>\n",
       "    <tr>\n",
       "      <th>INCOME</th>\n",
       "      <td>21198</td>\n",
       "    </tr>\n",
       "    <tr>\n",
       "      <th>GENDER</th>\n",
       "      <td>2944</td>\n",
       "    </tr>\n",
       "  </tbody>\n",
       "</table>\n",
       "</div>"
      ],
      "text/plain": [
       "            col\n",
       "ODATEDW       0\n",
       "MAILCODE      0\n",
       "NOEXCH        7\n",
       "MDMAUD        0\n",
       "DOMAIN     2300\n",
       "CLUSTER    2300\n",
       "AGE       23579\n",
       "HOMEOWNR  22138\n",
       "INCOME    21198\n",
       "GENDER     2944"
      ]
     },
     "execution_count": 27,
     "metadata": {},
     "output_type": "execute_result"
    }
   ],
   "source": [
    "null_df = pd.DataFrame(kdd.isnull().sum(), columns = ['col'])\n",
    "null_df.head(10)"
   ]
  },
  {
   "cell_type": "code",
   "execution_count": 28,
   "metadata": {
    "collapsed": false
   },
   "outputs": [],
   "source": [
    "# make vector of columns with NaN\n",
    "cols_with_nulls = null_df['col'][null_df['col'] > 0].index"
   ]
  },
  {
   "cell_type": "code",
   "execution_count": 29,
   "metadata": {
    "collapsed": false
   },
   "outputs": [],
   "source": [
    "for col in cols_with_nulls:\n",
    "    if kdd[col].dtype == 'O':\n",
    "        most_frequent_value = kdd[col].describe()['top']\n",
    "        kdd[col].fillna(most_frequent_value, inplace = True)\n",
    "    else:\n",
    "        fill_with_median = kdd[col].median()\n",
    "        kdd[col].fillna(fill_with_median, inplace = True)"
   ]
  },
  {
   "cell_type": "code",
   "execution_count": 30,
   "metadata": {
    "collapsed": false
   },
   "outputs": [
    {
     "data": {
      "text/plain": [
       "ODATEDW     0\n",
       "MAILCODE    0\n",
       "NOEXCH      0\n",
       "MDMAUD      0\n",
       "DOMAIN      0\n",
       "CLUSTER     0\n",
       "AGE         0\n",
       "HOMEOWNR    0\n",
       "INCOME      0\n",
       "GENDER      0\n",
       "HIT         0\n",
       "DATASRCE    0\n",
       "MALEMILI    0\n",
       "MALEVET     0\n",
       "VIETVETS    0\n",
       "WWIIVETS    0\n",
       "LOCALGOV    0\n",
       "STATEGOV    0\n",
       "FEDGOV      0\n",
       "PEPSTRFL    0\n",
       "dtype: int64"
      ]
     },
     "execution_count": 30,
     "metadata": {},
     "output_type": "execute_result"
    }
   ],
   "source": [
    "# check that nulls are filled\n",
    "kdd.isnull().sum().head(20)"
   ]
  },
  {
   "cell_type": "markdown",
   "metadata": {},
   "source": [
    "## Replace date variables with years passed from date to 1997"
   ]
  },
  {
   "cell_type": "code",
   "execution_count": 31,
   "metadata": {
    "collapsed": true
   },
   "outputs": [],
   "source": [
    "# I will calculate age respect to 1997\n",
    "def date_to_years(date):\n",
    "    yob = str(date)[0:2]\n",
    "    age = 97 - int(yob)\n",
    "    return age"
   ]
  },
  {
   "cell_type": "code",
   "execution_count": 32,
   "metadata": {
    "collapsed": false
   },
   "outputs": [
    {
     "data": {
      "text/plain": [
       "count    95149.000000\n",
       "mean         1.067221\n",
       "std          0.250405\n",
       "min          1.000000\n",
       "25%          1.000000\n",
       "50%          1.000000\n",
       "75%          1.000000\n",
       "max          2.000000\n",
       "Name: adate8, dtype: float64"
      ]
     },
     "execution_count": 32,
     "metadata": {},
     "output_type": "execute_result"
    }
   ],
   "source": [
    "kdd['adate4'] = kdd['ADATE_4'].apply(date_to_years)\n",
    "kdd['adate7'] = kdd['ADATE_7'].apply(date_to_years)\n",
    "kdd['adate8'] = kdd['ADATE_8'].apply(date_to_years)\n",
    "kdd['adate11'] = kdd['ADATE_11'].apply(date_to_years)\n",
    "kdd['adate12'] = kdd['ADATE_12'].apply(date_to_years)\n",
    "kdd['adate18'] = kdd['ADATE_18'].apply(date_to_years)\n",
    "kdd['adate22'] = kdd['ADATE_22'].apply(date_to_years)\n",
    "kdd['odatedw'] = kdd['ODATEDW'].apply(date_to_years)\n",
    "kdd['maxadate'] = kdd['MAXADATE'].apply(date_to_years)\n",
    "kdd['minrdate'] = kdd['MINRDATE'].apply(date_to_years)\n",
    "kdd['maxrdate'] = kdd['MAXRDATE'].apply(date_to_years)\n",
    "kdd['lastdate'] = kdd['LASTDATE'].apply(date_to_years)\n",
    "kdd['fistdate'] = kdd['FISTDATE'].apply(date_to_years)\n",
    "kdd['nextdate'] = kdd['NEXTDATE'].apply(date_to_years)\n",
    "\n",
    "kdd.adate8.describe()"
   ]
  },
  {
   "cell_type": "code",
   "execution_count": 33,
   "metadata": {
    "collapsed": false
   },
   "outputs": [],
   "source": [
    "kdd.drop(['ADATE_4', 'ADATE_7', 'ADATE_8', 'ADATE_11', 'ADATE_12','ADATE_18','ADATE_22',\n",
    "         'ODATEDW', 'MAXADATE', 'MINRDATE', 'MAXRDATE', 'LASTDATE', 'FISTDATE', 'NEXTDATE'],\n",
    "         inplace = True, axis = 1)"
   ]
  },
  {
   "cell_type": "markdown",
   "metadata": {},
   "source": [
    "## Prepare the datasets for regression and classification\n",
    "\n",
    "* For regression I will try to predict the amount donated. The dataset will include only those people that donated (value 1 in column TARGET_B)\n",
    "* For classfication, I will use the entire dataset"
   ]
  },
  {
   "cell_type": "code",
   "execution_count": 34,
   "metadata": {
    "collapsed": false
   },
   "outputs": [
    {
     "name": "stderr",
     "output_type": "stream",
     "text": [
      "/Users/Capgemini/anaconda/lib/python3.4/site-packages/ipykernel/__main__.py:2: SettingWithCopyWarning: \n",
      "A value is trying to be set on a copy of a slice from a DataFrame\n",
      "\n",
      "See the caveats in the documentation: http://pandas.pydata.org/pandas-docs/stable/indexing.html#indexing-view-versus-copy\n",
      "  from ipykernel import kernelapp as app\n"
     ]
    },
    {
     "data": {
      "text/plain": [
       "(4829, 349)"
      ]
     },
     "execution_count": 34,
     "metadata": {},
     "output_type": "execute_result"
    }
   ],
   "source": [
    "data_reg = kdd.loc[(kdd.TARGET_B == 1)]\n",
    "data_reg.drop('TARGET_B', axis = 1, inplace = True)\n",
    "data_reg.shape"
   ]
  },
  {
   "cell_type": "code",
   "execution_count": 35,
   "metadata": {
    "collapsed": false
   },
   "outputs": [
    {
     "data": {
      "text/plain": [
       "(95149, 349)"
      ]
     },
     "execution_count": 35,
     "metadata": {},
     "output_type": "execute_result"
    }
   ],
   "source": [
    "data_class = kdd.drop('TARGET_D', axis = 1)\n",
    "data_class.shape"
   ]
  },
  {
   "cell_type": "code",
   "execution_count": 36,
   "metadata": {
    "collapsed": true
   },
   "outputs": [],
   "source": [
    "data_reg.to_csv('data_reg.csv', header = True, index = False)\n",
    "data_class.to_csv('data_class.csv', header = True, index = False)"
   ]
  },
  {
   "cell_type": "markdown",
   "metadata": {},
   "source": [
    "## Make dummy from categorical variables"
   ]
  },
  {
   "cell_type": "code",
   "execution_count": 37,
   "metadata": {
    "collapsed": false
   },
   "outputs": [
    {
     "data": {
      "text/plain": [
       "27"
      ]
     },
     "execution_count": 37,
     "metadata": {},
     "output_type": "execute_result"
    }
   ],
   "source": [
    "# How many categorical variables?\n",
    "cols = kdd.columns\n",
    "count = 0\n",
    "cat_vars = []\n",
    "for col in cols:\n",
    "    if kdd[col].dtype == 'O':\n",
    "        count = count + 1\n",
    "        cat_vars.append(col)\n",
    "count"
   ]
  },
  {
   "cell_type": "code",
   "execution_count": 38,
   "metadata": {
    "collapsed": false
   },
   "outputs": [
    {
     "data": {
      "text/plain": [
       "(95149, 1915)"
      ]
     },
     "execution_count": 38,
     "metadata": {},
     "output_type": "execute_result"
    }
   ],
   "source": [
    "# make dummies\n",
    "kdd_dummies = pd.get_dummies(kdd[cat_vars])\n",
    "\n",
    "# drop categorical vars\n",
    "kdd.drop(cat_vars, axis = 1, inplace = True)\n",
    "\n",
    "# concatenate original dataframe with dummies df\n",
    "kdd = pd.concat([kdd, kdd_dummies], axis = 1)\n",
    "kdd.shape"
   ]
  },
  {
   "cell_type": "code",
   "execution_count": 39,
   "metadata": {
    "collapsed": false
   },
   "outputs": [
    {
     "name": "stderr",
     "output_type": "stream",
     "text": [
      "/Users/Capgemini/anaconda/lib/python3.4/site-packages/ipykernel/__main__.py:3: SettingWithCopyWarning: \n",
      "A value is trying to be set on a copy of a slice from a DataFrame\n",
      "\n",
      "See the caveats in the documentation: http://pandas.pydata.org/pandas-docs/stable/indexing.html#indexing-view-versus-copy\n",
      "  app.launch_new_instance()\n"
     ]
    }
   ],
   "source": [
    "# data for regression with dummies\n",
    "data_reg = kdd.loc[(kdd.TARGET_B == 1)]\n",
    "data_reg.drop('TARGET_B', axis = 1, inplace = True)\n",
    "\n",
    "# data for classification\n",
    "data_class = kdd.drop('TARGET_D', axis = 1)\n",
    "\n",
    "# save both\n",
    "data_reg.to_csv('data_reg2.csv', header = True, index = False)\n",
    "data_class.to_csv('data_class2.csv', header = True, index = False)\n",
    "kdd.to_csv('kdd.csv', header = True, index = False)"
   ]
  }
 ],
 "metadata": {
  "kernelspec": {
   "display_name": "Python 3",
   "language": "python",
   "name": "python3"
  },
  "language_info": {
   "codemirror_mode": {
    "name": "ipython",
    "version": 3
   },
   "file_extension": ".py",
   "mimetype": "text/x-python",
   "name": "python",
   "nbconvert_exporter": "python",
   "pygments_lexer": "ipython3",
   "version": "3.4.4"
  }
 },
 "nbformat": 4,
 "nbformat_minor": 0
}
